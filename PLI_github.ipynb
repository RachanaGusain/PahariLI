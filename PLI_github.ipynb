{
  "cells": [
    {
      "cell_type": "markdown",
      "metadata": {
        "id": "view-in-github",
        "colab_type": "text"
      },
      "source": [
        "<a href=\"https://colab.research.google.com/github/RachanaGusain/PahariLI/blob/main/PLI_github.ipynb\" target=\"_parent\"><img src=\"https://colab.research.google.com/assets/colab-badge.svg\" alt=\"Open In Colab\"/></a>"
      ]
    },
    {
      "cell_type": "markdown",
      "metadata": {
        "id": "Dnubs-Nnb3cw"
      },
      "source": [
        "# Language Identification"
      ]
    },
    {
      "cell_type": "markdown",
      "metadata": {
        "id": "CoUDvx56cWhQ"
      },
      "source": [
        "## Import Libraries"
      ]
    },
    {
      "cell_type": "code",
      "execution_count": 1,
      "metadata": {
        "id": "mOXkvuQk_JuF"
      },
      "outputs": [],
      "source": [
        "import os\n",
        "import numpy as np\n",
        "import csv\n",
        "import pandas as pd\n",
        "import regex as re\n",
        "import sklearn\n",
        "from time import time\n",
        "from scipy import sparse\n",
        "from sklearn.decomposition import TruncatedSVD\n",
        "from sklearn.pipeline import make_pipeline\n",
        "from sklearn.manifold import TSNE, MDS\n",
        "from sklearn.model_selection import GridSearchCV, RepeatedStratifiedKFold\n",
        "from sklearn.svm import LinearSVC\n",
        "from sklearn.naive_bayes import MultinomialNB\n",
        "from sklearn.preprocessing import StandardScaler\n",
        "from sklearn.feature_extraction.text import CountVectorizer, TfidfTransformer\n",
        "from sklearn import metrics\n",
        "from collections import namedtuple, defaultdict, Counter, OrderedDict\n",
        "from itertools import tee, islice, accumulate, combinations\n",
        "from tabulate import tabulate\n",
        "import matplotlib.ticker as ticker\n",
        "import matplotlib.pyplot as plt\n",
        "%matplotlib inline"
      ]
    },
    {
      "cell_type": "code",
      "execution_count": null,
      "metadata": {
        "id": "UCR2dz2q7XiJ"
      },
      "outputs": [],
      "source": [
        "import matplotlib\n",
        "import matplotlib.ticker as ticker\n",
        "import matplotlib.pyplot as plt\n",
        "matplotlib.use(\"pgf\")\n",
        "\n",
        "plt.rcParams.update({\n",
        "    \"pgf.texsystem\": 'pdflatex',\n",
        "    \"font.family\": 'serif',  # use serif/main font for text elements\n",
        "    \"text.usetex\": True,     # use inline math for ticks\n",
        "    \"pgf.rcfonts\": False,    # don't setup fonts from rc parameters\n",
        "    \"font.size\": 8,          # Use 8pt font in plots, to match 10pt font in document\n",
        "    \"axes.titlesize\": 8,\n",
        "    \"axes.labelsize\": 8,\n",
        "    \"xtick.labelsize\": 6,    # Make the legend/label fonts a little smaller\n",
        "    \"ytick.labelsize\": 6,\n",
        "    \"xtick.major.size\": 0,\n",
        "    \"ytick.major.size\": 0,\n",
        "    \"xtick.major.width\": 0.2,\n",
        "    \"ytick.major.width\": 0.2,\n",
        "    \"xtick.minor.size\" : 1.5,\n",
        "    \"xtick.minor.width\": 0.2,\n",
        "    \"xtick.direction\": 'in',\n",
        "    \"lines.markersize\": 1.2,\n",
        "    \"lines.linewidth\": 0.5,\n",
        "    \"hatch.linewidth\": 0.4,\n",
        "    \"patch.linewidth\": 0.2,\n",
        "    \"patch.edgecolor\": 'k',\n",
        "    \"patch.facecolor\": 'w',\n",
        "    \"axes.prop_cycle\": matplotlib.cycler('color', 'k'),\n",
        "    \"hatch.color\": 'k',\n",
        "    \"axes.linewidth\": 0.2,\n",
        "    \"grid.linewidth\": 0.2,\n",
        "    \"legend.fontsize\": 6,\n",
        "    \"legend.title_fontsize\": 6,\n",
        "    \"legend.labelspacing\": 0.1,\n",
        "    \"legend.handlelength\": 3,\n",
        "    \"legend.frameon\": False,\n",
        "    \"savefig.dpi\": 1000,\n",
        "    \"savefig.bbox\": 'tight',\n",
        "    \"savefig.format\": 'pdf'\n",
        "    })\n",
        "\n",
        "%matplotlib inline"
      ]
    },
    {
      "cell_type": "code",
      "execution_count": null,
      "metadata": {
        "colab": {
          "base_uri": "https://localhost:8080/"
        },
        "id": "RBx2NeyG4vxM",
        "outputId": "df2cd460-147f-4063-ebc7-6a3a362bdb3f"
      },
      "outputs": [
        {
          "output_type": "stream",
          "name": "stdout",
          "text": [
            "Reading package lists... Done\n",
            "Building dependency tree       \n",
            "Reading state information... Done\n",
            "The following packages were automatically installed and are no longer required:\n",
            "  cuda-command-line-tools-10-0 cuda-command-line-tools-10-1\n",
            "  cuda-command-line-tools-11-0 cuda-compiler-10-0 cuda-compiler-10-1\n",
            "  cuda-compiler-11-0 cuda-cuobjdump-10-0 cuda-cuobjdump-10-1\n",
            "  cuda-cuobjdump-11-0 cuda-cupti-10-0 cuda-cupti-10-1 cuda-cupti-11-0\n",
            "  cuda-cupti-dev-11-0 cuda-documentation-10-0 cuda-documentation-10-1\n",
            "  cuda-documentation-11-0 cuda-documentation-11-1 cuda-gdb-10-0 cuda-gdb-10-1\n",
            "  cuda-gdb-11-0 cuda-gpu-library-advisor-10-0 cuda-gpu-library-advisor-10-1\n",
            "  cuda-libraries-10-0 cuda-libraries-10-1 cuda-libraries-11-0\n",
            "  cuda-memcheck-10-0 cuda-memcheck-10-1 cuda-memcheck-11-0 cuda-nsight-10-0\n",
            "  cuda-nsight-10-1 cuda-nsight-11-0 cuda-nsight-11-1 cuda-nsight-compute-10-0\n",
            "  cuda-nsight-compute-10-1 cuda-nsight-compute-11-0 cuda-nsight-compute-11-1\n",
            "  cuda-nsight-systems-10-1 cuda-nsight-systems-11-0 cuda-nsight-systems-11-1\n",
            "  cuda-nvcc-10-0 cuda-nvcc-10-1 cuda-nvcc-11-0 cuda-nvdisasm-10-0\n",
            "  cuda-nvdisasm-10-1 cuda-nvdisasm-11-0 cuda-nvml-dev-10-0 cuda-nvml-dev-10-1\n",
            "  cuda-nvml-dev-11-0 cuda-nvprof-10-0 cuda-nvprof-10-1 cuda-nvprof-11-0\n",
            "  cuda-nvprune-10-0 cuda-nvprune-10-1 cuda-nvprune-11-0 cuda-nvtx-10-0\n",
            "  cuda-nvtx-10-1 cuda-nvtx-11-0 cuda-nvvp-10-0 cuda-nvvp-10-1 cuda-nvvp-11-0\n",
            "  cuda-nvvp-11-1 cuda-samples-10-0 cuda-samples-10-1 cuda-samples-11-0\n",
            "  cuda-samples-11-1 cuda-sanitizer-11-0 cuda-sanitizer-api-10-1\n",
            "  cuda-toolkit-10-0 cuda-toolkit-10-1 cuda-toolkit-11-0 cuda-toolkit-11-1\n",
            "  cuda-tools-10-0 cuda-tools-10-1 cuda-tools-11-0 cuda-tools-11-1\n",
            "  cuda-visual-tools-10-0 cuda-visual-tools-10-1 cuda-visual-tools-11-0\n",
            "  cuda-visual-tools-11-1 default-jre dkms freeglut3 freeglut3-dev\n",
            "  keyboard-configuration libargon2-0 libcap2 libcryptsetup12\n",
            "  libdevmapper1.02.1 libfontenc1 libip4tc0 libjansson4 libnvidia-cfg1-510\n",
            "  libnvidia-common-460 libnvidia-common-510 libnvidia-extra-510\n",
            "  libnvidia-fbc1-510 libnvidia-gl-510 libpam-systemd libpolkit-agent-1-0\n",
            "  libpolkit-backend-1-0 libpolkit-gobject-1-0 libxfont2 libxi-dev libxkbfile1\n",
            "  libxmu-dev libxmu-headers libxnvctrl0 libxtst6 nsight-compute-2020.2.1\n",
            "  nsight-compute-2022.1.0 nsight-systems-2020.3.2 nsight-systems-2020.3.4\n",
            "  nsight-systems-2021.5.2 nvidia-dkms-510 nvidia-kernel-common-510\n",
            "  nvidia-kernel-source-510 nvidia-modprobe nvidia-settings openjdk-11-jre\n",
            "  policykit-1 policykit-1-gnome python3-xkit screen-resolution-extra systemd\n",
            "  systemd-sysv udev x11-xkb-utils xserver-common xserver-xorg-core-hwe-18.04\n",
            "  xserver-xorg-video-nvidia-510\n",
            "Use 'sudo apt autoremove' to remove them.\n",
            "The following additional packages will be installed:\n",
            "  fonts-droid-fallback fonts-lmodern fonts-noto-mono libcupsfilters1\n",
            "  libcupsimage2 libgs9 libgs9-common libijs-0.35 libjbig2dec0 libkpathsea6\n",
            "  libpotrace0 libptexenc1 libsynctex1 libtexlua52 libtexluajit2 libzzip-0-13\n",
            "  lmodern poppler-data t1utils tex-common texlive-base texlive-binaries\n",
            "  texlive-latex-base\n",
            "Suggested packages:\n",
            "  fonts-noto poppler-utils ghostscript fonts-japanese-mincho\n",
            "  | fonts-ipafont-mincho fonts-japanese-gothic | fonts-ipafont-gothic\n",
            "  fonts-arphic-ukai fonts-arphic-uming fonts-nanum debhelper gv\n",
            "  | postscript-viewer perl-tk xpdf-reader | pdf-viewer texlive-latex-base-doc\n",
            "  texlive-latex-recommended-doc texlive-pstricks\n",
            "The following NEW packages will be installed:\n",
            "  fonts-droid-fallback fonts-lmodern fonts-noto-mono libcupsfilters1\n",
            "  libcupsimage2 libgs9 libgs9-common libijs-0.35 libjbig2dec0 libkpathsea6\n",
            "  libpotrace0 libptexenc1 libsynctex1 libtexlua52 libtexluajit2 libzzip-0-13\n",
            "  lmodern poppler-data t1utils tex-common texlive-base texlive-binaries\n",
            "  texlive-latex-base texlive-latex-recommended\n",
            "0 upgraded, 24 newly installed, 0 to remove and 39 not upgraded.\n",
            "Need to get 68.4 MB of archives.\n",
            "After this operation, 223 MB of additional disk space will be used.\n",
            "Get:1 http://archive.ubuntu.com/ubuntu bionic/main amd64 fonts-droid-fallback all 1:6.0.1r16-1.1 [1,805 kB]\n",
            "Get:2 http://archive.ubuntu.com/ubuntu bionic/main amd64 poppler-data all 0.4.8-2 [1,479 kB]\n",
            "Get:3 http://archive.ubuntu.com/ubuntu bionic/main amd64 tex-common all 6.09 [33.0 kB]\n",
            "Get:4 http://archive.ubuntu.com/ubuntu bionic/main amd64 fonts-lmodern all 2.004.5-3 [4,551 kB]\n",
            "Get:5 http://archive.ubuntu.com/ubuntu bionic/main amd64 fonts-noto-mono all 20171026-2 [75.5 kB]\n",
            "Get:6 http://archive.ubuntu.com/ubuntu bionic-updates/main amd64 libcupsfilters1 amd64 1.20.2-0ubuntu3.1 [108 kB]\n",
            "Get:7 http://archive.ubuntu.com/ubuntu bionic-updates/main amd64 libcupsimage2 amd64 2.2.7-1ubuntu2.8 [18.6 kB]\n",
            "Get:8 http://archive.ubuntu.com/ubuntu bionic/main amd64 libijs-0.35 amd64 0.35-13 [15.5 kB]\n",
            "Get:9 http://archive.ubuntu.com/ubuntu bionic/main amd64 libjbig2dec0 amd64 0.13-6 [55.9 kB]\n",
            "Get:10 http://archive.ubuntu.com/ubuntu bionic-updates/main amd64 libgs9-common all 9.26~dfsg+0-0ubuntu0.18.04.15 [5,092 kB]\n",
            "Get:11 http://archive.ubuntu.com/ubuntu bionic-updates/main amd64 libgs9 amd64 9.26~dfsg+0-0ubuntu0.18.04.15 [2,265 kB]\n",
            "Get:12 http://archive.ubuntu.com/ubuntu bionic-updates/main amd64 libkpathsea6 amd64 2017.20170613.44572-8ubuntu0.1 [54.9 kB]\n",
            "Get:13 http://archive.ubuntu.com/ubuntu bionic/main amd64 libpotrace0 amd64 1.14-2 [17.4 kB]\n",
            "Get:14 http://archive.ubuntu.com/ubuntu bionic-updates/main amd64 libptexenc1 amd64 2017.20170613.44572-8ubuntu0.1 [34.5 kB]\n",
            "Get:15 http://archive.ubuntu.com/ubuntu bionic-updates/main amd64 libsynctex1 amd64 2017.20170613.44572-8ubuntu0.1 [41.4 kB]\n",
            "Get:16 http://archive.ubuntu.com/ubuntu bionic-updates/main amd64 libtexlua52 amd64 2017.20170613.44572-8ubuntu0.1 [91.2 kB]\n",
            "Get:17 http://archive.ubuntu.com/ubuntu bionic-updates/main amd64 libtexluajit2 amd64 2017.20170613.44572-8ubuntu0.1 [230 kB]\n",
            "Get:18 http://archive.ubuntu.com/ubuntu bionic-updates/main amd64 libzzip-0-13 amd64 0.13.62-3.1ubuntu0.18.04.1 [26.0 kB]\n",
            "Get:19 http://archive.ubuntu.com/ubuntu bionic/main amd64 lmodern all 2.004.5-3 [9,631 kB]\n",
            "Get:20 http://archive.ubuntu.com/ubuntu bionic/main amd64 t1utils amd64 1.41-2 [56.0 kB]\n",
            "Get:21 http://archive.ubuntu.com/ubuntu bionic-updates/main amd64 texlive-binaries amd64 2017.20170613.44572-8ubuntu0.1 [8,179 kB]\n",
            "Get:22 http://archive.ubuntu.com/ubuntu bionic/main amd64 texlive-base all 2017.20180305-1 [18.7 MB]\n",
            "Get:23 http://archive.ubuntu.com/ubuntu bionic/main amd64 texlive-latex-base all 2017.20180305-1 [951 kB]\n",
            "Get:24 http://archive.ubuntu.com/ubuntu bionic/main amd64 texlive-latex-recommended all 2017.20180305-1 [14.9 MB]\n",
            "Fetched 68.4 MB in 4s (17.8 MB/s)\n",
            "debconf: unable to initialize frontend: Dialog\n",
            "debconf: (No usable dialog-like program is installed, so the dialog based frontend cannot be used. at /usr/share/perl5/Debconf/FrontEnd/Dialog.pm line 76, <> line 24.)\n",
            "debconf: falling back to frontend: Readline\n",
            "debconf: unable to initialize frontend: Readline\n",
            "debconf: (This frontend requires a controlling tty.)\n",
            "debconf: falling back to frontend: Teletype\n",
            "dpkg-preconfigure: unable to re-open stdin: \n",
            "Selecting previously unselected package fonts-droid-fallback.\n",
            "(Reading database ... 155113 files and directories currently installed.)\n",
            "Preparing to unpack .../00-fonts-droid-fallback_1%3a6.0.1r16-1.1_all.deb ...\n",
            "Unpacking fonts-droid-fallback (1:6.0.1r16-1.1) ...\n",
            "Selecting previously unselected package poppler-data.\n",
            "Preparing to unpack .../01-poppler-data_0.4.8-2_all.deb ...\n",
            "Unpacking poppler-data (0.4.8-2) ...\n",
            "Selecting previously unselected package tex-common.\n",
            "Preparing to unpack .../02-tex-common_6.09_all.deb ...\n",
            "Unpacking tex-common (6.09) ...\n",
            "Selecting previously unselected package fonts-lmodern.\n",
            "Preparing to unpack .../03-fonts-lmodern_2.004.5-3_all.deb ...\n",
            "Unpacking fonts-lmodern (2.004.5-3) ...\n",
            "Selecting previously unselected package fonts-noto-mono.\n",
            "Preparing to unpack .../04-fonts-noto-mono_20171026-2_all.deb ...\n",
            "Unpacking fonts-noto-mono (20171026-2) ...\n",
            "Selecting previously unselected package libcupsfilters1:amd64.\n",
            "Preparing to unpack .../05-libcupsfilters1_1.20.2-0ubuntu3.1_amd64.deb ...\n",
            "Unpacking libcupsfilters1:amd64 (1.20.2-0ubuntu3.1) ...\n",
            "Selecting previously unselected package libcupsimage2:amd64.\n",
            "Preparing to unpack .../06-libcupsimage2_2.2.7-1ubuntu2.8_amd64.deb ...\n",
            "Unpacking libcupsimage2:amd64 (2.2.7-1ubuntu2.8) ...\n",
            "Selecting previously unselected package libijs-0.35:amd64.\n",
            "Preparing to unpack .../07-libijs-0.35_0.35-13_amd64.deb ...\n",
            "Unpacking libijs-0.35:amd64 (0.35-13) ...\n",
            "Selecting previously unselected package libjbig2dec0:amd64.\n",
            "Preparing to unpack .../08-libjbig2dec0_0.13-6_amd64.deb ...\n",
            "Unpacking libjbig2dec0:amd64 (0.13-6) ...\n",
            "Selecting previously unselected package libgs9-common.\n",
            "Preparing to unpack .../09-libgs9-common_9.26~dfsg+0-0ubuntu0.18.04.15_all.deb ...\n",
            "Unpacking libgs9-common (9.26~dfsg+0-0ubuntu0.18.04.15) ...\n",
            "Selecting previously unselected package libgs9:amd64.\n",
            "Preparing to unpack .../10-libgs9_9.26~dfsg+0-0ubuntu0.18.04.15_amd64.deb ...\n",
            "Unpacking libgs9:amd64 (9.26~dfsg+0-0ubuntu0.18.04.15) ...\n",
            "Selecting previously unselected package libkpathsea6:amd64.\n",
            "Preparing to unpack .../11-libkpathsea6_2017.20170613.44572-8ubuntu0.1_amd64.deb ...\n",
            "Unpacking libkpathsea6:amd64 (2017.20170613.44572-8ubuntu0.1) ...\n",
            "Selecting previously unselected package libpotrace0.\n",
            "Preparing to unpack .../12-libpotrace0_1.14-2_amd64.deb ...\n",
            "Unpacking libpotrace0 (1.14-2) ...\n",
            "Selecting previously unselected package libptexenc1:amd64.\n",
            "Preparing to unpack .../13-libptexenc1_2017.20170613.44572-8ubuntu0.1_amd64.deb ...\n",
            "Unpacking libptexenc1:amd64 (2017.20170613.44572-8ubuntu0.1) ...\n",
            "Selecting previously unselected package libsynctex1:amd64.\n",
            "Preparing to unpack .../14-libsynctex1_2017.20170613.44572-8ubuntu0.1_amd64.deb ...\n",
            "Unpacking libsynctex1:amd64 (2017.20170613.44572-8ubuntu0.1) ...\n",
            "Selecting previously unselected package libtexlua52:amd64.\n",
            "Preparing to unpack .../15-libtexlua52_2017.20170613.44572-8ubuntu0.1_amd64.deb ...\n",
            "Unpacking libtexlua52:amd64 (2017.20170613.44572-8ubuntu0.1) ...\n",
            "Selecting previously unselected package libtexluajit2:amd64.\n",
            "Preparing to unpack .../16-libtexluajit2_2017.20170613.44572-8ubuntu0.1_amd64.deb ...\n",
            "Unpacking libtexluajit2:amd64 (2017.20170613.44572-8ubuntu0.1) ...\n",
            "Selecting previously unselected package libzzip-0-13:amd64.\n",
            "Preparing to unpack .../17-libzzip-0-13_0.13.62-3.1ubuntu0.18.04.1_amd64.deb ...\n",
            "Unpacking libzzip-0-13:amd64 (0.13.62-3.1ubuntu0.18.04.1) ...\n",
            "Selecting previously unselected package lmodern.\n",
            "Preparing to unpack .../18-lmodern_2.004.5-3_all.deb ...\n",
            "Unpacking lmodern (2.004.5-3) ...\n",
            "Selecting previously unselected package t1utils.\n",
            "Preparing to unpack .../19-t1utils_1.41-2_amd64.deb ...\n",
            "Unpacking t1utils (1.41-2) ...\n",
            "Selecting previously unselected package texlive-binaries.\n",
            "Preparing to unpack .../20-texlive-binaries_2017.20170613.44572-8ubuntu0.1_amd64.deb ...\n",
            "Unpacking texlive-binaries (2017.20170613.44572-8ubuntu0.1) ...\n",
            "Selecting previously unselected package texlive-base.\n",
            "Preparing to unpack .../21-texlive-base_2017.20180305-1_all.deb ...\n",
            "Unpacking texlive-base (2017.20180305-1) ...\n",
            "Selecting previously unselected package texlive-latex-base.\n",
            "Preparing to unpack .../22-texlive-latex-base_2017.20180305-1_all.deb ...\n",
            "Unpacking texlive-latex-base (2017.20180305-1) ...\n",
            "Selecting previously unselected package texlive-latex-recommended.\n",
            "Preparing to unpack .../23-texlive-latex-recommended_2017.20180305-1_all.deb ...\n",
            "Unpacking texlive-latex-recommended (2017.20180305-1) ...\n",
            "Setting up libgs9-common (9.26~dfsg+0-0ubuntu0.18.04.15) ...\n",
            "Setting up libkpathsea6:amd64 (2017.20170613.44572-8ubuntu0.1) ...\n",
            "Setting up libtexlua52:amd64 (2017.20170613.44572-8ubuntu0.1) ...\n",
            "Setting up fonts-droid-fallback (1:6.0.1r16-1.1) ...\n",
            "Setting up libsynctex1:amd64 (2017.20170613.44572-8ubuntu0.1) ...\n",
            "Setting up libptexenc1:amd64 (2017.20170613.44572-8ubuntu0.1) ...\n",
            "Setting up tex-common (6.09) ...\n",
            "debconf: unable to initialize frontend: Dialog\n",
            "debconf: (No usable dialog-like program is installed, so the dialog based frontend cannot be used. at /usr/share/perl5/Debconf/FrontEnd/Dialog.pm line 76.)\n",
            "debconf: falling back to frontend: Readline\n",
            "update-language: texlive-base not installed and configured, doing nothing!\n",
            "Setting up poppler-data (0.4.8-2) ...\n",
            "Setting up fonts-noto-mono (20171026-2) ...\n",
            "Setting up libcupsfilters1:amd64 (1.20.2-0ubuntu3.1) ...\n",
            "Setting up libcupsimage2:amd64 (2.2.7-1ubuntu2.8) ...\n",
            "Setting up libjbig2dec0:amd64 (0.13-6) ...\n",
            "Setting up t1utils (1.41-2) ...\n",
            "Setting up libijs-0.35:amd64 (0.35-13) ...\n",
            "Setting up libpotrace0 (1.14-2) ...\n",
            "Setting up libzzip-0-13:amd64 (0.13.62-3.1ubuntu0.18.04.1) ...\n",
            "Setting up libgs9:amd64 (9.26~dfsg+0-0ubuntu0.18.04.15) ...\n",
            "Setting up libtexluajit2:amd64 (2017.20170613.44572-8ubuntu0.1) ...\n",
            "Setting up fonts-lmodern (2.004.5-3) ...\n",
            "Setting up texlive-binaries (2017.20170613.44572-8ubuntu0.1) ...\n",
            "update-alternatives: using /usr/bin/xdvi-xaw to provide /usr/bin/xdvi.bin (xdvi.bin) in auto mode\n",
            "update-alternatives: using /usr/bin/bibtex.original to provide /usr/bin/bibtex (bibtex) in auto mode\n",
            "Setting up texlive-base (2017.20180305-1) ...\n",
            "mktexlsr: Updating /var/lib/texmf/ls-R-TEXLIVEDIST... \n",
            "mktexlsr: Updating /var/lib/texmf/ls-R-TEXMFMAIN... \n",
            "mktexlsr: Updating /var/lib/texmf/ls-R... \n",
            "mktexlsr: Done.\n",
            "tl-paper: setting paper size for dvips to a4: /var/lib/texmf/dvips/config/config-paper.ps\n",
            "tl-paper: setting paper size for dvipdfmx to a4: /var/lib/texmf/dvipdfmx/dvipdfmx-paper.cfg\n",
            "tl-paper: setting paper size for xdvi to a4: /var/lib/texmf/xdvi/XDvi-paper\n",
            "tl-paper: setting paper size for pdftex to a4: /var/lib/texmf/tex/generic/config/pdftexconfig.tex\n",
            "debconf: unable to initialize frontend: Dialog\n",
            "debconf: (No usable dialog-like program is installed, so the dialog based frontend cannot be used. at /usr/share/perl5/Debconf/FrontEnd/Dialog.pm line 76.)\n",
            "debconf: falling back to frontend: Readline\n",
            "Setting up texlive-latex-base (2017.20180305-1) ...\n",
            "Setting up lmodern (2.004.5-3) ...\n",
            "Setting up texlive-latex-recommended (2017.20180305-1) ...\n",
            "Processing triggers for libc-bin (2.27-3ubuntu1.3) ...\n",
            "/sbin/ldconfig.real: /usr/local/lib/python3.7/dist-packages/ideep4py/lib/libmkldnn.so.0 is not a symbolic link\n",
            "\n",
            "Processing triggers for man-db (2.8.3-2ubuntu0.1) ...\n",
            "Processing triggers for fontconfig (2.12.6-0ubuntu2) ...\n",
            "Processing triggers for mime-support (3.60ubuntu1) ...\n",
            "Processing triggers for tex-common (6.09) ...\n",
            "debconf: unable to initialize frontend: Dialog\n",
            "debconf: (No usable dialog-like program is installed, so the dialog based frontend cannot be used. at /usr/share/perl5/Debconf/FrontEnd/Dialog.pm line 76.)\n",
            "debconf: falling back to frontend: Readline\n",
            "Running updmap-sys. This may take some time... done.\n",
            "Running mktexlsr /var/lib/texmf ... done.\n",
            "Building format(s) --all.\n",
            "\tThis may take some time... done.\n",
            "Reading package lists... Done\n",
            "Building dependency tree       \n",
            "Reading state information... Done\n",
            "The following packages were automatically installed and are no longer required:\n",
            "  cuda-command-line-tools-10-0 cuda-command-line-tools-10-1\n",
            "  cuda-command-line-tools-11-0 cuda-compiler-10-0 cuda-compiler-10-1\n",
            "  cuda-compiler-11-0 cuda-cuobjdump-10-0 cuda-cuobjdump-10-1\n",
            "  cuda-cuobjdump-11-0 cuda-cupti-10-0 cuda-cupti-10-1 cuda-cupti-11-0\n",
            "  cuda-cupti-dev-11-0 cuda-documentation-10-0 cuda-documentation-10-1\n",
            "  cuda-documentation-11-0 cuda-documentation-11-1 cuda-gdb-10-0 cuda-gdb-10-1\n",
            "  cuda-gdb-11-0 cuda-gpu-library-advisor-10-0 cuda-gpu-library-advisor-10-1\n",
            "  cuda-libraries-10-0 cuda-libraries-10-1 cuda-libraries-11-0\n",
            "  cuda-memcheck-10-0 cuda-memcheck-10-1 cuda-memcheck-11-0 cuda-nsight-10-0\n",
            "  cuda-nsight-10-1 cuda-nsight-11-0 cuda-nsight-11-1 cuda-nsight-compute-10-0\n",
            "  cuda-nsight-compute-10-1 cuda-nsight-compute-11-0 cuda-nsight-compute-11-1\n",
            "  cuda-nsight-systems-10-1 cuda-nsight-systems-11-0 cuda-nsight-systems-11-1\n",
            "  cuda-nvcc-10-0 cuda-nvcc-10-1 cuda-nvcc-11-0 cuda-nvdisasm-10-0\n",
            "  cuda-nvdisasm-10-1 cuda-nvdisasm-11-0 cuda-nvml-dev-10-0 cuda-nvml-dev-10-1\n",
            "  cuda-nvml-dev-11-0 cuda-nvprof-10-0 cuda-nvprof-10-1 cuda-nvprof-11-0\n",
            "  cuda-nvprune-10-0 cuda-nvprune-10-1 cuda-nvprune-11-0 cuda-nvtx-10-0\n",
            "  cuda-nvtx-10-1 cuda-nvtx-11-0 cuda-nvvp-10-0 cuda-nvvp-10-1 cuda-nvvp-11-0\n",
            "  cuda-nvvp-11-1 cuda-samples-10-0 cuda-samples-10-1 cuda-samples-11-0\n",
            "  cuda-samples-11-1 cuda-sanitizer-11-0 cuda-sanitizer-api-10-1\n",
            "  cuda-toolkit-10-0 cuda-toolkit-10-1 cuda-toolkit-11-0 cuda-toolkit-11-1\n",
            "  cuda-tools-10-0 cuda-tools-10-1 cuda-tools-11-0 cuda-tools-11-1\n",
            "  cuda-visual-tools-10-0 cuda-visual-tools-10-1 cuda-visual-tools-11-0\n",
            "  cuda-visual-tools-11-1 default-jre dkms freeglut3 freeglut3-dev\n",
            "  keyboard-configuration libargon2-0 libcap2 libcryptsetup12\n",
            "  libdevmapper1.02.1 libfontenc1 libip4tc0 libjansson4 libnvidia-cfg1-510\n",
            "  libnvidia-common-460 libnvidia-common-510 libnvidia-extra-510\n",
            "  libnvidia-fbc1-510 libnvidia-gl-510 libpam-systemd libpolkit-agent-1-0\n",
            "  libpolkit-backend-1-0 libpolkit-gobject-1-0 libxfont2 libxi-dev libxkbfile1\n",
            "  libxmu-dev libxmu-headers libxnvctrl0 libxtst6 nsight-compute-2020.2.1\n",
            "  nsight-compute-2022.1.0 nsight-systems-2020.3.2 nsight-systems-2020.3.4\n",
            "  nsight-systems-2021.5.2 nvidia-dkms-510 nvidia-kernel-common-510\n",
            "  nvidia-kernel-source-510 nvidia-modprobe nvidia-settings openjdk-11-jre\n",
            "  policykit-1 policykit-1-gnome python3-xkit screen-resolution-extra systemd\n",
            "  systemd-sysv udev x11-xkb-utils xserver-common xserver-xorg-core-hwe-18.04\n",
            "  xserver-xorg-video-nvidia-510\n",
            "Use 'sudo apt autoremove' to remove them.\n",
            "The following additional packages will be installed:\n",
            "  fonts-lato fonts-texgyre javascript-common libjs-jquery libruby2.5\n",
            "  preview-latex-style rake ruby ruby-did-you-mean ruby-minitest\n",
            "  ruby-net-telnet ruby-power-assert ruby-test-unit ruby2.5\n",
            "  rubygems-integration tex-gyre texlive-fonts-recommended texlive-pictures\n",
            "  texlive-plain-generic tipa\n",
            "Suggested packages:\n",
            "  apache2 | lighttpd | httpd ri ruby-dev bundler texlive-fonts-recommended-doc\n",
            "  python-pygments icc-profiles libfile-which-perl\n",
            "  libspreadsheet-parseexcel-perl texlive-latex-extra-doc dot2tex prerex\n",
            "  ruby-tcltk | libtcltk-ruby texlive-pictures-doc vprerex\n",
            "The following NEW packages will be installed:\n",
            "  fonts-lato fonts-texgyre javascript-common libjs-jquery libruby2.5\n",
            "  preview-latex-style rake ruby ruby-did-you-mean ruby-minitest\n",
            "  ruby-net-telnet ruby-power-assert ruby-test-unit ruby2.5\n",
            "  rubygems-integration tex-gyre texlive-fonts-recommended texlive-latex-extra\n",
            "  texlive-pictures texlive-plain-generic tipa\n",
            "0 upgraded, 21 newly installed, 0 to remove and 39 not upgraded.\n",
            "Need to get 66.6 MB of archives.\n",
            "After this operation, 216 MB of additional disk space will be used.\n",
            "Get:1 http://archive.ubuntu.com/ubuntu bionic/main amd64 fonts-lato all 2.0-2 [2,698 kB]\n",
            "Get:2 http://archive.ubuntu.com/ubuntu bionic/universe amd64 fonts-texgyre all 20160520-1 [8,761 kB]\n",
            "Get:3 http://archive.ubuntu.com/ubuntu bionic/main amd64 javascript-common all 11 [6,066 B]\n",
            "Get:4 http://archive.ubuntu.com/ubuntu bionic/main amd64 libjs-jquery all 3.2.1-1 [152 kB]\n",
            "Get:5 http://archive.ubuntu.com/ubuntu bionic/main amd64 rubygems-integration all 1.11 [4,994 B]\n",
            "Get:6 http://archive.ubuntu.com/ubuntu bionic-updates/main amd64 ruby2.5 amd64 2.5.1-1ubuntu1.11 [48.6 kB]\n",
            "Get:7 http://archive.ubuntu.com/ubuntu bionic/main amd64 ruby amd64 1:2.5.1 [5,712 B]\n",
            "Get:8 http://archive.ubuntu.com/ubuntu bionic-updates/main amd64 rake all 12.3.1-1ubuntu0.1 [44.9 kB]\n",
            "Get:9 http://archive.ubuntu.com/ubuntu bionic/main amd64 ruby-did-you-mean all 1.2.0-2 [9,700 B]\n",
            "Get:10 http://archive.ubuntu.com/ubuntu bionic/main amd64 ruby-minitest all 5.10.3-1 [38.6 kB]\n",
            "Get:11 http://archive.ubuntu.com/ubuntu bionic/main amd64 ruby-net-telnet all 0.1.1-2 [12.6 kB]\n",
            "Get:12 http://archive.ubuntu.com/ubuntu bionic/main amd64 ruby-power-assert all 0.3.0-1 [7,952 B]\n",
            "Get:13 http://archive.ubuntu.com/ubuntu bionic/main amd64 ruby-test-unit all 3.2.5-1 [61.1 kB]\n",
            "Get:14 http://archive.ubuntu.com/ubuntu bionic-updates/main amd64 libruby2.5 amd64 2.5.1-1ubuntu1.11 [3,072 kB]\n",
            "Get:15 http://archive.ubuntu.com/ubuntu bionic/main amd64 preview-latex-style all 11.91-1ubuntu1 [185 kB]\n",
            "Get:16 http://archive.ubuntu.com/ubuntu bionic/universe amd64 tex-gyre all 20160520-1 [4,998 kB]\n",
            "Get:17 http://archive.ubuntu.com/ubuntu bionic/universe amd64 texlive-fonts-recommended all 2017.20180305-1 [5,262 kB]\n",
            "Get:18 http://archive.ubuntu.com/ubuntu bionic/universe amd64 texlive-pictures all 2017.20180305-1 [4,026 kB]\n",
            "Get:19 http://archive.ubuntu.com/ubuntu bionic/universe amd64 texlive-latex-extra all 2017.20180305-2 [10.6 MB]\n",
            "Get:20 http://archive.ubuntu.com/ubuntu bionic/universe amd64 texlive-plain-generic all 2017.20180305-2 [23.6 MB]\n",
            "Get:21 http://archive.ubuntu.com/ubuntu bionic/universe amd64 tipa all 2:1.3-20 [2,978 kB]\n",
            "Fetched 66.6 MB in 7s (10.2 MB/s)\n",
            "debconf: unable to initialize frontend: Dialog\n",
            "debconf: (No usable dialog-like program is installed, so the dialog based frontend cannot be used. at /usr/share/perl5/Debconf/FrontEnd/Dialog.pm line 76, <> line 21.)\n",
            "debconf: falling back to frontend: Readline\n",
            "debconf: unable to initialize frontend: Readline\n",
            "debconf: (This frontend requires a controlling tty.)\n",
            "debconf: falling back to frontend: Teletype\n",
            "dpkg-preconfigure: unable to re-open stdin: \n",
            "Selecting previously unselected package fonts-lato.\n",
            "(Reading database ... 162447 files and directories currently installed.)\n",
            "Preparing to unpack .../00-fonts-lato_2.0-2_all.deb ...\n",
            "Unpacking fonts-lato (2.0-2) ...\n",
            "Selecting previously unselected package fonts-texgyre.\n",
            "Preparing to unpack .../01-fonts-texgyre_20160520-1_all.deb ...\n",
            "Unpacking fonts-texgyre (20160520-1) ...\n",
            "Selecting previously unselected package javascript-common.\n",
            "Preparing to unpack .../02-javascript-common_11_all.deb ...\n",
            "Unpacking javascript-common (11) ...\n",
            "Selecting previously unselected package libjs-jquery.\n",
            "Preparing to unpack .../03-libjs-jquery_3.2.1-1_all.deb ...\n",
            "Unpacking libjs-jquery (3.2.1-1) ...\n",
            "Selecting previously unselected package rubygems-integration.\n",
            "Preparing to unpack .../04-rubygems-integration_1.11_all.deb ...\n",
            "Unpacking rubygems-integration (1.11) ...\n",
            "Selecting previously unselected package ruby2.5.\n",
            "Preparing to unpack .../05-ruby2.5_2.5.1-1ubuntu1.11_amd64.deb ...\n",
            "Unpacking ruby2.5 (2.5.1-1ubuntu1.11) ...\n",
            "Selecting previously unselected package ruby.\n",
            "Preparing to unpack .../06-ruby_1%3a2.5.1_amd64.deb ...\n",
            "Unpacking ruby (1:2.5.1) ...\n",
            "Selecting previously unselected package rake.\n",
            "Preparing to unpack .../07-rake_12.3.1-1ubuntu0.1_all.deb ...\n",
            "Unpacking rake (12.3.1-1ubuntu0.1) ...\n",
            "Selecting previously unselected package ruby-did-you-mean.\n",
            "Preparing to unpack .../08-ruby-did-you-mean_1.2.0-2_all.deb ...\n",
            "Unpacking ruby-did-you-mean (1.2.0-2) ...\n",
            "Selecting previously unselected package ruby-minitest.\n",
            "Preparing to unpack .../09-ruby-minitest_5.10.3-1_all.deb ...\n",
            "Unpacking ruby-minitest (5.10.3-1) ...\n",
            "Selecting previously unselected package ruby-net-telnet.\n",
            "Preparing to unpack .../10-ruby-net-telnet_0.1.1-2_all.deb ...\n",
            "Unpacking ruby-net-telnet (0.1.1-2) ...\n",
            "Selecting previously unselected package ruby-power-assert.\n",
            "Preparing to unpack .../11-ruby-power-assert_0.3.0-1_all.deb ...\n",
            "Unpacking ruby-power-assert (0.3.0-1) ...\n",
            "Selecting previously unselected package ruby-test-unit.\n",
            "Preparing to unpack .../12-ruby-test-unit_3.2.5-1_all.deb ...\n",
            "Unpacking ruby-test-unit (3.2.5-1) ...\n",
            "Selecting previously unselected package libruby2.5:amd64.\n",
            "Preparing to unpack .../13-libruby2.5_2.5.1-1ubuntu1.11_amd64.deb ...\n",
            "Unpacking libruby2.5:amd64 (2.5.1-1ubuntu1.11) ...\n",
            "Selecting previously unselected package preview-latex-style.\n",
            "Preparing to unpack .../14-preview-latex-style_11.91-1ubuntu1_all.deb ...\n",
            "Unpacking preview-latex-style (11.91-1ubuntu1) ...\n",
            "Selecting previously unselected package tex-gyre.\n",
            "Preparing to unpack .../15-tex-gyre_20160520-1_all.deb ...\n",
            "Unpacking tex-gyre (20160520-1) ...\n",
            "Selecting previously unselected package texlive-fonts-recommended.\n",
            "Preparing to unpack .../16-texlive-fonts-recommended_2017.20180305-1_all.deb ...\n",
            "Unpacking texlive-fonts-recommended (2017.20180305-1) ...\n",
            "Selecting previously unselected package texlive-pictures.\n",
            "Preparing to unpack .../17-texlive-pictures_2017.20180305-1_all.deb ...\n",
            "Unpacking texlive-pictures (2017.20180305-1) ...\n",
            "Selecting previously unselected package texlive-latex-extra.\n",
            "Preparing to unpack .../18-texlive-latex-extra_2017.20180305-2_all.deb ...\n",
            "Unpacking texlive-latex-extra (2017.20180305-2) ...\n",
            "Selecting previously unselected package texlive-plain-generic.\n",
            "Preparing to unpack .../19-texlive-plain-generic_2017.20180305-2_all.deb ...\n",
            "Unpacking texlive-plain-generic (2017.20180305-2) ...\n",
            "Selecting previously unselected package tipa.\n",
            "Preparing to unpack .../20-tipa_2%3a1.3-20_all.deb ...\n",
            "Unpacking tipa (2:1.3-20) ...\n",
            "Setting up libjs-jquery (3.2.1-1) ...\n",
            "Setting up texlive-pictures (2017.20180305-1) ...\n",
            "Setting up tex-gyre (20160520-1) ...\n",
            "Setting up tipa (2:1.3-20) ...\n",
            "Regenerating '/var/lib/texmf/fmtutil.cnf-DEBIAN'... done.\n",
            "Regenerating '/var/lib/texmf/fmtutil.cnf-TEXLIVEDIST'... done.\n",
            "update-fmtutil has updated the following file(s):\n",
            "\t/var/lib/texmf/fmtutil.cnf-DEBIAN\n",
            "\t/var/lib/texmf/fmtutil.cnf-TEXLIVEDIST\n",
            "If you want to activate the changes in the above file(s),\n",
            "you should run fmtutil-sys or fmtutil.\n",
            "Setting up preview-latex-style (11.91-1ubuntu1) ...\n",
            "Setting up fonts-texgyre (20160520-1) ...\n",
            "Setting up fonts-lato (2.0-2) ...\n",
            "Setting up ruby-did-you-mean (1.2.0-2) ...\n",
            "Setting up ruby-net-telnet (0.1.1-2) ...\n",
            "Setting up rubygems-integration (1.11) ...\n",
            "Setting up javascript-common (11) ...\n",
            "Setting up texlive-fonts-recommended (2017.20180305-1) ...\n",
            "Setting up texlive-plain-generic (2017.20180305-2) ...\n",
            "Setting up ruby-minitest (5.10.3-1) ...\n",
            "Setting up ruby-power-assert (0.3.0-1) ...\n",
            "Setting up texlive-latex-extra (2017.20180305-2) ...\n",
            "Setting up ruby-test-unit (3.2.5-1) ...\n",
            "Setting up libruby2.5:amd64 (2.5.1-1ubuntu1.11) ...\n",
            "Setting up ruby2.5 (2.5.1-1ubuntu1.11) ...\n",
            "Setting up ruby (1:2.5.1) ...\n",
            "Setting up rake (12.3.1-1ubuntu0.1) ...\n",
            "Processing triggers for libc-bin (2.27-3ubuntu1.3) ...\n",
            "/sbin/ldconfig.real: /usr/local/lib/python3.7/dist-packages/ideep4py/lib/libmkldnn.so.0 is not a symbolic link\n",
            "\n",
            "Processing triggers for man-db (2.8.3-2ubuntu0.1) ...\n",
            "Processing triggers for fontconfig (2.12.6-0ubuntu2) ...\n",
            "Processing triggers for tex-common (6.09) ...\n",
            "debconf: unable to initialize frontend: Dialog\n",
            "debconf: (No usable dialog-like program is installed, so the dialog based frontend cannot be used. at /usr/share/perl5/Debconf/FrontEnd/Dialog.pm line 76.)\n",
            "debconf: falling back to frontend: Readline\n",
            "Running mktexlsr. This may take some time... done.\n",
            "Running updmap-sys. This may take some time... done.\n",
            "Running mktexlsr /var/lib/texmf ... done.\n",
            "Reading package lists... Done\n",
            "Building dependency tree       \n",
            "Reading state information... Done\n",
            "The following packages were automatically installed and are no longer required:\n",
            "  cuda-command-line-tools-10-0 cuda-command-line-tools-10-1\n",
            "  cuda-command-line-tools-11-0 cuda-compiler-10-0 cuda-compiler-10-1\n",
            "  cuda-compiler-11-0 cuda-cuobjdump-10-0 cuda-cuobjdump-10-1\n",
            "  cuda-cuobjdump-11-0 cuda-cupti-10-0 cuda-cupti-10-1 cuda-cupti-11-0\n",
            "  cuda-cupti-dev-11-0 cuda-documentation-10-0 cuda-documentation-10-1\n",
            "  cuda-documentation-11-0 cuda-documentation-11-1 cuda-gdb-10-0 cuda-gdb-10-1\n",
            "  cuda-gdb-11-0 cuda-gpu-library-advisor-10-0 cuda-gpu-library-advisor-10-1\n",
            "  cuda-libraries-10-0 cuda-libraries-10-1 cuda-libraries-11-0\n",
            "  cuda-memcheck-10-0 cuda-memcheck-10-1 cuda-memcheck-11-0 cuda-nsight-10-0\n",
            "  cuda-nsight-10-1 cuda-nsight-11-0 cuda-nsight-11-1 cuda-nsight-compute-10-0\n",
            "  cuda-nsight-compute-10-1 cuda-nsight-compute-11-0 cuda-nsight-compute-11-1\n",
            "  cuda-nsight-systems-10-1 cuda-nsight-systems-11-0 cuda-nsight-systems-11-1\n",
            "  cuda-nvcc-10-0 cuda-nvcc-10-1 cuda-nvcc-11-0 cuda-nvdisasm-10-0\n",
            "  cuda-nvdisasm-10-1 cuda-nvdisasm-11-0 cuda-nvml-dev-10-0 cuda-nvml-dev-10-1\n",
            "  cuda-nvml-dev-11-0 cuda-nvprof-10-0 cuda-nvprof-10-1 cuda-nvprof-11-0\n",
            "  cuda-nvprune-10-0 cuda-nvprune-10-1 cuda-nvprune-11-0 cuda-nvtx-10-0\n",
            "  cuda-nvtx-10-1 cuda-nvtx-11-0 cuda-nvvp-10-0 cuda-nvvp-10-1 cuda-nvvp-11-0\n",
            "  cuda-nvvp-11-1 cuda-samples-10-0 cuda-samples-10-1 cuda-samples-11-0\n",
            "  cuda-samples-11-1 cuda-sanitizer-11-0 cuda-sanitizer-api-10-1\n",
            "  cuda-toolkit-10-0 cuda-toolkit-10-1 cuda-toolkit-11-0 cuda-toolkit-11-1\n",
            "  cuda-tools-10-0 cuda-tools-10-1 cuda-tools-11-0 cuda-tools-11-1\n",
            "  cuda-visual-tools-10-0 cuda-visual-tools-10-1 cuda-visual-tools-11-0\n",
            "  cuda-visual-tools-11-1 default-jre dkms freeglut3 freeglut3-dev\n",
            "  keyboard-configuration libargon2-0 libcap2 libcryptsetup12\n",
            "  libdevmapper1.02.1 libfontenc1 libip4tc0 libjansson4 libnvidia-cfg1-510\n",
            "  libnvidia-common-460 libnvidia-common-510 libnvidia-extra-510\n",
            "  libnvidia-fbc1-510 libnvidia-gl-510 libpam-systemd libpolkit-agent-1-0\n",
            "  libpolkit-backend-1-0 libpolkit-gobject-1-0 libxfont2 libxi-dev libxkbfile1\n",
            "  libxmu-dev libxmu-headers libxnvctrl0 libxtst6 nsight-compute-2020.2.1\n",
            "  nsight-compute-2022.1.0 nsight-systems-2020.3.2 nsight-systems-2020.3.4\n",
            "  nsight-systems-2021.5.2 nvidia-dkms-510 nvidia-kernel-common-510\n",
            "  nvidia-kernel-source-510 nvidia-modprobe nvidia-settings openjdk-11-jre\n",
            "  policykit-1 policykit-1-gnome python3-xkit screen-resolution-extra systemd\n",
            "  systemd-sysv udev x11-xkb-utils xserver-common xserver-xorg-core-hwe-18.04\n",
            "  xserver-xorg-video-nvidia-510\n",
            "Use 'sudo apt autoremove' to remove them.\n",
            "The following additional packages will be installed:\n",
            "  ghostscript gsfonts\n",
            "Suggested packages:\n",
            "  ghostscript-x\n",
            "The following NEW packages will be installed:\n",
            "  dvipng ghostscript gsfonts\n",
            "0 upgraded, 3 newly installed, 0 to remove and 39 not upgraded.\n",
            "Need to get 3,250 kB of archives.\n",
            "After this operation, 4,947 kB of additional disk space will be used.\n",
            "Get:1 http://archive.ubuntu.com/ubuntu bionic-updates/main amd64 ghostscript amd64 9.26~dfsg+0-0ubuntu0.18.04.15 [51.4 kB]\n",
            "Get:2 http://archive.ubuntu.com/ubuntu bionic/universe amd64 dvipng amd64 1.15-1 [78.2 kB]\n",
            "Get:3 http://archive.ubuntu.com/ubuntu bionic/main amd64 gsfonts all 1:8.11+urwcyr1.0.7~pre44-4.4 [3,120 kB]\n",
            "Fetched 3,250 kB in 1s (2,614 kB/s)\n",
            "debconf: unable to initialize frontend: Dialog\n",
            "debconf: (No usable dialog-like program is installed, so the dialog based frontend cannot be used. at /usr/share/perl5/Debconf/FrontEnd/Dialog.pm line 76, <> line 3.)\n",
            "debconf: falling back to frontend: Readline\n",
            "debconf: unable to initialize frontend: Readline\n",
            "debconf: (This frontend requires a controlling tty.)\n",
            "debconf: falling back to frontend: Teletype\n",
            "dpkg-preconfigure: unable to re-open stdin: \n",
            "Selecting previously unselected package ghostscript.\n",
            "(Reading database ... 180798 files and directories currently installed.)\n",
            "Preparing to unpack .../ghostscript_9.26~dfsg+0-0ubuntu0.18.04.15_amd64.deb ...\n",
            "Unpacking ghostscript (9.26~dfsg+0-0ubuntu0.18.04.15) ...\n",
            "Selecting previously unselected package dvipng.\n",
            "Preparing to unpack .../dvipng_1.15-1_amd64.deb ...\n",
            "Unpacking dvipng (1.15-1) ...\n",
            "Selecting previously unselected package gsfonts.\n",
            "Preparing to unpack .../gsfonts_1%3a8.11+urwcyr1.0.7~pre44-4.4_all.deb ...\n",
            "Unpacking gsfonts (1:8.11+urwcyr1.0.7~pre44-4.4) ...\n",
            "Setting up gsfonts (1:8.11+urwcyr1.0.7~pre44-4.4) ...\n",
            "Setting up ghostscript (9.26~dfsg+0-0ubuntu0.18.04.15) ...\n",
            "Setting up dvipng (1.15-1) ...\n",
            "Processing triggers for fontconfig (2.12.6-0ubuntu2) ...\n",
            "Processing triggers for man-db (2.8.3-2ubuntu0.1) ...\n",
            "Reading package lists... Done\n",
            "Building dependency tree       \n",
            "Reading state information... Done\n",
            "The following packages were automatically installed and are no longer required:\n",
            "  cuda-command-line-tools-10-0 cuda-command-line-tools-10-1\n",
            "  cuda-command-line-tools-11-0 cuda-compiler-10-0 cuda-compiler-10-1\n",
            "  cuda-compiler-11-0 cuda-cuobjdump-10-0 cuda-cuobjdump-10-1\n",
            "  cuda-cuobjdump-11-0 cuda-cupti-10-0 cuda-cupti-10-1 cuda-cupti-11-0\n",
            "  cuda-cupti-dev-11-0 cuda-documentation-10-0 cuda-documentation-10-1\n",
            "  cuda-documentation-11-0 cuda-documentation-11-1 cuda-gdb-10-0 cuda-gdb-10-1\n",
            "  cuda-gdb-11-0 cuda-gpu-library-advisor-10-0 cuda-gpu-library-advisor-10-1\n",
            "  cuda-libraries-10-0 cuda-libraries-10-1 cuda-libraries-11-0\n",
            "  cuda-memcheck-10-0 cuda-memcheck-10-1 cuda-memcheck-11-0 cuda-nsight-10-0\n",
            "  cuda-nsight-10-1 cuda-nsight-11-0 cuda-nsight-11-1 cuda-nsight-compute-10-0\n",
            "  cuda-nsight-compute-10-1 cuda-nsight-compute-11-0 cuda-nsight-compute-11-1\n",
            "  cuda-nsight-systems-10-1 cuda-nsight-systems-11-0 cuda-nsight-systems-11-1\n",
            "  cuda-nvcc-10-0 cuda-nvcc-10-1 cuda-nvcc-11-0 cuda-nvdisasm-10-0\n",
            "  cuda-nvdisasm-10-1 cuda-nvdisasm-11-0 cuda-nvml-dev-10-0 cuda-nvml-dev-10-1\n",
            "  cuda-nvml-dev-11-0 cuda-nvprof-10-0 cuda-nvprof-10-1 cuda-nvprof-11-0\n",
            "  cuda-nvprune-10-0 cuda-nvprune-10-1 cuda-nvprune-11-0 cuda-nvtx-10-0\n",
            "  cuda-nvtx-10-1 cuda-nvtx-11-0 cuda-nvvp-10-0 cuda-nvvp-10-1 cuda-nvvp-11-0\n",
            "  cuda-nvvp-11-1 cuda-samples-10-0 cuda-samples-10-1 cuda-samples-11-0\n",
            "  cuda-samples-11-1 cuda-sanitizer-11-0 cuda-sanitizer-api-10-1\n",
            "  cuda-toolkit-10-0 cuda-toolkit-10-1 cuda-toolkit-11-0 cuda-toolkit-11-1\n",
            "  cuda-tools-10-0 cuda-tools-10-1 cuda-tools-11-0 cuda-tools-11-1\n",
            "  cuda-visual-tools-10-0 cuda-visual-tools-10-1 cuda-visual-tools-11-0\n",
            "  cuda-visual-tools-11-1 default-jre dkms freeglut3 freeglut3-dev\n",
            "  keyboard-configuration libargon2-0 libcap2 libcryptsetup12\n",
            "  libdevmapper1.02.1 libfontenc1 libip4tc0 libjansson4 libnvidia-cfg1-510\n",
            "  libnvidia-common-460 libnvidia-common-510 libnvidia-extra-510\n",
            "  libnvidia-fbc1-510 libnvidia-gl-510 libpam-systemd libpolkit-agent-1-0\n",
            "  libpolkit-backend-1-0 libpolkit-gobject-1-0 libxfont2 libxi-dev libxkbfile1\n",
            "  libxmu-dev libxmu-headers libxnvctrl0 libxtst6 nsight-compute-2020.2.1\n",
            "  nsight-compute-2022.1.0 nsight-systems-2020.3.2 nsight-systems-2020.3.4\n",
            "  nsight-systems-2021.5.2 nvidia-dkms-510 nvidia-kernel-common-510\n",
            "  nvidia-kernel-source-510 nvidia-modprobe nvidia-settings openjdk-11-jre\n",
            "  policykit-1 policykit-1-gnome python3-xkit screen-resolution-extra systemd\n",
            "  systemd-sysv udev x11-xkb-utils xserver-common xserver-xorg-core-hwe-18.04\n",
            "  xserver-xorg-video-nvidia-510\n",
            "Use 'sudo apt autoremove' to remove them.\n",
            "The following additional packages will be installed:\n",
            "  cm-super-minimal pfb2t1c2pfb\n",
            "The following NEW packages will be installed:\n",
            "  cm-super cm-super-minimal pfb2t1c2pfb\n",
            "0 upgraded, 3 newly installed, 0 to remove and 39 not upgraded.\n",
            "Need to get 24.5 MB of archives.\n",
            "After this operation, 59.9 MB of additional disk space will be used.\n",
            "Get:1 http://archive.ubuntu.com/ubuntu bionic/universe amd64 cm-super-minimal all 0.3.4-11 [5,810 kB]\n",
            "Get:2 http://archive.ubuntu.com/ubuntu bionic/universe amd64 pfb2t1c2pfb amd64 0.3-11 [9,342 B]\n",
            "Get:3 http://archive.ubuntu.com/ubuntu bionic/universe amd64 cm-super all 0.3.4-11 [18.7 MB]\n",
            "Fetched 24.5 MB in 2s (12.5 MB/s)\n",
            "debconf: unable to initialize frontend: Dialog\n",
            "debconf: (No usable dialog-like program is installed, so the dialog based frontend cannot be used. at /usr/share/perl5/Debconf/FrontEnd/Dialog.pm line 76, <> line 3.)\n",
            "debconf: falling back to frontend: Readline\n",
            "debconf: unable to initialize frontend: Readline\n",
            "debconf: (This frontend requires a controlling tty.)\n",
            "debconf: falling back to frontend: Teletype\n",
            "dpkg-preconfigure: unable to re-open stdin: \n",
            "Selecting previously unselected package cm-super-minimal.\n",
            "(Reading database ... 180991 files and directories currently installed.)\n",
            "Preparing to unpack .../cm-super-minimal_0.3.4-11_all.deb ...\n",
            "Unpacking cm-super-minimal (0.3.4-11) ...\n",
            "Selecting previously unselected package pfb2t1c2pfb.\n",
            "Preparing to unpack .../pfb2t1c2pfb_0.3-11_amd64.deb ...\n",
            "Unpacking pfb2t1c2pfb (0.3-11) ...\n",
            "Selecting previously unselected package cm-super.\n",
            "Preparing to unpack .../cm-super_0.3.4-11_all.deb ...\n",
            "Unpacking cm-super (0.3.4-11) ...\n",
            "Setting up pfb2t1c2pfb (0.3-11) ...\n",
            "Setting up cm-super-minimal (0.3.4-11) ...\n",
            "Setting up cm-super (0.3.4-11) ...\n",
            "Creating fonts. This may take some time... done.\n",
            "Processing triggers for fontconfig (2.12.6-0ubuntu2) ...\n",
            "Processing triggers for tex-common (6.09) ...\n",
            "debconf: unable to initialize frontend: Dialog\n",
            "debconf: (No usable dialog-like program is installed, so the dialog based frontend cannot be used. at /usr/share/perl5/Debconf/FrontEnd/Dialog.pm line 76.)\n",
            "debconf: falling back to frontend: Readline\n",
            "Running mktexlsr. This may take some time... done.\n",
            "Running updmap-sys. This may take some time... done.\n",
            "Running mktexlsr /var/lib/texmf ... done.\n",
            "Processing triggers for man-db (2.8.3-2ubuntu0.1) ...\n"
          ]
        }
      ],
      "source": [
        "! sudo apt-get install texlive-latex-recommended \n",
        "! sudo apt install texlive-latex-extra\n",
        "! sudo apt install dvipng\n",
        "! sudo apt install cm-super\n",
        "#!apt install texlive-fonts-recommended texlive-fonts-extra cm-super dvipng"
      ]
    },
    {
      "cell_type": "code",
      "execution_count": 2,
      "metadata": {
        "colab": {
          "base_uri": "https://localhost:8080/"
        },
        "id": "B1rkhLLrFLfM",
        "outputId": "e3157ad6-9dad-4505-fa27-8fbef8119924"
      },
      "outputs": [
        {
          "output_type": "stream",
          "name": "stdout",
          "text": [
            "Mounted at /content/drive\n"
          ]
        }
      ],
      "source": [
        "from google.colab import drive\n",
        "drive.mount(\"/content/drive\")"
      ]
    },
    {
      "cell_type": "code",
      "execution_count": 3,
      "metadata": {
        "id": "T3s3ZOK18oM2"
      },
      "outputs": [],
      "source": [
        "num_clf = 2\n",
        "clflist = [\"mnb\", \"svm\"]"
      ]
    },
    {
      "cell_type": "markdown",
      "metadata": {
        "id": "FYqCIxzFb3c5"
      },
      "source": [
        "## Load Data"
      ]
    },
    {
      "cell_type": "code",
      "execution_count": null,
      "metadata": {
        "colab": {
          "base_uri": "https://localhost:8080/"
        },
        "id": "q02Yj6oGxZB_",
        "outputId": "e2c61c23-6b2c-4512-fd95-6cb69af066a3"
      },
      "outputs": [
        {
          "output_type": "stream",
          "name": "stdout",
          "text": [
            "Data loaded.\n"
          ]
        }
      ],
      "source": [
        "# Data files\n",
        "tr_file = \"/content/drive/MyDrive/PLI/data/train.txt\"\n",
        "ts_file = \"/content/drive/MyDrive/PLI/data/test.txt\"\n",
        "\n",
        "# Load data\n",
        "tr_data = open(tr_file, mode='r', encoding='utf-8')\n",
        "ts_data = open(ts_file, mode='r', encoding='utf-8')\n",
        "\n",
        "print(\"Data loaded.\")"
      ]
    },
    {
      "cell_type": "code",
      "execution_count": null,
      "metadata": {
        "id": "jWeG0HRpxZB_"
      },
      "outputs": [],
      "source": [
        "# Separate text and labels\n",
        "tr_text = []\n",
        "tr_lang = []\n",
        "ts_text = []\n",
        "ts_lang = []\n",
        "\n",
        "for line in tr_data:\n",
        "    text, lang = line.strip().split('\\t')\n",
        "    tr_text.append(text)\n",
        "    tr_lang.append(lang)\n",
        "\n",
        "for line in ts_data:\n",
        "    text, lang = line.strip().split('\\t')\n",
        "    ts_text.append(text)\n",
        "    ts_lang.append(lang)"
      ]
    },
    {
      "cell_type": "code",
      "execution_count": null,
      "metadata": {
        "id": "2YE576k_wyOi"
      },
      "outputs": [],
      "source": [
        "label = {'dgo': 0, 'gbm': 1, 'kfy': 2, 'npi': 3}\n",
        "\n",
        "y_tr = np.asarray(list(map(lambda x: label[x], tr_lang)))\n",
        "y_ts = np.asarray(list(map(lambda x: label[x], ts_lang)))"
      ]
    },
    {
      "cell_type": "code",
      "execution_count": null,
      "metadata": {
        "colab": {
          "base_uri": "https://localhost:8080/"
        },
        "id": "52MEhE75dhve",
        "outputId": "7bda1349-0cd5-4f73-ec82-8a0d3544a27c"
      },
      "outputs": [
        {
          "output_type": "stream",
          "name": "stdout",
          "text": [
            "Train data: 44014 sentences - 8.99 MB\n",
            "Test data : 11004 sentences - 2.25 MB\n"
          ]
        }
      ],
      "source": [
        "def size_mb(docs):\n",
        "    return sum(len(s.encode('utf-8')) for s in docs) / 1e6\n",
        "\n",
        "tr_size_mb = size_mb(tr_text)\n",
        "ts_size_mb = size_mb(ts_text)\n",
        "\n",
        "print(\"Train data: %d sentences - %0.2f MB\" % (len(tr_text), tr_size_mb))\n",
        "print(\"Test data : %d sentences - %0.2f MB\" % (len(ts_text), ts_size_mb))"
      ]
    },
    {
      "cell_type": "code",
      "source": [
        "corpus = namedtuple('corpus', ['data', 'target'])\n",
        "PL_corpus = corpus(tr_text + ts_text, tr_lang + ts_lang)\n",
        "\n",
        "print(\"Corpus size: %d sentences - %0.2f MB\" \n",
        "      % (len(PL_corpus.data), size_mb(PL_corpus.data)))\n",
        "\n",
        "PL = defaultdict(list)\n",
        "for text, lang in zip(PL_corpus.data, PL_corpus.target):\n",
        "    PL[lang].append(text)"
      ],
      "metadata": {
        "id": "pKXVGc5Z_LuM",
        "colab": {
          "base_uri": "https://localhost:8080/"
        },
        "outputId": "7ef5a0c4-a204-4bca-b10f-af309bcc79cd"
      },
      "execution_count": 26,
      "outputs": [
        {
          "output_type": "stream",
          "name": "stdout",
          "text": [
            "Corpus size: 55018 sentences - 11.24 MB\n"
          ]
        }
      ]
    },
    {
      "cell_type": "code",
      "source": [
        "# Overlapping token types among languages\n",
        "\n",
        "types = defaultdict(list)\n",
        "for lang in label.keys():\n",
        "    lines = PL[lang]\n",
        "    words = [word for line in lines for word in re.findall(r\"[^\\W\\d]+\", line)]  # discard numerals   \n",
        "    types[lang] = set(words)\n",
        "\n",
        "print(len(types['dgo'] & types['gbm'] & types['kfy'] & types['npi']))\n",
        "print(types['dgo'] & types['gbm'] & types['kfy'] & types['npi'])"
      ],
      "metadata": {
        "id": "dKVRSTlP_zFH",
        "colab": {
          "base_uri": "https://localhost:8080/"
        },
        "outputId": "43b8cdb6-2e95-4057-c393-061883c0aeb6"
      },
      "execution_count": 28,
      "outputs": [
        {
          "output_type": "stream",
          "name": "stdout",
          "text": [
            "{'खाली', 'विश्राम', 'उत्सव', 'खान', 'एस', 'यदि', 'भजन', 'व्यापार', 'योग', 'भूमि', 'टीम', 'राम', 'खतरनाक', 'कागज', 'सीमित', 'खुलेआम', 'खोई', 'छे', 'कारण', 'मध्यम', 'चिठ्ठी', 'यहूदी', 'कर्नाटक', 'ब्रिगेड', 'रेखा', 'प्रभाव', 'गीत', 'जान', 'आम', 'युग', 'आदेश', 'बोली', 'सप्ताह', 'बहुत', 'संगीत', 'घृणा', 'रचनात्मक', 'दै', 'पार्टी', 'नियम', 'बिलकुल', 'याकूब', 'खर्च', 'बोले', 'भण्डार', 'रिपोर्ट', 'निवास', 'आराम', 'सिपाही', 'प्राण', 'मालिक', 'विद्वान', 'डिग्री', 'महाराष्ट्र', 'बच्चा', 'अजय', 'फोटो', 'जनरल', 'ख्याल', 'जमात', 'स्वाद', 'खुशी', 'ध्यान', 'फर', 'लेक', 'काम', 'कसम', 'जा', 'साल', 'सूचना', 'चिन्ता', 'विजेता', 'वर्ग', 'समय', 'आ', 'सभ्यता', 'आदर', 'लेन', 'चार', 'होली', 'घर', 'रात', 'सुन', 'नौ', 'किलोमीटर', 'गई', 'तम्बू', 'चकित', 'पोल', 'दुष्ट', 'सफल', 'विभाग', 'कल', 'सवारी', 'वीर', 'पिता', 'हाजिर', 'वाक्य', 'जंगली', 'कृषि', 'बार', 'कार', 'प्रतीक्षा', 'दुखी', 'सिलास', 'ऋतु', 'निकाली', 'रे', 'कविता', 'भीख', 'बोर्ड', 'ले', 'इन्कार', 'जोर', 'फूट', 'क्षमा', 'अत्याचार', 'सेवन', 'सामरी', 'झट्ट', 'पुराना', 'गुफा', 'कप', 'भाव', 'पुलिस', 'संस्कार', 'परिणाम', 'यहूदा', 'करण', 'सदर', 'काज', 'पाली', 'होश', 'खराब', 'बलिदान', 'अर्थ', 'योग्य', 'तापमान', 'पवित्रता', 'स्वरूप', 'उन', 'बत्ती', 'अभियान', 'प्रदर्शन', 'रचना', 'परिवार', 'सचेत', 'छल', 'प्रवेश', 'घमण्डी', 'दिए', 'विदेश', 'फोन', 'साथ', 'सो', 'बिना', 'मेरा', 'नाश', 'अथाह', 'मोहन', 'मार्च', 'इन', 'सलाम', 'नामै', 'प्रतियोगिता', 'धुन', 'मेल', 'समिति', 'मुकुट', 'संरक्षण', 'पास', 'दास', 'स्वास्थ्य', 'खाई', 'पाल', 'सुख', 'नेपाल', 'कि', 'उदास', 'फूल', 'मै', 'सागर', 'आदमी', 'समाज', 'युद्ध', 'धारा', 'भाषा', 'शर्त', 'घटना', 'यरीहो', 'माई', 'उद्योग', 'शक्तिमान', 'वन', 'पार्क', 'हिंसा', 'उदार', 'विकसित', 'चित', 'प्रकार', 'सिर्फ', 'प्राप्त', 'नागरिक', 'प्रबल', 'सांस्कृतिक', 'सेवा', 'र', 'मल', 'ठोस', 'मारे', 'गलत', 'आर्थिक', 'दिया', 'योद्धा', 'अनुकूल', 'शैतान', 'राजा', 'संगठन', 'गुरु', 'दावा', 'दर्जन', 'विधा', 'व्यतीत', 'पद', 'लग', 'विपरीत', 'सुन्न', 'सिनेमा', 'लगातार', 'बाबा', 'ली', 'धार', 'निराशा', 'जाने', 'प्रेरणा', 'भरी', 'दर्शन', 'उपलब्ध', 'आदि', 'गौर', 'प्रताप', 'पूरा', 'प्रकाश', 'चेतावनी', 'ग्रहण', 'छात्र', 'रूप', 'सर', 'हो', 'दुर्दशा', 'नानी', 'पर्यटन', 'वे', 'चुन', 'गरीबी', 'अमरता', 'राय', 'धारण', 'दि', 'मात्र', 'गत', 'दबाव', 'फैसला', 'मेरी', 'करार', 'उत्साह', 'स्नान', 'तैयार', 'विज्ञान', 'समीक्षा', 'लालच', 'चमत्कार', 'फिलिप्पी', 'पूजा', 'अशोक', 'जल', 'आय', 'निर्धारित', 'गुणा', 'जवान', 'परम', 'असर', 'जीवित', 'बास', 'अपराध', 'कार्यक्रम', 'दिशा', 'दोषी', 'दृष्टि', 'चुपचाप', 'प्रथा', 'तय', 'ज्योति', 'लिखित', 'त', 'बन', 'संस्कृति', 'अद्भुत', 'पागल', 'लाई', 'निराश', 'चाप', 'अंग', 'चोट', 'साझा', 'व्यक्त', 'महिला', 'शान', 'सीमा', 'प्रकट', 'रोज', 'छाप', 'भ्रष्ट', 'धर्म', 'प्रसार', 'हार', 'आगमन', 'गरीब', 'प्रिय', 'माध्यम', 'पर्वत', 'सवार', 'महत्व', 'मुर्दा', 'भूत', 'प्रोफेसर', 'ग्रामीण', 'साले', 'आदत', 'जि', 'शब्दकोश', 'सत', 'मई', 'देशी', 'धन्य', 'याद', 'श्रीमती', 'जिन्दगी', 'प्रशंसा', 'जरुरी', 'पवन', 'स्थिति', 'विवाद', 'दिल्ली', 'व्यर्थ', 'प्रधान', 'बेकार', 'हर', 'पन्त', 'टी', 'प्रयोग', 'खायो', 'स्वीकार', 'माफ', 'अनेक', 'नासरत', 'स्थान', 'चप्पल', 'आज', 'दक्षिणी', 'साहित्यकार', 'सोची', 'पूर्व', 'विद्रोह', 'हक', 'छाती', 'स्वभाव', 'मन्दिर', 'शहीद', 'राजनीतिक', 'सलोमी', 'शिक्षा', 'आठ', 'अति', 'दर्द', 'स्वर्गदूत', 'बुद्धिजीवी', 'उपयोग', 'देख', 'रीति', 'सरकार', 'हजार', 'ऊ', 'गर्दन', 'बाट', 'बिचार', 'भंग', 'मिनट', 'नीति', 'गै', 'भर', 'नं', 'ठेस', 'लगी', 'उनी', 'मस्त', 'मुख', 'विश्वास', 'जाओ', 'सम्पत्ति', 'वर्णन', 'विजय', 'खेती', 'स्टेशन', 'पोषण', 'संदेश', 'हौसला', 'शोक', 'ग', 'लेखा', 'कोमल', 'ग्रुप', 'खास', 'सम्मेलन', 'दूत', 'अनुचित', 'यो', 'दिनै', 'मत', 'सत्य', 'अन्याय', 'बडी', 'शिक्षित', 'स्टोर', 'पाकिस्तानी', 'उपदेश', 'चीन', 'केवल', 'राज्य', 'रक्षा', 'मोटर', 'चिट्ठी', 'जंगल', 'ऐतिहासिक', 'शुरुआत', 'नियुक्त', 'सामना', 'नाम', 'मेहनत', 'सोच', 'बसी', 'दे', 'कदम', 'फसल', 'इजाजत', 'जाल', 'मध्य', 'चेतना', 'एशिया', 'बयान', 'क्षेत्रीय', 'सहायक', 'विचार', 'कम', 'विलाप', 'बीच', 'मर्जी', 'कुमार', 'ओहो', 'अन्त', 'या', 'मदन', 'फेलिक्स', 'अपमान', 'बरोबर', 'सहन', 'पक्की', 'समर्थन', 'कोशिश', 'दर', 'कसूर', 'लडाई', 'उप', 'बोतल', 'संभव', 'उद्देश्य', 'सुनार', 'जरा', 'पेपर', 'सूत्र', 'रेलवे', 'नियंत्रण', 'वचन', 'चिन', 'सरकारी', 'उपाय', 'की', 'चोरी', 'गर्व', 'बन्दी', 'प्रस्तुत', 'शास्त्री', 'गुरू', 'दिन', 'सामर्थ', 'धाम', 'प्रतिनिधि', 'बारा', 'समेत', 'वर्ष', 'सेना', 'गद्य', 'शब्द', 'कर्मठ', 'चाल', 'नामक', 'कथा', 'शिक्षक', 'पार', 'शुरू', 'कैद', 'मानव', 'काठ', 'लोक', 'समान', 'निंदा', 'भ्रष्टाचार', 'ललित', 'काल', 'भरत', 'अंश', 'नोट', 'उ', 'हवाई', 'दौरान', 'सुरक्षित', 'उत्साहित', 'लगाई', 'सार्वजनिक', 'जो', 'जैतून', 'स्वर्गीय', 'वरिष्ठ', 'संस्थान', 'शान्ति', 'राष्ट्रपति', 'संग्रह', 'बेल', 'बनाई', 'सम्पर्क', 'साथी', 'कै', 'माया', 'पटेल', 'नारायण', 'निर्णय', 'पल', 'चर्चा', 'शासन', 'न्याय', 'विशेष', 'विदा', 'संघ', 'महिमा', 'ममता', 'जात', 'अग्नि', 'संगत', 'एन', 'प्यार', 'संसार', 'संकट', 'कर्मचारी', 'पर्व', 'माफी', 'जय', 'जागृत', 'भारत', 'हार्दिक', 'बेच', 'सिद्ध', 'कपटी', 'त्याग', 'स्वागत', 'डाह', 'लागू', 'मनोज', 'तुलसी', 'बैठक', 'गोल', 'मार', 'बात', 'संघर्ष', 'साग', 'बली', 'जौ', 'क्षण', 'मुक्त', 'कृपा', 'जन', 'रानी', 'स्थापित', 'अंक', 'कमी', 'स्वार्थी', 'रोमी', 'परम्परा', 'असली', 'स्थापना', 'गृह', 'मोबाइल', 'समस्या', 'ज्ञान', 'मान', 'मौसम', 'सन', 'दक्षिण', 'टेबल', 'सात', 'इनाम', 'वरदान', 'खबर', 'साधारण', 'आरोप', 'परिवर्तन', 'समृद्ध', 'आश्चर्य', 'हद', 'उद्धार', 'प्रेरित', 'दौरा', 'भारतीय', 'लो', 'संवेदनशील', 'कल्याण', 'चीज', 'सहमत', 'नूह', 'भयानक', 'जन्म', 'विश्वासी', 'बैंक', 'मे', 'मरियम', 'नारी', 'नियुक्ति', 'नियमित', 'ब्रिटिश', 'तारा', 'कर', 'वास', 'बल', 'डा', 'बीचै', 'प्रवक्ता', 'अपार', 'राज्यपाल', 'तितर', 'जना', 'चेला', 'होम', 'गर्भ', 'समस्त', 'जनवरी', 'नेतृत्व', 'जनता', 'विनोद', 'लोभी', 'मजदूर', 'उपर', 'रंग', 'सनातन', 'राखी', 'बन्द', 'मूल', 'चलन', 'समुद्र', 'दिवस', 'विदेशी', 'पशु', 'व्यवहार', 'अन्य', 'मूर्ति', 'क्षेत्र', 'दिल', 'क', 'न्यायालय', 'नजर', 'विकास', 'जमीन', 'लाख', 'पीसी', 'ताकि', 'हाय', 'किसान', 'दाम', 'कला', 'आधिकारिक', 'प्रस्ताव', 'पुष्टि', 'बचन', 'आधारित', 'रोम', 'गंभीर', 'चौकी', 'काफी', 'तीन', 'दूरी', 'अनादर', 'पत्नी', 'बलि', 'ज्यादा', 'चुनौती', 'अलावा', 'कान', 'पत्र', 'कुलपति', 'अरे', 'प्रसारित', 'आवश्यकता', 'विधि', 'नमस्कार', 'गुण', 'निष्कलंक', 'आयोजन', 'पाई', 'प्रश्न', 'चाह', 'लेखक', 'चुनाव', 'प्रार्थना', 'व्यवस्था', 'गैर', 'भै', 'वाणी', 'परदेश', 'स्वतंत्रता', 'शुरु', 'असल', 'पति', 'सम्भव', 'च', 'कच्ची', 'दा', 'प्रशासनिक', 'प्रभु', 'प्रयास', 'सवाल', 'तीस', 'व्यापक', 'उत्तर', 'खुसी', 'घातक', 'इ', 'जादा', 'कीर्तन', 'अहमद', 'निवासी', 'पेट', 'सचिव', 'स्वामी', 'शक्तिशाली', 'विधवा', 'पत्थर', 'योजना', 'सकी', 'लगभग', 'व्यभिचार', 'संगम', 'विषय', 'न', 'दिने', 'यूसुफ', 'सुविधा', 'ठिक', 'जगत', 'भावना', 'मलाई', 'आशीष', 'पर', 'अन्यायी', 'कमजोर', 'कष्ट', 'नाप', 'शर्मा', 'शिव', 'स्वार्थ', 'अचानक', 'तुल्य', 'पात्र', 'सुधार', 'भोग', 'सारा', 'बाल', 'जी', 'एनियास', 'द', 'कदर', 'उनै', 'जानकार', 'मोल', 'दूध', 'लेखन', 'आधुनिक', 'सहित', 'रहे', 'अनुसार', 'आखिर', 'हत्या', 'गठन', 'पात', 'विरोधी', 'ज', 'एकता', 'सरदार', 'तेज', 'कुसुम', 'कोर्स', 'लेवी', 'सुखी', 'प्रचार', 'तुच्छ', 'योगदान', 'राती', 'शास्त्र', 'त्यागी', 'अकाश', 'जाति', 'आजादी', 'कारोबार', 'नदी', 'कैदी', 'ला', 'सलाह', 'नि', 'रोजगार', 'लोकसभा', 'बालक', 'महत्वपूर्ण', 'बी', 'राष्ट्र', 'खेत', 'डेढ', 'नम्बर', 'गए', 'स्वर', 'बातचीत', 'व्यक्तित्व', 'नर', 'लौ', 'नष्ट', 'सदस्य', 'कार्यालय', 'आत्मा', 'लाल', 'कन', 'असमान', 'कवि', 'धार्मिक', 'संकल्प', 'महावीर', 'प्रणाम', 'आत्म', 'बराबर', 'अस्पताल', 'शक्ति', 'अभिषेक', 'चोर', 'मात्रा', 'तयार', 'चक्र', 'पाकिस्तान', 'रथ', 'कर्म', 'मदत', 'जबकि', 'मुक्ति', 'उठाई', 'पक्ष', 'सुलेमान', 'जग', 'छुट', 'प्रसन्न', 'दुख', 'पाप', 'भवन', 'सी', 'अटल', 'हिम्मत', 'सुरक्षा', 'माल', 'देवी', 'फल', 'चमकदार', 'स्पष्ट', 'ना', 'बादल', 'घोषित', 'समझदारी', 'मुख्य', 'सन्तान', 'सम्पति', 'भार', 'चतुर', 'तन', 'संस्था', 'संख्या', 'छ', 'पूर्ण', 'औं', 'विनाश', 'पानी', 'हाल', 'पत्रिका', 'दी', 'प्यारा', 'कर्ता', 'प्रतीक', 'रस', 'ल', 'अनुभव', 'गम्भीर', 'समापन', 'चाहे', 'के', 'कार्यकर्ता', 'सम्मान', 'तैयारी', 'कमजोरी', 'समारोह', 'कलाकार', 'सब', 'टाइप', 'अधिकारी', 'दीपा', 'कश्मीर', 'बीस', 'अनुवाद', 'प्रसिद्ध', 'जीव', 'का', 'टीका', 'पृथ्वी', 'रोड', 'कुशल', 'बंगाल', 'न्यायी', 'रमेश', 'लाभ', 'कल्पना', 'माता', 'आई', 'गर्मी', 'दया', 'देश', 'वस्त्र', 'साहस', 'गति', 'आधार', 'सरल', 'रोक', 'ओ', 'फौज', 'आवाज', 'महा', 'दस', 'नेटवर्क', 'छाया', 'अंग्रेज', 'प्रेम', 'रोग', 'अपेक्षा', 'गाई', 'परीक्षा', 'वातावरण', 'गी', 'चुप', 'डाक्टर', 'बिन', 'मुद्दा', 'सूर्य', 'दासी', 'बदली', 'जेल', 'महामारी', 'कानून', 'पाठ', 'महान', 'तै', 'सास', 'माल्टा', 'भौतिक', 'प्रतिभा', 'जोगी', 'जानकारी', 'पालन', 'लेख', 'देवता', 'श्रेष्ठ', 'संयुक्त', 'अन्न', 'दण्ड', 'बजार', 'विराजमान', 'चूर', 'दल', 'कारा', 'श्री', 'मान्यता', 'भाग', 'भक्ति', 'डर', 'मुताबिक', 'कार्य', 'है', 'रकम', 'मार्ग', 'बराबरी', 'यहूदिया', 'सज्जन', 'ऐन', 'एक', 'अस्सी', 'मजाक', 'चरण', 'आकार', 'खोज', 'पी', 'मंत्री', 'अन्द्रियास', 'नेता', 'इसहाक', 'विश्व', 'गल्ती', 'जानी', 'प्रदेश', 'नमूना', 'प्रतिशत', 'शो', 'सैनिक', 'लक्ष्य', 'दुःख', 'उच्च', 'सिंह', 'आज्ञा', 'सुरमा', 'लान', 'बनी', 'प्रदान', 'निर्माण', 'चमक', 'आनन्द', 'वृद्धि', 'मोदी', 'खतना', 'चित्त', 'रोचक', 'वैभव', 'सफलता', 'सुनी', 'गवाही', 'संसद', 'कर्ण', 'रा', 'शहर', 'कोई', 'पवित्र', 'मंदिर', 'दुर्घटना', 'पैदल', 'जाला', 'नै', 'प्रकाशन', 'वक्तव्य', 'बस', 'चक्कर', 'संवाद', 'लगाव', 'अ', 'समाचार', 'भगत', 'ठीक', 'युवा', 'पिसिदिया', 'प्रभावित', 'कठोर', 'मृत्यु', 'मुश्किल', 'सफाई', 'नीच', 'थोमा', 'जाली', 'अध्यक्ष', 'सही', 'भूमिका', 'मित्र', 'चिकित्सा', 'पुत्र', 'यात्रा', 'बोल', 'मरी', 'शत', 'रेल', 'स्वर्ण', 'बेची', 'सेवक', 'प्रक्रिया', 'पापी', 'श्राप', 'उठ', 'पान', 'शान्त', 'बुद्धिमान', 'हा', 'सूची', 'प्रकाशित', 'चलाई', 'ता', 'फर्क', 'पट्टी', 'शुद्ध', 'कृष्ण', 'ख', 'बधाई', 'शारीरिक', 'साफ', 'निश्चित', 'नमस्ते', 'तर्क', 'अर्जुन', 'स्त्री', 'मनै', 'समाप्त', 'कुण्ड', 'बितर', 'राजधानी', 'केन्द्रित', 'उठी', 'सुस्त', 'उत्तम', 'दम', 'बाज', 'जैविक', 'वंश', 'अतिथि', 'उपलब्धि', 'साबित', 'रुप', 'सहायता', 'संभावना', 'भाई', 'महामहिम', 'छन', 'मैदान', 'प्राचीन', 'औ', 'सिर', 'धन्यवाद', 'मी', 'इतिहास', 'यूनानी', 'स्वयं', 'जहाज', 'जे', 'हालत', 'आजाद', 'कुल', 'दबाब', 'स्कूल', 'वर', 'दान', 'निवारण', 'भूल', 'राजस्थान', 'सभा', 'बोझ', 'सदा', 'प्रलय', 'सृष्टि', 'अभ्यास', 'बाबू', 'सार', 'विमान', 'आस', 'प्रमुख', 'द्वार', 'हे', 'देखी', 'घमण्ड', 'आपसी', 'जादू', 'ई', 'लाश', 'प्रति', 'हरेक', 'नाटक', 'महात्मा', 'दोष', 'प्रमाण', 'धूप', 'कुन', 'साहित्य', 'लगे', 'स्तर', 'मतलब', 'राज', 'बुद्धि', 'दयालु', 'किलो', 'कनान', 'आर', 'अधिकार', 'नगर', 'रो', 'यु', 'कोच', 'महाभारत', 'शरीर', 'क्या', 'सत्ता', 'द्वारा', 'तयारी', 'चिन्ह', 'नाटककार', 'केन्द्रीय', 'अंग्रेजी', 'जीवन', 'मन', 'स्वर्ग', 'पश्चिम', 'ए', 'महाराज', 'लीला', 'व्यवस्थित', 'उपासना', 'विरोध', 'मानक'}\n"
          ]
        }
      ]
    },
    {
      "cell_type": "markdown",
      "metadata": {
        "id": "vxYmsfwyVI79"
      },
      "source": [
        "## Language Identification"
      ]
    },
    {
      "cell_type": "code",
      "execution_count": null,
      "metadata": {
        "id": "rNyCTAQIizqV"
      },
      "outputs": [],
      "source": [
        "def ngrams(term, ngram_range, min_df=1, max_df=1.0):\n",
        "    \"\"\"\n",
        "    Function to extract word or char n-gram features.\n",
        "\n",
        "    Parameters:\n",
        "        analyzer: string {'word', 'char', 'char_wb'}\n",
        "            Whether the feature should be made of word n-gram or character n-grams.\n",
        "            Option 'char_wb' creates character n-grams only from text inside word boundaries;\n",
        "            n-grams at the edges of words are padded with space.\n",
        "\n",
        "        ngram_range: tuple (min_n, max_n), default=(1, 1)\n",
        "            The lower and upper boundary of the range of n-values for different n-grams to be extracted.\n",
        "            All values of n such that min_n <= n <= max_n will be used.\n",
        "            For example an ngram_range of (1, 1) means only unigrams, (1, 2) means unigrams and bigrams, and (2, 2) means only bigrams.\n",
        "\n",
        "        min_df: float in range [0.0, 1.0] or int, default=1\n",
        "            When building the vocabulary ignore terms that have a document frequency strictly lower than the given threshold.\n",
        "            This value is also called cut-off in the literature.\n",
        "            If float, the parameter represents a proportion of documents, integer absolute counts.\n",
        "\n",
        "        max_df: float in range [0.0, 1.0] or int, default=1.0\n",
        "            When building the vocabulary ignore terms that have a document frequency strictly higher than the given threshold (corpus-specific stop words).\n",
        "            If float, the parameter represents a proportion of documents, integer absolute counts.\n",
        "\n",
        "    Returns:\n",
        "        z: dict {features: list of features, tr_analyzer_ngram: scipy.sparse.csr.csr_matrix, ts_analyzer_ngram: scipy.sparse.csr.csr_matrix}\n",
        "    \"\"\"\n",
        "    \n",
        "    i, j = ngram_range\n",
        "    \n",
        "    def word_ngram_analyzer(doc):\n",
        "        for line in doc.split('\\n'):\n",
        "            terms = re.findall(r\"\\w+\", line)\n",
        "            for n in range(i, j+1):\n",
        "                for ngram in zip(*[islice(seq, k, len(terms)) for k, seq in enumerate(tee(terms, n))]):\n",
        "                    ngram = \" \".join(ngram)\n",
        "                    yield ngram\n",
        "    \n",
        "    try:\n",
        "        if term == 'word':\n",
        "            vectorizer = CountVectorizer(analyzer=word_ngram_analyzer, min_df=min_df, max_df=max_df)\n",
        "        else:\n",
        "            vectorizer = CountVectorizer(analyzer=term, ngram_range=(i, j), min_df=min_df, max_df=max_df)\n",
        "        vectorizer.fit(tr_text)\n",
        "    except ValueError:\n",
        "        print(\"Error: After pruning, no terms remain.\")\n",
        "        return None\n",
        "\n",
        "    z = dict()\n",
        "    z[\"features\"] = vectorizer.get_feature_names_out()\n",
        "    z[\"tr_\"+term+\"_\"+str(i)+str(j)] = vectorizer.transform(tr_text)\n",
        "    z[\"ts_\"+term+\"_\"+str(i)+str(j)] = vectorizer.transform(ts_text)\n",
        "\n",
        "    return z"
      ]
    },
    {
      "cell_type": "code",
      "execution_count": null,
      "metadata": {
        "id": "E8ILlhY8Ykph"
      },
      "outputs": [],
      "source": [
        "def classifier(clf, params, X_tr, y_tr, X_ts, y_ts):\n",
        "    print(\"Training\", clf)\n",
        "\n",
        "    search = GridSearchCV(estimator=clf, param_grid=params, scoring='accuracy', \n",
        "                          cv=5, verbose=1, return_train_score=True)\n",
        "    t0 = time()\n",
        "    search.fit(X_tr, y_tr)\n",
        "    tr_val_time = time() - t0\n",
        "    clf = search.best_estimator_\n",
        "    print(\"\\nBest Estimator:\", clf)\n",
        "    print(\"\\nTrain and validation time: %.4f seconds\" % tr_val_time)\n",
        "\n",
        "    t0 = time()\n",
        "    y_true, y_pred = y_ts, clf.predict(X_ts)\n",
        "    ts_time = time() - t0\n",
        "    print(\"\\nTest time: %.4f seconds\" % ts_time)\n",
        "\n",
        "    confusion_mat = metrics.confusion_matrix(y_true, y_pred)\n",
        "    scores_report = metrics.classification_report(y_true, y_pred, target_names=label.keys(), output_dict=True)\n",
        "    scores_report = pd.DataFrame(scores_report)\n",
        "    \n",
        "    print(\"\\nClassification report:\")\n",
        "    print(metrics.classification_report(y_true, y_pred, target_names=label.keys(), digits=4))\n",
        "    print(\"\\nConfusion matrix:\")\n",
        "    cm_disp = metrics.ConfusionMatrixDisplay.from_estimator(clf, X_ts, y_ts, values_format='d', \n",
        "                                                           display_labels=label.keys(), cmap=plt.cm.Blues, colorbar=False)\n",
        "    \n",
        "    plt.show()\n",
        "\n",
        "    return search.best_params_, tr_val_time, ts_time, scores_report, cm_disp, y_pred"
      ]
    },
    {
      "cell_type": "code",
      "execution_count": null,
      "metadata": {
        "id": "tMVKEZ-S9SkC"
      },
      "outputs": [],
      "source": [
        "def build_ngram_model(max_n):\n",
        "    ngram = range(1, max_n+1)\n",
        "    ngram_range = [(i, j) for i in ngram for j in ngram if i<=j]\n",
        "\n",
        "    outputs = {clf: dict() for clf in clflist}\n",
        "    results = {clf: [] for clf in clflist}\n",
        "    columns = [\"Vectorizer\", \"#Features\", \"Hyperparameter\", \n",
        "               \"Train&Val time (s)\", \"Test time (s)\", \n",
        "               \"Precision\", \"Recall\", \"F1-score\", \"Accuracy\"]\n",
        "\n",
        "    for analyzer in ['word', 'char', 'char_wb']:\n",
        "        for (i, j) in ngram_range:\n",
        "            print('*'*80)\n",
        "            print(f\"Extracting frequency based {analyzer} ({i},{j})-gram features...\")\n",
        "            z = ngrams(term=analyzer, ngram_range=(i, j), min_df=0.005)\n",
        "            if z is None:          \n",
        "                continue\n",
        "            \n",
        "            vect = analyzer+\"_\"+str(i)+str(j)\n",
        "            X_tr = z[\"tr_\"+vect].toarray()\n",
        "            X_ts = z[\"ts_\"+vect].toarray()\n",
        "\n",
        "            for (clf, params, descript), clfname in zip([\n",
        "                    (MultinomialNB(), \n",
        "                     {'alpha': np.power(10, np.arange(-3, 2, dtype=float))}, \n",
        "                     \"Multinomial Naïve Bayes Classifier\"),\n",
        "                    (LinearSVC(dual=False), \n",
        "                     {'C': np.power(10, np.arange(-3, 2, dtype=float))}, \n",
        "                     \"Linear Support Vector Classifier\")], \n",
        "                    clflist):\n",
        "                best_param, tr_val_time, ts_time, scores, cm_disp, y_pred = classifier(clf, params, X_tr, y_tr, X_ts, y_ts)\n",
        "                cm_df = pd.DataFrame(cm_disp.confusion_matrix, index=label.keys(), columns=label.keys())\n",
        "                cm_df.to_csv(os.path.join(dirpath, 'confusion_matrix', 'cm_'+clfname+'_'+vect+'.csv'))\n",
        "                result = []\n",
        "                result.extend([vect, len(z[\"features\"])])          \n",
        "                result.extend(best_param.values())                 \n",
        "                result.extend([tr_val_time, ts_time])               \n",
        "                result.extend(scores[\"macro avg\"].tolist()[:-1])   \n",
        "                result.append(scores[\"accuracy\"].iat[0]*100)\n",
        "                results[clfname].append(dict(zip(columns, result)))\n",
        "                outputs[clfname][vect] = y_pred\n",
        "\n",
        "    return {clf: pd.DataFrame(results[clf]) for clf in clflist}, outputs"
      ]
    },
    {
      "cell_type": "code",
      "execution_count": null,
      "metadata": {
        "colab": {
          "base_uri": "https://localhost:8080/",
          "height": 1000
        },
        "id": "fpcfqrgxtvBK",
        "outputId": "54e2cb8c-3413-4307-912e-81f42865546f"
      },
      "outputs": [
        {
          "output_type": "stream",
          "name": "stdout",
          "text": [
            "********************************************************************************\n",
            "Extracting frequency based word (1,1)-gram features...\n",
            "Training MultinomialNB()\n",
            "Fitting 5 folds for each of 5 candidates, totalling 25 fits\n",
            "\n",
            "Best Estimator: MultinomialNB(alpha=0.01)\n",
            "\n",
            "Train and validation time: 13.5772 seconds\n",
            "\n",
            "Test time: 0.0235 seconds\n",
            "\n",
            "Classification report:\n",
            "              precision    recall  f1-score   support\n",
            "\n",
            "         dgo     0.9757    0.9835    0.9796      2004\n",
            "         gbm     0.8658    0.9740    0.9167      3000\n",
            "         kfy     0.9612    0.9250    0.9428      3000\n",
            "         npi     0.9842    0.8930    0.9364      3000\n",
            "\n",
            "    accuracy                         0.9403     11004\n",
            "   macro avg     0.9467    0.9439    0.9439     11004\n",
            "weighted avg     0.9441    0.9403    0.9406     11004\n",
            "\n",
            "\n",
            "Confusion matrix:\n"
          ]
        },
        {
          "output_type": "display_data",
          "data": {
            "image/png": "[encoded data removed]",
            "text/plain": [
              "<Figure size 432x288 with 1 Axes>"
            ]
          },
          "metadata": {
            "needs_background": "light"
          }
        },
        {
          "output_type": "stream",
          "name": "stdout",
          "text": [
            "Training LinearSVC(dual=False)\n",
            "Fitting 5 folds for each of 5 candidates, totalling 25 fits\n",
            "\n",
            "Best Estimator: LinearSVC(dual=False)\n",
            "\n",
            "Train and validation time: 14.9521 seconds\n",
            "\n",
            "Test time: 0.0214 seconds\n",
            "\n",
            "Classification report:\n",
            "              precision    recall  f1-score   support\n",
            "\n",
            "         dgo     0.9899    0.9765    0.9832      2004\n",
            "         gbm     0.9675    0.9533    0.9604      3000\n",
            "         kfy     0.9627    0.9303    0.9463      3000\n",
            "         npi     0.9363    0.9900    0.9624      3000\n",
            "\n",
            "    accuracy                         0.9613     11004\n",
            "   macro avg     0.9641    0.9626    0.9631     11004\n",
            "weighted avg     0.9618    0.9613    0.9612     11004\n",
            "\n",
            "\n",
            "Confusion matrix:\n"
          ]
        },
        {
          "output_type": "display_data",
          "data": {
            "image/png": "[encoded data removed]",
            "text/plain": [
              "<Figure size 432x288 with 1 Axes>"
            ]
          },
          "metadata": {
            "needs_background": "light"
          }
        },
        {
          "output_type": "stream",
          "name": "stdout",
          "text": [
            "********************************************************************************\n",
            "Extracting frequency based word (1,2)-gram features...\n",
            "Training MultinomialNB()\n",
            "Fitting 5 folds for each of 5 candidates, totalling 25 fits\n",
            "\n",
            "Best Estimator: MultinomialNB(alpha=0.01)\n",
            "\n",
            "Train and validation time: 17.2733 seconds\n",
            "\n",
            "Test time: 0.0245 seconds\n",
            "\n",
            "Classification report:\n",
            "              precision    recall  f1-score   support\n",
            "\n",
            "         dgo     0.9762    0.9835    0.9799      2004\n",
            "         gbm     0.8658    0.9740    0.9167      3000\n",
            "         kfy     0.9612    0.9253    0.9429      3000\n",
            "         npi     0.9842    0.8930    0.9364      3000\n",
            "\n",
            "    accuracy                         0.9404     11004\n",
            "   macro avg     0.9469    0.9440    0.9440     11004\n",
            "weighted avg     0.9442    0.9404    0.9407     11004\n",
            "\n",
            "\n",
            "Confusion matrix:\n"
          ]
        },
        {
          "output_type": "display_data",
          "data": {
            "image/png": "[encoded data removed]",
            "text/plain": [
              "<Figure size 432x288 with 1 Axes>"
            ]
          },
          "metadata": {
            "needs_background": "light"
          }
        },
        {
          "output_type": "stream",
          "name": "stdout",
          "text": [
            "Training LinearSVC(dual=False)\n",
            "Fitting 5 folds for each of 5 candidates, totalling 25 fits\n",
            "\n",
            "Best Estimator: LinearSVC(dual=False)\n",
            "\n",
            "Train and validation time: 17.8175 seconds\n",
            "\n",
            "Test time: 0.0368 seconds\n",
            "\n",
            "Classification report:\n",
            "              precision    recall  f1-score   support\n",
            "\n",
            "         dgo     0.9899    0.9770    0.9834      2004\n",
            "         gbm     0.9675    0.9533    0.9604      3000\n",
            "         kfy     0.9631    0.9303    0.9464      3000\n",
            "         npi     0.9363    0.9900    0.9624      3000\n",
            "\n",
            "    accuracy                         0.9614     11004\n",
            "   macro avg     0.9642    0.9627    0.9632     11004\n",
            "weighted avg     0.9619    0.9614    0.9613     11004\n",
            "\n",
            "\n",
            "Confusion matrix:\n"
          ]
        },
        {
          "output_type": "display_data",
          "data": {
            "image/png": "[encoded data removed]",
            "text/plain": [
              "<Figure size 432x288 with 1 Axes>"
            ]
          },
          "metadata": {
            "needs_background": "light"
          }
        },
        {
          "output_type": "stream",
          "name": "stdout",
          "text": [
            "********************************************************************************\n",
            "Extracting frequency based word (1,3)-gram features...\n",
            "Training MultinomialNB()\n",
            "Fitting 5 folds for each of 5 candidates, totalling 25 fits\n",
            "\n",
            "Best Estimator: MultinomialNB(alpha=0.01)\n",
            "\n",
            "Train and validation time: 17.3822 seconds\n",
            "\n",
            "Test time: 0.0227 seconds\n",
            "\n",
            "Classification report:\n",
            "              precision    recall  f1-score   support\n",
            "\n",
            "         dgo     0.9762    0.9835    0.9799      2004\n",
            "         gbm     0.8658    0.9740    0.9167      3000\n",
            "         kfy     0.9612    0.9253    0.9429      3000\n",
            "         npi     0.9842    0.8930    0.9364      3000\n",
            "\n",
            "    accuracy                         0.9404     11004\n",
            "   macro avg     0.9469    0.9440    0.9440     11004\n",
            "weighted avg     0.9442    0.9404    0.9407     11004\n",
            "\n",
            "\n",
            "Confusion matrix:\n"
          ]
        },
        {
          "output_type": "display_data",
          "data": {
            "image/png": "[encoded data removed]",
            "text/plain": [
              "<Figure size 432x288 with 1 Axes>"
            ]
          },
          "metadata": {
            "needs_background": "light"
          }
        },
        {
          "output_type": "stream",
          "name": "stdout",
          "text": [
            "Training LinearSVC(dual=False)\n",
            "Fitting 5 folds for each of 5 candidates, totalling 25 fits\n",
            "\n",
            "Best Estimator: LinearSVC(dual=False)\n",
            "\n",
            "Train and validation time: 14.5674 seconds\n",
            "\n",
            "Test time: 0.0231 seconds\n",
            "\n",
            "Classification report:\n",
            "              precision    recall  f1-score   support\n",
            "\n",
            "         dgo     0.9899    0.9770    0.9834      2004\n",
            "         gbm     0.9675    0.9533    0.9604      3000\n",
            "         kfy     0.9631    0.9303    0.9464      3000\n",
            "         npi     0.9363    0.9900    0.9624      3000\n",
            "\n",
            "    accuracy                         0.9614     11004\n",
            "   macro avg     0.9642    0.9627    0.9632     11004\n",
            "weighted avg     0.9619    0.9614    0.9613     11004\n",
            "\n",
            "\n",
            "Confusion matrix:\n"
          ]
        },
        {
          "output_type": "display_data",
          "data": {
            "image/png": "[encoded data removed]",
            "text/plain": [
              "<Figure size 432x288 with 1 Axes>"
            ]
          },
          "metadata": {
            "needs_background": "light"
          }
        },
        {
          "output_type": "stream",
          "name": "stdout",
          "text": [
            "********************************************************************************\n",
            "Extracting frequency based word (1,4)-gram features...\n",
            "Training MultinomialNB()\n",
            "Fitting 5 folds for each of 5 candidates, totalling 25 fits\n",
            "\n",
            "Best Estimator: MultinomialNB(alpha=0.01)\n",
            "\n",
            "Train and validation time: 14.9073 seconds\n",
            "\n",
            "Test time: 0.0251 seconds\n",
            "\n",
            "Classification report:\n",
            "              precision    recall  f1-score   support\n",
            "\n",
            "         dgo     0.9762    0.9835    0.9799      2004\n",
            "         gbm     0.8658    0.9740    0.9167      3000\n",
            "         kfy     0.9612    0.9253    0.9429      3000\n",
            "         npi     0.9842    0.8930    0.9364      3000\n",
            "\n",
            "    accuracy                         0.9404     11004\n",
            "   macro avg     0.9469    0.9440    0.9440     11004\n",
            "weighted avg     0.9442    0.9404    0.9407     11004\n",
            "\n",
            "\n",
            "Confusion matrix:\n"
          ]
        },
        {
          "output_type": "display_data",
          "data": {
            "image/png": "[encoded data removed]",
            "text/plain": [
              "<Figure size 432x288 with 1 Axes>"
            ]
          },
          "metadata": {
            "needs_background": "light"
          }
        },
        {
          "output_type": "stream",
          "name": "stdout",
          "text": [
            "Training LinearSVC(dual=False)\n",
            "Fitting 5 folds for each of 5 candidates, totalling 25 fits\n",
            "\n",
            "Best Estimator: LinearSVC(dual=False)\n",
            "\n",
            "Train and validation time: 20.9344 seconds\n",
            "\n",
            "Test time: 0.0258 seconds\n",
            "\n",
            "Classification report:\n",
            "              precision    recall  f1-score   support\n",
            "\n",
            "         dgo     0.9899    0.9770    0.9834      2004\n",
            "         gbm     0.9675    0.9533    0.9604      3000\n",
            "         kfy     0.9631    0.9303    0.9464      3000\n",
            "         npi     0.9363    0.9900    0.9624      3000\n",
            "\n",
            "    accuracy                         0.9614     11004\n",
            "   macro avg     0.9642    0.9627    0.9632     11004\n",
            "weighted avg     0.9619    0.9614    0.9613     11004\n",
            "\n",
            "\n",
            "Confusion matrix:\n"
          ]
        },
        {
          "output_type": "display_data",
          "data": {
            "image/png": "[encoded data removed]",
            "text/plain": [
              "<Figure size 432x288 with 1 Axes>"
            ]
          },
          "metadata": {
            "needs_background": "light"
          }
        },
        {
          "output_type": "stream",
          "name": "stdout",
          "text": [
            "********************************************************************************\n",
            "Extracting frequency based word (1,5)-gram features...\n",
            "Training MultinomialNB()\n",
            "Fitting 5 folds for each of 5 candidates, totalling 25 fits\n",
            "\n",
            "Best Estimator: MultinomialNB(alpha=0.01)\n",
            "\n",
            "Train and validation time: 17.1742 seconds\n",
            "\n",
            "Test time: 0.0230 seconds\n",
            "\n",
            "Classification report:\n",
            "              precision    recall  f1-score   support\n",
            "\n",
            "         dgo     0.9762    0.9835    0.9799      2004\n",
            "         gbm     0.8658    0.9740    0.9167      3000\n",
            "         kfy     0.9612    0.9253    0.9429      3000\n",
            "         npi     0.9842    0.8930    0.9364      3000\n",
            "\n",
            "    accuracy                         0.9404     11004\n",
            "   macro avg     0.9469    0.9440    0.9440     11004\n",
            "weighted avg     0.9442    0.9404    0.9407     11004\n",
            "\n",
            "\n",
            "Confusion matrix:\n"
          ]
        },
        {
          "output_type": "display_data",
          "data": {
            "image/png": "[encoded data removed]",
            "text/plain": [
              "<Figure size 432x288 with 1 Axes>"
            ]
          },
          "metadata": {
            "needs_background": "light"
          }
        },
        {
          "output_type": "stream",
          "name": "stdout",
          "text": [
            "Training LinearSVC(dual=False)\n",
            "Fitting 5 folds for each of 5 candidates, totalling 25 fits\n",
            "\n",
            "Best Estimator: LinearSVC(dual=False)\n",
            "\n",
            "Train and validation time: 14.5993 seconds\n",
            "\n",
            "Test time: 0.0256 seconds\n",
            "\n",
            "Classification report:\n",
            "              precision    recall  f1-score   support\n",
            "\n",
            "         dgo     0.9899    0.9770    0.9834      2004\n",
            "         gbm     0.9675    0.9533    0.9604      3000\n",
            "         kfy     0.9631    0.9303    0.9464      3000\n",
            "         npi     0.9363    0.9900    0.9624      3000\n",
            "\n",
            "    accuracy                         0.9614     11004\n",
            "   macro avg     0.9642    0.9627    0.9632     11004\n",
            "weighted avg     0.9619    0.9614    0.9613     11004\n",
            "\n",
            "\n",
            "Confusion matrix:\n"
          ]
        },
        {
          "output_type": "display_data",
          "data": {
            "image/png": "[encoded data removed]",
            "text/plain": [
              "<Figure size 432x288 with 1 Axes>"
            ]
          },
          "metadata": {
            "needs_background": "light"
          }
        },
        {
          "output_type": "stream",
          "name": "stdout",
          "text": [
            "********************************************************************************\n",
            "Extracting frequency based word (1,6)-gram features...\n",
            "Training MultinomialNB()\n",
            "Fitting 5 folds for each of 5 candidates, totalling 25 fits\n",
            "\n",
            "Best Estimator: MultinomialNB(alpha=0.01)\n",
            "\n",
            "Train and validation time: 16.4604 seconds\n",
            "\n",
            "Test time: 0.0238 seconds\n",
            "\n",
            "Classification report:\n",
            "              precision    recall  f1-score   support\n",
            "\n",
            "         dgo     0.9762    0.9835    0.9799      2004\n",
            "         gbm     0.8658    0.9740    0.9167      3000\n",
            "         kfy     0.9612    0.9253    0.9429      3000\n",
            "         npi     0.9842    0.8930    0.9364      3000\n",
            "\n",
            "    accuracy                         0.9404     11004\n",
            "   macro avg     0.9469    0.9440    0.9440     11004\n",
            "weighted avg     0.9442    0.9404    0.9407     11004\n",
            "\n",
            "\n",
            "Confusion matrix:\n"
          ]
        },
        {
          "output_type": "display_data",
          "data": {
            "image/png": "[encoded data removed]",
            "text/plain": [
              "<Figure size 432x288 with 1 Axes>"
            ]
          },
          "metadata": {
            "needs_background": "light"
          }
        },
        {
          "output_type": "stream",
          "name": "stdout",
          "text": [
            "Training LinearSVC(dual=False)\n",
            "Fitting 5 folds for each of 5 candidates, totalling 25 fits\n",
            "\n",
            "Best Estimator: LinearSVC(dual=False)\n",
            "\n",
            "Train and validation time: 14.6386 seconds\n",
            "\n",
            "Test time: 0.0246 seconds\n",
            "\n",
            "Classification report:\n",
            "              precision    recall  f1-score   support\n",
            "\n",
            "         dgo     0.9899    0.9770    0.9834      2004\n",
            "         gbm     0.9675    0.9533    0.9604      3000\n",
            "         kfy     0.9631    0.9303    0.9464      3000\n",
            "         npi     0.9363    0.9900    0.9624      3000\n",
            "\n",
            "    accuracy                         0.9614     11004\n",
            "   macro avg     0.9642    0.9627    0.9632     11004\n",
            "weighted avg     0.9619    0.9614    0.9613     11004\n",
            "\n",
            "\n",
            "Confusion matrix:\n"
          ]
        },
        {
          "output_type": "display_data",
          "data": {
            "image/png": "[encoded data removed]",
            "text/plain": [
              "<Figure size 432x288 with 1 Axes>"
            ]
          },
          "metadata": {
            "needs_background": "light"
          }
        },
        {
          "output_type": "stream",
          "name": "stdout",
          "text": [
            "********************************************************************************\n",
            "Extracting frequency based word (1,7)-gram features...\n",
            "Training MultinomialNB()\n",
            "Fitting 5 folds for each of 5 candidates, totalling 25 fits\n",
            "\n",
            "Best Estimator: MultinomialNB(alpha=0.01)\n",
            "\n",
            "Train and validation time: 16.0579 seconds\n",
            "\n",
            "Test time: 0.0230 seconds\n",
            "\n",
            "Classification report:\n",
            "              precision    recall  f1-score   support\n",
            "\n",
            "         dgo     0.9762    0.9835    0.9799      2004\n",
            "         gbm     0.8658    0.9740    0.9167      3000\n",
            "         kfy     0.9612    0.9253    0.9429      3000\n",
            "         npi     0.9842    0.8930    0.9364      3000\n",
            "\n",
            "    accuracy                         0.9404     11004\n",
            "   macro avg     0.9469    0.9440    0.9440     11004\n",
            "weighted avg     0.9442    0.9404    0.9407     11004\n",
            "\n",
            "\n",
            "Confusion matrix:\n"
          ]
        },
        {
          "output_type": "display_data",
          "data": {
            "image/png": "[encoded data removed]",
            "text/plain": [
              "<Figure size 432x288 with 1 Axes>"
            ]
          },
          "metadata": {
            "needs_background": "light"
          }
        },
        {
          "output_type": "stream",
          "name": "stdout",
          "text": [
            "Training LinearSVC(dual=False)\n",
            "Fitting 5 folds for each of 5 candidates, totalling 25 fits\n",
            "\n",
            "Best Estimator: LinearSVC(dual=False)\n",
            "\n",
            "Train and validation time: 14.8158 seconds\n",
            "\n",
            "Test time: 0.0210 seconds\n",
            "\n",
            "Classification report:\n",
            "              precision    recall  f1-score   support\n",
            "\n",
            "         dgo     0.9899    0.9770    0.9834      2004\n",
            "         gbm     0.9675    0.9533    0.9604      3000\n",
            "         kfy     0.9631    0.9303    0.9464      3000\n",
            "         npi     0.9363    0.9900    0.9624      3000\n",
            "\n",
            "    accuracy                         0.9614     11004\n",
            "   macro avg     0.9642    0.9627    0.9632     11004\n",
            "weighted avg     0.9619    0.9614    0.9613     11004\n",
            "\n",
            "\n",
            "Confusion matrix:\n"
          ]
        },
        {
          "output_type": "display_data",
          "data": {
            "image/png": "[encoded data removed]",
            "text/plain": [
              "<Figure size 432x288 with 1 Axes>"
            ]
          },
          "metadata": {
            "needs_background": "light"
          }
        },
        {
          "output_type": "stream",
          "name": "stdout",
          "text": [
            "********************************************************************************\n",
            "Extracting frequency based word (1,8)-gram features...\n",
            "Training MultinomialNB()\n",
            "Fitting 5 folds for each of 5 candidates, totalling 25 fits\n",
            "\n",
            "Best Estimator: MultinomialNB(alpha=0.01)\n",
            "\n",
            "Train and validation time: 17.5388 seconds\n",
            "\n",
            "Test time: 0.0218 seconds\n",
            "\n",
            "Classification report:\n",
            "              precision    recall  f1-score   support\n",
            "\n",
            "         dgo     0.9762    0.9835    0.9799      2004\n",
            "         gbm     0.8658    0.9740    0.9167      3000\n",
            "         kfy     0.9612    0.9253    0.9429      3000\n",
            "         npi     0.9842    0.8930    0.9364      3000\n",
            "\n",
            "    accuracy                         0.9404     11004\n",
            "   macro avg     0.9469    0.9440    0.9440     11004\n",
            "weighted avg     0.9442    0.9404    0.9407     11004\n",
            "\n",
            "\n",
            "Confusion matrix:\n"
          ]
        },
        {
          "output_type": "display_data",
          "data": {
            "image/png": "[encoded data removed]",
            "text/plain": [
              "<Figure size 432x288 with 1 Axes>"
            ]
          },
          "metadata": {
            "needs_background": "light"
          }
        },
        {
          "output_type": "stream",
          "name": "stdout",
          "text": [
            "Training LinearSVC(dual=False)\n",
            "Fitting 5 folds for each of 5 candidates, totalling 25 fits\n",
            "\n",
            "Best Estimator: LinearSVC(dual=False)\n",
            "\n",
            "Train and validation time: 17.7204 seconds\n",
            "\n",
            "Test time: 0.0263 seconds\n",
            "\n",
            "Classification report:\n",
            "              precision    recall  f1-score   support\n",
            "\n",
            "         dgo     0.9899    0.9770    0.9834      2004\n",
            "         gbm     0.9675    0.9533    0.9604      3000\n",
            "         kfy     0.9631    0.9303    0.9464      3000\n",
            "         npi     0.9363    0.9900    0.9624      3000\n",
            "\n",
            "    accuracy                         0.9614     11004\n",
            "   macro avg     0.9642    0.9627    0.9632     11004\n",
            "weighted avg     0.9619    0.9614    0.9613     11004\n",
            "\n",
            "\n",
            "Confusion matrix:\n"
          ]
        },
        {
          "output_type": "display_data",
          "data": {
            "image/png": "[encoded data removed]",
            "text/plain": [
              "<Figure size 432x288 with 1 Axes>"
            ]
          },
          "metadata": {
            "needs_background": "light"
          }
        },
        {
          "output_type": "stream",
          "name": "stdout",
          "text": [
            "********************************************************************************\n",
            "Extracting frequency based word (2,2)-gram features...\n",
            "Training MultinomialNB()\n",
            "Fitting 5 folds for each of 5 candidates, totalling 25 fits\n",
            "\n",
            "Best Estimator: MultinomialNB(alpha=0.001)\n",
            "\n",
            "Train and validation time: 1.1013 seconds\n",
            "\n",
            "Test time: 0.0019 seconds\n",
            "\n",
            "Classification report:\n",
            "              precision    recall  f1-score   support\n",
            "\n",
            "         dgo     1.0000    0.1223    0.2179      2004\n",
            "         gbm     0.2839    0.9963    0.4419      3000\n",
            "         kfy     0.0000    0.0000    0.0000      3000\n",
            "         npi     0.0000    0.0000    0.0000      3000\n",
            "\n",
            "    accuracy                         0.2939     11004\n",
            "   macro avg     0.3210    0.2796    0.1649     11004\n",
            "weighted avg     0.2595    0.2939    0.1602     11004\n",
            "\n",
            "\n",
            "Confusion matrix:\n"
          ]
        },
        {
          "output_type": "stream",
          "name": "stderr",
          "text": [
            "/usr/local/lib/python3.7/dist-packages/sklearn/metrics/_classification.py:1318: UndefinedMetricWarning: Precision and F-score are ill-defined and being set to 0.0 in labels with no predicted samples. Use `zero_division` parameter to control this behavior.\n",
            "  _warn_prf(average, modifier, msg_start, len(result))\n",
            "/usr/local/lib/python3.7/dist-packages/sklearn/metrics/_classification.py:1318: UndefinedMetricWarning: Precision and F-score are ill-defined and being set to 0.0 in labels with no predicted samples. Use `zero_division` parameter to control this behavior.\n",
            "  _warn_prf(average, modifier, msg_start, len(result))\n",
            "/usr/local/lib/python3.7/dist-packages/sklearn/metrics/_classification.py:1318: UndefinedMetricWarning: Precision and F-score are ill-defined and being set to 0.0 in labels with no predicted samples. Use `zero_division` parameter to control this behavior.\n",
            "  _warn_prf(average, modifier, msg_start, len(result))\n",
            "/usr/local/lib/python3.7/dist-packages/sklearn/metrics/_classification.py:1318: UndefinedMetricWarning: Precision and F-score are ill-defined and being set to 0.0 in labels with no predicted samples. Use `zero_division` parameter to control this behavior.\n",
            "  _warn_prf(average, modifier, msg_start, len(result))\n",
            "/usr/local/lib/python3.7/dist-packages/sklearn/metrics/_classification.py:1318: UndefinedMetricWarning: Precision and F-score are ill-defined and being set to 0.0 in labels with no predicted samples. Use `zero_division` parameter to control this behavior.\n",
            "  _warn_prf(average, modifier, msg_start, len(result))\n",
            "/usr/local/lib/python3.7/dist-packages/sklearn/metrics/_classification.py:1318: UndefinedMetricWarning: Precision and F-score are ill-defined and being set to 0.0 in labels with no predicted samples. Use `zero_division` parameter to control this behavior.\n",
            "  _warn_prf(average, modifier, msg_start, len(result))\n"
          ]
        },
        {
          "output_type": "display_data",
          "data": {
            "image/png": "[encoded data removed]",
            "text/plain": [
              "<Figure size 432x288 with 1 Axes>"
            ]
          },
          "metadata": {
            "needs_background": "light"
          }
        },
        {
          "output_type": "stream",
          "name": "stdout",
          "text": [
            "Training LinearSVC(dual=False)\n",
            "Fitting 5 folds for each of 5 candidates, totalling 25 fits\n",
            "\n",
            "Best Estimator: LinearSVC(C=0.01, dual=False)\n",
            "\n",
            "Train and validation time: 13.7834 seconds\n",
            "\n",
            "Test time: 0.0032 seconds\n",
            "\n",
            "Classification report:\n",
            "              precision    recall  f1-score   support\n",
            "\n",
            "         dgo     0.9769    0.2320    0.3750      2004\n",
            "         gbm     0.9870    0.0507    0.0964      3000\n",
            "         kfy     0.0000    0.0000    0.0000      3000\n",
            "         npi     0.2892    1.0000    0.4486      3000\n",
            "\n",
            "    accuracy                         0.3287     11004\n",
            "   macro avg     0.5633    0.3207    0.2300     11004\n",
            "weighted avg     0.5258    0.3287    0.2169     11004\n",
            "\n",
            "\n",
            "Confusion matrix:\n"
          ]
        },
        {
          "output_type": "stream",
          "name": "stderr",
          "text": [
            "/usr/local/lib/python3.7/dist-packages/sklearn/metrics/_classification.py:1318: UndefinedMetricWarning: Precision and F-score are ill-defined and being set to 0.0 in labels with no predicted samples. Use `zero_division` parameter to control this behavior.\n",
            "  _warn_prf(average, modifier, msg_start, len(result))\n",
            "/usr/local/lib/python3.7/dist-packages/sklearn/metrics/_classification.py:1318: UndefinedMetricWarning: Precision and F-score are ill-defined and being set to 0.0 in labels with no predicted samples. Use `zero_division` parameter to control this behavior.\n",
            "  _warn_prf(average, modifier, msg_start, len(result))\n",
            "/usr/local/lib/python3.7/dist-packages/sklearn/metrics/_classification.py:1318: UndefinedMetricWarning: Precision and F-score are ill-defined and being set to 0.0 in labels with no predicted samples. Use `zero_division` parameter to control this behavior.\n",
            "  _warn_prf(average, modifier, msg_start, len(result))\n",
            "/usr/local/lib/python3.7/dist-packages/sklearn/metrics/_classification.py:1318: UndefinedMetricWarning: Precision and F-score are ill-defined and being set to 0.0 in labels with no predicted samples. Use `zero_division` parameter to control this behavior.\n",
            "  _warn_prf(average, modifier, msg_start, len(result))\n",
            "/usr/local/lib/python3.7/dist-packages/sklearn/metrics/_classification.py:1318: UndefinedMetricWarning: Precision and F-score are ill-defined and being set to 0.0 in labels with no predicted samples. Use `zero_division` parameter to control this behavior.\n",
            "  _warn_prf(average, modifier, msg_start, len(result))\n",
            "/usr/local/lib/python3.7/dist-packages/sklearn/metrics/_classification.py:1318: UndefinedMetricWarning: Precision and F-score are ill-defined and being set to 0.0 in labels with no predicted samples. Use `zero_division` parameter to control this behavior.\n",
            "  _warn_prf(average, modifier, msg_start, len(result))\n"
          ]
        },
        {
          "output_type": "display_data",
          "data": {
            "image/png": "[encoded data removed]",
            "text/plain": [
              "<Figure size 432x288 with 1 Axes>"
            ]
          },
          "metadata": {
            "needs_background": "light"
          }
        },
        {
          "output_type": "stream",
          "name": "stdout",
          "text": [
            "********************************************************************************\n",
            "Extracting frequency based word (2,3)-gram features...\n",
            "Training MultinomialNB()\n",
            "Fitting 5 folds for each of 5 candidates, totalling 25 fits\n",
            "\n",
            "Best Estimator: MultinomialNB(alpha=0.001)\n",
            "\n",
            "Train and validation time: 1.0205 seconds\n",
            "\n",
            "Test time: 0.0030 seconds\n",
            "\n",
            "Classification report:\n",
            "              precision    recall  f1-score   support\n",
            "\n",
            "         dgo     1.0000    0.1223    0.2179      2004\n",
            "         gbm     0.2839    0.9963    0.4419      3000\n",
            "         kfy     0.0000    0.0000    0.0000      3000\n",
            "         npi     0.0000    0.0000    0.0000      3000\n",
            "\n",
            "    accuracy                         0.2939     11004\n",
            "   macro avg     0.3210    0.2796    0.1649     11004\n",
            "weighted avg     0.2595    0.2939    0.1602     11004\n",
            "\n",
            "\n",
            "Confusion matrix:\n"
          ]
        },
        {
          "output_type": "stream",
          "name": "stderr",
          "text": [
            "/usr/local/lib/python3.7/dist-packages/sklearn/metrics/_classification.py:1318: UndefinedMetricWarning: Precision and F-score are ill-defined and being set to 0.0 in labels with no predicted samples. Use `zero_division` parameter to control this behavior.\n",
            "  _warn_prf(average, modifier, msg_start, len(result))\n",
            "/usr/local/lib/python3.7/dist-packages/sklearn/metrics/_classification.py:1318: UndefinedMetricWarning: Precision and F-score are ill-defined and being set to 0.0 in labels with no predicted samples. Use `zero_division` parameter to control this behavior.\n",
            "  _warn_prf(average, modifier, msg_start, len(result))\n",
            "/usr/local/lib/python3.7/dist-packages/sklearn/metrics/_classification.py:1318: UndefinedMetricWarning: Precision and F-score are ill-defined and being set to 0.0 in labels with no predicted samples. Use `zero_division` parameter to control this behavior.\n",
            "  _warn_prf(average, modifier, msg_start, len(result))\n",
            "/usr/local/lib/python3.7/dist-packages/sklearn/metrics/_classification.py:1318: UndefinedMetricWarning: Precision and F-score are ill-defined and being set to 0.0 in labels with no predicted samples. Use `zero_division` parameter to control this behavior.\n",
            "  _warn_prf(average, modifier, msg_start, len(result))\n",
            "/usr/local/lib/python3.7/dist-packages/sklearn/metrics/_classification.py:1318: UndefinedMetricWarning: Precision and F-score are ill-defined and being set to 0.0 in labels with no predicted samples. Use `zero_division` parameter to control this behavior.\n",
            "  _warn_prf(average, modifier, msg_start, len(result))\n",
            "/usr/local/lib/python3.7/dist-packages/sklearn/metrics/_classification.py:1318: UndefinedMetricWarning: Precision and F-score are ill-defined and being set to 0.0 in labels with no predicted samples. Use `zero_division` parameter to control this behavior.\n",
            "  _warn_prf(average, modifier, msg_start, len(result))\n"
          ]
        },
        {
          "output_type": "display_data",
          "data": {
            "image/png": "[encoded data removed]",
            "text/plain": [
              "<Figure size 432x288 with 1 Axes>"
            ]
          },
          "metadata": {
            "needs_background": "light"
          }
        },
        {
          "output_type": "stream",
          "name": "stdout",
          "text": [
            "Training LinearSVC(dual=False)\n",
            "Fitting 5 folds for each of 5 candidates, totalling 25 fits\n",
            "\n",
            "Best Estimator: LinearSVC(C=0.01, dual=False)\n",
            "\n",
            "Train and validation time: 13.1242 seconds\n",
            "\n",
            "Test time: 0.0015 seconds\n",
            "\n",
            "Classification report:\n",
            "              precision    recall  f1-score   support\n",
            "\n",
            "         dgo     0.9769    0.2320    0.3750      2004\n",
            "         gbm     0.9870    0.0507    0.0964      3000\n",
            "         kfy     0.0000    0.0000    0.0000      3000\n",
            "         npi     0.2892    1.0000    0.4486      3000\n",
            "\n",
            "    accuracy                         0.3287     11004\n",
            "   macro avg     0.5633    0.3207    0.2300     11004\n",
            "weighted avg     0.5258    0.3287    0.2169     11004\n",
            "\n",
            "\n",
            "Confusion matrix:\n"
          ]
        },
        {
          "output_type": "stream",
          "name": "stderr",
          "text": [
            "/usr/local/lib/python3.7/dist-packages/sklearn/metrics/_classification.py:1318: UndefinedMetricWarning: Precision and F-score are ill-defined and being set to 0.0 in labels with no predicted samples. Use `zero_division` parameter to control this behavior.\n",
            "  _warn_prf(average, modifier, msg_start, len(result))\n",
            "/usr/local/lib/python3.7/dist-packages/sklearn/metrics/_classification.py:1318: UndefinedMetricWarning: Precision and F-score are ill-defined and being set to 0.0 in labels with no predicted samples. Use `zero_division` parameter to control this behavior.\n",
            "  _warn_prf(average, modifier, msg_start, len(result))\n",
            "/usr/local/lib/python3.7/dist-packages/sklearn/metrics/_classification.py:1318: UndefinedMetricWarning: Precision and F-score are ill-defined and being set to 0.0 in labels with no predicted samples. Use `zero_division` parameter to control this behavior.\n",
            "  _warn_prf(average, modifier, msg_start, len(result))\n",
            "/usr/local/lib/python3.7/dist-packages/sklearn/metrics/_classification.py:1318: UndefinedMetricWarning: Precision and F-score are ill-defined and being set to 0.0 in labels with no predicted samples. Use `zero_division` parameter to control this behavior.\n",
            "  _warn_prf(average, modifier, msg_start, len(result))\n",
            "/usr/local/lib/python3.7/dist-packages/sklearn/metrics/_classification.py:1318: UndefinedMetricWarning: Precision and F-score are ill-defined and being set to 0.0 in labels with no predicted samples. Use `zero_division` parameter to control this behavior.\n",
            "  _warn_prf(average, modifier, msg_start, len(result))\n",
            "/usr/local/lib/python3.7/dist-packages/sklearn/metrics/_classification.py:1318: UndefinedMetricWarning: Precision and F-score are ill-defined and being set to 0.0 in labels with no predicted samples. Use `zero_division` parameter to control this behavior.\n",
            "  _warn_prf(average, modifier, msg_start, len(result))\n"
          ]
        },
        {
          "output_type": "display_data",
          "data": {
            "image/png": "[encoded data removed]",
            "text/plain": [
              "<Figure size 432x288 with 1 Axes>"
            ]
          },
          "metadata": {
            "needs_background": "light"
          }
        },
        {
          "output_type": "stream",
          "name": "stdout",
          "text": [
            "********************************************************************************\n",
            "Extracting frequency based word (2,4)-gram features...\n",
            "Training MultinomialNB()\n",
            "Fitting 5 folds for each of 5 candidates, totalling 25 fits\n",
            "\n",
            "Best Estimator: MultinomialNB(alpha=0.001)\n",
            "\n",
            "Train and validation time: 1.2455 seconds\n",
            "\n",
            "Test time: 0.0020 seconds\n",
            "\n",
            "Classification report:\n",
            "              precision    recall  f1-score   support\n",
            "\n",
            "         dgo     1.0000    0.1223    0.2179      2004\n",
            "         gbm     0.2839    0.9963    0.4419      3000\n",
            "         kfy     0.0000    0.0000    0.0000      3000\n",
            "         npi     0.0000    0.0000    0.0000      3000\n",
            "\n",
            "    accuracy                         0.2939     11004\n",
            "   macro avg     0.3210    0.2796    0.1649     11004\n",
            "weighted avg     0.2595    0.2939    0.1602     11004\n",
            "\n",
            "\n",
            "Confusion matrix:\n"
          ]
        },
        {
          "output_type": "stream",
          "name": "stderr",
          "text": [
            "/usr/local/lib/python3.7/dist-packages/sklearn/metrics/_classification.py:1318: UndefinedMetricWarning: Precision and F-score are ill-defined and being set to 0.0 in labels with no predicted samples. Use `zero_division` parameter to control this behavior.\n",
            "  _warn_prf(average, modifier, msg_start, len(result))\n",
            "/usr/local/lib/python3.7/dist-packages/sklearn/metrics/_classification.py:1318: UndefinedMetricWarning: Precision and F-score are ill-defined and being set to 0.0 in labels with no predicted samples. Use `zero_division` parameter to control this behavior.\n",
            "  _warn_prf(average, modifier, msg_start, len(result))\n",
            "/usr/local/lib/python3.7/dist-packages/sklearn/metrics/_classification.py:1318: UndefinedMetricWarning: Precision and F-score are ill-defined and being set to 0.0 in labels with no predicted samples. Use `zero_division` parameter to control this behavior.\n",
            "  _warn_prf(average, modifier, msg_start, len(result))\n",
            "/usr/local/lib/python3.7/dist-packages/sklearn/metrics/_classification.py:1318: UndefinedMetricWarning: Precision and F-score are ill-defined and being set to 0.0 in labels with no predicted samples. Use `zero_division` parameter to control this behavior.\n",
            "  _warn_prf(average, modifier, msg_start, len(result))\n",
            "/usr/local/lib/python3.7/dist-packages/sklearn/metrics/_classification.py:1318: UndefinedMetricWarning: Precision and F-score are ill-defined and being set to 0.0 in labels with no predicted samples. Use `zero_division` parameter to control this behavior.\n",
            "  _warn_prf(average, modifier, msg_start, len(result))\n",
            "/usr/local/lib/python3.7/dist-packages/sklearn/metrics/_classification.py:1318: UndefinedMetricWarning: Precision and F-score are ill-defined and being set to 0.0 in labels with no predicted samples. Use `zero_division` parameter to control this behavior.\n",
            "  _warn_prf(average, modifier, msg_start, len(result))\n"
          ]
        },
        {
          "output_type": "display_data",
          "data": {
            "image/png": "[encoded data removed]",
            "text/plain": [
              "<Figure size 432x288 with 1 Axes>"
            ]
          },
          "metadata": {
            "needs_background": "light"
          }
        },
        {
          "output_type": "stream",
          "name": "stdout",
          "text": [
            "Training LinearSVC(dual=False)\n",
            "Fitting 5 folds for each of 5 candidates, totalling 25 fits\n",
            "\n",
            "Best Estimator: LinearSVC(C=0.01, dual=False)\n",
            "\n",
            "Train and validation time: 12.6450 seconds\n",
            "\n",
            "Test time: 0.0022 seconds\n",
            "\n",
            "Classification report:\n",
            "              precision    recall  f1-score   support\n",
            "\n",
            "         dgo     0.9769    0.2320    0.3750      2004\n",
            "         gbm     0.9870    0.0507    0.0964      3000\n",
            "         kfy     0.0000    0.0000    0.0000      3000\n",
            "         npi     0.2892    1.0000    0.4486      3000\n",
            "\n",
            "    accuracy                         0.3287     11004\n",
            "   macro avg     0.5633    0.3207    0.2300     11004\n",
            "weighted avg     0.5258    0.3287    0.2169     11004\n",
            "\n",
            "\n",
            "Confusion matrix:\n"
          ]
        },
        {
          "output_type": "stream",
          "name": "stderr",
          "text": [
            "/usr/local/lib/python3.7/dist-packages/sklearn/metrics/_classification.py:1318: UndefinedMetricWarning: Precision and F-score are ill-defined and being set to 0.0 in labels with no predicted samples. Use `zero_division` parameter to control this behavior.\n",
            "  _warn_prf(average, modifier, msg_start, len(result))\n",
            "/usr/local/lib/python3.7/dist-packages/sklearn/metrics/_classification.py:1318: UndefinedMetricWarning: Precision and F-score are ill-defined and being set to 0.0 in labels with no predicted samples. Use `zero_division` parameter to control this behavior.\n",
            "  _warn_prf(average, modifier, msg_start, len(result))\n",
            "/usr/local/lib/python3.7/dist-packages/sklearn/metrics/_classification.py:1318: UndefinedMetricWarning: Precision and F-score are ill-defined and being set to 0.0 in labels with no predicted samples. Use `zero_division` parameter to control this behavior.\n",
            "  _warn_prf(average, modifier, msg_start, len(result))\n",
            "/usr/local/lib/python3.7/dist-packages/sklearn/metrics/_classification.py:1318: UndefinedMetricWarning: Precision and F-score are ill-defined and being set to 0.0 in labels with no predicted samples. Use `zero_division` parameter to control this behavior.\n",
            "  _warn_prf(average, modifier, msg_start, len(result))\n",
            "/usr/local/lib/python3.7/dist-packages/sklearn/metrics/_classification.py:1318: UndefinedMetricWarning: Precision and F-score are ill-defined and being set to 0.0 in labels with no predicted samples. Use `zero_division` parameter to control this behavior.\n",
            "  _warn_prf(average, modifier, msg_start, len(result))\n",
            "/usr/local/lib/python3.7/dist-packages/sklearn/metrics/_classification.py:1318: UndefinedMetricWarning: Precision and F-score are ill-defined and being set to 0.0 in labels with no predicted samples. Use `zero_division` parameter to control this behavior.\n",
            "  _warn_prf(average, modifier, msg_start, len(result))\n"
          ]
        },
        {
          "output_type": "display_data",
          "data": {
            "image/png": "[encoded data removed]",
            "text/plain": [
              "<Figure size 432x288 with 1 Axes>"
            ]
          },
          "metadata": {
            "needs_background": "light"
          }
        },
        {
          "output_type": "stream",
          "name": "stdout",
          "text": [
            "********************************************************************************\n",
            "Extracting frequency based word (2,5)-gram features...\n",
            "Training MultinomialNB()\n",
            "Fitting 5 folds for each of 5 candidates, totalling 25 fits\n",
            "\n",
            "Best Estimator: MultinomialNB(alpha=0.001)\n",
            "\n",
            "Train and validation time: 1.2479 seconds\n",
            "\n",
            "Test time: 0.0014 seconds\n",
            "\n",
            "Classification report:\n",
            "              precision    recall  f1-score   support\n",
            "\n",
            "         dgo     1.0000    0.1223    0.2179      2004\n",
            "         gbm     0.2839    0.9963    0.4419      3000\n",
            "         kfy     0.0000    0.0000    0.0000      3000\n",
            "         npi     0.0000    0.0000    0.0000      3000\n",
            "\n",
            "    accuracy                         0.2939     11004\n",
            "   macro avg     0.3210    0.2796    0.1649     11004\n",
            "weighted avg     0.2595    0.2939    0.1602     11004\n",
            "\n",
            "\n",
            "Confusion matrix:\n"
          ]
        },
        {
          "output_type": "stream",
          "name": "stderr",
          "text": [
            "/usr/local/lib/python3.7/dist-packages/sklearn/metrics/_classification.py:1318: UndefinedMetricWarning: Precision and F-score are ill-defined and being set to 0.0 in labels with no predicted samples. Use `zero_division` parameter to control this behavior.\n",
            "  _warn_prf(average, modifier, msg_start, len(result))\n",
            "/usr/local/lib/python3.7/dist-packages/sklearn/metrics/_classification.py:1318: UndefinedMetricWarning: Precision and F-score are ill-defined and being set to 0.0 in labels with no predicted samples. Use `zero_division` parameter to control this behavior.\n",
            "  _warn_prf(average, modifier, msg_start, len(result))\n",
            "/usr/local/lib/python3.7/dist-packages/sklearn/metrics/_classification.py:1318: UndefinedMetricWarning: Precision and F-score are ill-defined and being set to 0.0 in labels with no predicted samples. Use `zero_division` parameter to control this behavior.\n",
            "  _warn_prf(average, modifier, msg_start, len(result))\n",
            "/usr/local/lib/python3.7/dist-packages/sklearn/metrics/_classification.py:1318: UndefinedMetricWarning: Precision and F-score are ill-defined and being set to 0.0 in labels with no predicted samples. Use `zero_division` parameter to control this behavior.\n",
            "  _warn_prf(average, modifier, msg_start, len(result))\n",
            "/usr/local/lib/python3.7/dist-packages/sklearn/metrics/_classification.py:1318: UndefinedMetricWarning: Precision and F-score are ill-defined and being set to 0.0 in labels with no predicted samples. Use `zero_division` parameter to control this behavior.\n",
            "  _warn_prf(average, modifier, msg_start, len(result))\n",
            "/usr/local/lib/python3.7/dist-packages/sklearn/metrics/_classification.py:1318: UndefinedMetricWarning: Precision and F-score are ill-defined and being set to 0.0 in labels with no predicted samples. Use `zero_division` parameter to control this behavior.\n",
            "  _warn_prf(average, modifier, msg_start, len(result))\n"
          ]
        },
        {
          "output_type": "display_data",
          "data": {
            "image/png": "[encoded data removed]",
            "text/plain": [
              "<Figure size 432x288 with 1 Axes>"
            ]
          },
          "metadata": {
            "needs_background": "light"
          }
        },
        {
          "output_type": "stream",
          "name": "stdout",
          "text": [
            "Training LinearSVC(dual=False)\n",
            "Fitting 5 folds for each of 5 candidates, totalling 25 fits\n",
            "\n",
            "Best Estimator: LinearSVC(C=0.01, dual=False)\n",
            "\n",
            "Train and validation time: 13.8477 seconds\n",
            "\n",
            "Test time: 0.0035 seconds\n",
            "\n",
            "Classification report:\n",
            "              precision    recall  f1-score   support\n",
            "\n",
            "         dgo     0.9769    0.2320    0.3750      2004\n",
            "         gbm     0.9870    0.0507    0.0964      3000\n",
            "         kfy     0.0000    0.0000    0.0000      3000\n",
            "         npi     0.2892    1.0000    0.4486      3000\n",
            "\n",
            "    accuracy                         0.3287     11004\n",
            "   macro avg     0.5633    0.3207    0.2300     11004\n",
            "weighted avg     0.5258    0.3287    0.2169     11004\n",
            "\n",
            "\n",
            "Confusion matrix:\n"
          ]
        },
        {
          "output_type": "stream",
          "name": "stderr",
          "text": [
            "/usr/local/lib/python3.7/dist-packages/sklearn/metrics/_classification.py:1318: UndefinedMetricWarning: Precision and F-score are ill-defined and being set to 0.0 in labels with no predicted samples. Use `zero_division` parameter to control this behavior.\n",
            "  _warn_prf(average, modifier, msg_start, len(result))\n",
            "/usr/local/lib/python3.7/dist-packages/sklearn/metrics/_classification.py:1318: UndefinedMetricWarning: Precision and F-score are ill-defined and being set to 0.0 in labels with no predicted samples. Use `zero_division` parameter to control this behavior.\n",
            "  _warn_prf(average, modifier, msg_start, len(result))\n",
            "/usr/local/lib/python3.7/dist-packages/sklearn/metrics/_classification.py:1318: UndefinedMetricWarning: Precision and F-score are ill-defined and being set to 0.0 in labels with no predicted samples. Use `zero_division` parameter to control this behavior.\n",
            "  _warn_prf(average, modifier, msg_start, len(result))\n",
            "/usr/local/lib/python3.7/dist-packages/sklearn/metrics/_classification.py:1318: UndefinedMetricWarning: Precision and F-score are ill-defined and being set to 0.0 in labels with no predicted samples. Use `zero_division` parameter to control this behavior.\n",
            "  _warn_prf(average, modifier, msg_start, len(result))\n",
            "/usr/local/lib/python3.7/dist-packages/sklearn/metrics/_classification.py:1318: UndefinedMetricWarning: Precision and F-score are ill-defined and being set to 0.0 in labels with no predicted samples. Use `zero_division` parameter to control this behavior.\n",
            "  _warn_prf(average, modifier, msg_start, len(result))\n",
            "/usr/local/lib/python3.7/dist-packages/sklearn/metrics/_classification.py:1318: UndefinedMetricWarning: Precision and F-score are ill-defined and being set to 0.0 in labels with no predicted samples. Use `zero_division` parameter to control this behavior.\n",
            "  _warn_prf(average, modifier, msg_start, len(result))\n"
          ]
        },
        {
          "output_type": "display_data",
          "data": {
            "image/png": "[encoded data removed]",
            "text/plain": [
              "<Figure size 432x288 with 1 Axes>"
            ]
          },
          "metadata": {
            "needs_background": "light"
          }
        },
        {
          "output_type": "stream",
          "name": "stdout",
          "text": [
            "********************************************************************************\n",
            "Extracting frequency based word (2,6)-gram features...\n",
            "Training MultinomialNB()\n",
            "Fitting 5 folds for each of 5 candidates, totalling 25 fits\n",
            "\n",
            "Best Estimator: MultinomialNB(alpha=0.001)\n",
            "\n",
            "Train and validation time: 1.6915 seconds\n",
            "\n",
            "Test time: 0.0025 seconds\n",
            "\n",
            "Classification report:\n",
            "              precision    recall  f1-score   support\n",
            "\n",
            "         dgo     1.0000    0.1223    0.2179      2004\n",
            "         gbm     0.2839    0.9963    0.4419      3000\n",
            "         kfy     0.0000    0.0000    0.0000      3000\n",
            "         npi     0.0000    0.0000    0.0000      3000\n",
            "\n",
            "    accuracy                         0.2939     11004\n",
            "   macro avg     0.3210    0.2796    0.1649     11004\n",
            "weighted avg     0.2595    0.2939    0.1602     11004\n",
            "\n",
            "\n",
            "Confusion matrix:\n"
          ]
        },
        {
          "output_type": "stream",
          "name": "stderr",
          "text": [
            "/usr/local/lib/python3.7/dist-packages/sklearn/metrics/_classification.py:1318: UndefinedMetricWarning: Precision and F-score are ill-defined and being set to 0.0 in labels with no predicted samples. Use `zero_division` parameter to control this behavior.\n",
            "  _warn_prf(average, modifier, msg_start, len(result))\n",
            "/usr/local/lib/python3.7/dist-packages/sklearn/metrics/_classification.py:1318: UndefinedMetricWarning: Precision and F-score are ill-defined and being set to 0.0 in labels with no predicted samples. Use `zero_division` parameter to control this behavior.\n",
            "  _warn_prf(average, modifier, msg_start, len(result))\n",
            "/usr/local/lib/python3.7/dist-packages/sklearn/metrics/_classification.py:1318: UndefinedMetricWarning: Precision and F-score are ill-defined and being set to 0.0 in labels with no predicted samples. Use `zero_division` parameter to control this behavior.\n",
            "  _warn_prf(average, modifier, msg_start, len(result))\n",
            "/usr/local/lib/python3.7/dist-packages/sklearn/metrics/_classification.py:1318: UndefinedMetricWarning: Precision and F-score are ill-defined and being set to 0.0 in labels with no predicted samples. Use `zero_division` parameter to control this behavior.\n",
            "  _warn_prf(average, modifier, msg_start, len(result))\n",
            "/usr/local/lib/python3.7/dist-packages/sklearn/metrics/_classification.py:1318: UndefinedMetricWarning: Precision and F-score are ill-defined and being set to 0.0 in labels with no predicted samples. Use `zero_division` parameter to control this behavior.\n",
            "  _warn_prf(average, modifier, msg_start, len(result))\n",
            "/usr/local/lib/python3.7/dist-packages/sklearn/metrics/_classification.py:1318: UndefinedMetricWarning: Precision and F-score are ill-defined and being set to 0.0 in labels with no predicted samples. Use `zero_division` parameter to control this behavior.\n",
            "  _warn_prf(average, modifier, msg_start, len(result))\n"
          ]
        },
        {
          "output_type": "display_data",
          "data": {
            "image/png": "[encoded data removed]",
            "text/plain": [
              "<Figure size 432x288 with 1 Axes>"
            ]
          },
          "metadata": {
            "needs_background": "light"
          }
        },
        {
          "output_type": "stream",
          "name": "stdout",
          "text": [
            "Training LinearSVC(dual=False)\n",
            "Fitting 5 folds for each of 5 candidates, totalling 25 fits\n",
            "\n",
            "Best Estimator: LinearSVC(C=0.01, dual=False)\n",
            "\n",
            "Train and validation time: 14.3982 seconds\n",
            "\n",
            "Test time: 0.0015 seconds\n",
            "\n",
            "Classification report:\n",
            "              precision    recall  f1-score   support\n",
            "\n",
            "         dgo     0.9769    0.2320    0.3750      2004\n",
            "         gbm     0.9870    0.0507    0.0964      3000\n",
            "         kfy     0.0000    0.0000    0.0000      3000\n",
            "         npi     0.2892    1.0000    0.4486      3000\n",
            "\n",
            "    accuracy                         0.3287     11004\n",
            "   macro avg     0.5633    0.3207    0.2300     11004\n",
            "weighted avg     0.5258    0.3287    0.2169     11004\n",
            "\n",
            "\n",
            "Confusion matrix:\n"
          ]
        },
        {
          "output_type": "stream",
          "name": "stderr",
          "text": [
            "/usr/local/lib/python3.7/dist-packages/sklearn/metrics/_classification.py:1318: UndefinedMetricWarning: Precision and F-score are ill-defined and being set to 0.0 in labels with no predicted samples. Use `zero_division` parameter to control this behavior.\n",
            "  _warn_prf(average, modifier, msg_start, len(result))\n",
            "/usr/local/lib/python3.7/dist-packages/sklearn/metrics/_classification.py:1318: UndefinedMetricWarning: Precision and F-score are ill-defined and being set to 0.0 in labels with no predicted samples. Use `zero_division` parameter to control this behavior.\n",
            "  _warn_prf(average, modifier, msg_start, len(result))\n",
            "/usr/local/lib/python3.7/dist-packages/sklearn/metrics/_classification.py:1318: UndefinedMetricWarning: Precision and F-score are ill-defined and being set to 0.0 in labels with no predicted samples. Use `zero_division` parameter to control this behavior.\n",
            "  _warn_prf(average, modifier, msg_start, len(result))\n",
            "/usr/local/lib/python3.7/dist-packages/sklearn/metrics/_classification.py:1318: UndefinedMetricWarning: Precision and F-score are ill-defined and being set to 0.0 in labels with no predicted samples. Use `zero_division` parameter to control this behavior.\n",
            "  _warn_prf(average, modifier, msg_start, len(result))\n",
            "/usr/local/lib/python3.7/dist-packages/sklearn/metrics/_classification.py:1318: UndefinedMetricWarning: Precision and F-score are ill-defined and being set to 0.0 in labels with no predicted samples. Use `zero_division` parameter to control this behavior.\n",
            "  _warn_prf(average, modifier, msg_start, len(result))\n",
            "/usr/local/lib/python3.7/dist-packages/sklearn/metrics/_classification.py:1318: UndefinedMetricWarning: Precision and F-score are ill-defined and being set to 0.0 in labels with no predicted samples. Use `zero_division` parameter to control this behavior.\n",
            "  _warn_prf(average, modifier, msg_start, len(result))\n"
          ]
        },
        {
          "output_type": "display_data",
          "data": {
            "image/png": "[encoded data removed]",
            "text/plain": [
              "<Figure size 432x288 with 1 Axes>"
            ]
          },
          "metadata": {
            "needs_background": "light"
          }
        },
        {
          "output_type": "stream",
          "name": "stdout",
          "text": [
            "********************************************************************************\n",
            "Extracting frequency based word (2,7)-gram features...\n",
            "Training MultinomialNB()\n",
            "Fitting 5 folds for each of 5 candidates, totalling 25 fits\n",
            "\n",
            "Best Estimator: MultinomialNB(alpha=0.001)\n",
            "\n",
            "Train and validation time: 1.2512 seconds\n",
            "\n",
            "Test time: 0.0016 seconds\n",
            "\n",
            "Classification report:\n",
            "              precision    recall  f1-score   support\n",
            "\n",
            "         dgo     1.0000    0.1223    0.2179      2004\n",
            "         gbm     0.2839    0.9963    0.4419      3000\n",
            "         kfy     0.0000    0.0000    0.0000      3000\n",
            "         npi     0.0000    0.0000    0.0000      3000\n",
            "\n",
            "    accuracy                         0.2939     11004\n",
            "   macro avg     0.3210    0.2796    0.1649     11004\n",
            "weighted avg     0.2595    0.2939    0.1602     11004\n",
            "\n",
            "\n",
            "Confusion matrix:\n"
          ]
        },
        {
          "output_type": "stream",
          "name": "stderr",
          "text": [
            "/usr/local/lib/python3.7/dist-packages/sklearn/metrics/_classification.py:1318: UndefinedMetricWarning: Precision and F-score are ill-defined and being set to 0.0 in labels with no predicted samples. Use `zero_division` parameter to control this behavior.\n",
            "  _warn_prf(average, modifier, msg_start, len(result))\n",
            "/usr/local/lib/python3.7/dist-packages/sklearn/metrics/_classification.py:1318: UndefinedMetricWarning: Precision and F-score are ill-defined and being set to 0.0 in labels with no predicted samples. Use `zero_division` parameter to control this behavior.\n",
            "  _warn_prf(average, modifier, msg_start, len(result))\n",
            "/usr/local/lib/python3.7/dist-packages/sklearn/metrics/_classification.py:1318: UndefinedMetricWarning: Precision and F-score are ill-defined and being set to 0.0 in labels with no predicted samples. Use `zero_division` parameter to control this behavior.\n",
            "  _warn_prf(average, modifier, msg_start, len(result))\n",
            "/usr/local/lib/python3.7/dist-packages/sklearn/metrics/_classification.py:1318: UndefinedMetricWarning: Precision and F-score are ill-defined and being set to 0.0 in labels with no predicted samples. Use `zero_division` parameter to control this behavior.\n",
            "  _warn_prf(average, modifier, msg_start, len(result))\n",
            "/usr/local/lib/python3.7/dist-packages/sklearn/metrics/_classification.py:1318: UndefinedMetricWarning: Precision and F-score are ill-defined and being set to 0.0 in labels with no predicted samples. Use `zero_division` parameter to control this behavior.\n",
            "  _warn_prf(average, modifier, msg_start, len(result))\n",
            "/usr/local/lib/python3.7/dist-packages/sklearn/metrics/_classification.py:1318: UndefinedMetricWarning: Precision and F-score are ill-defined and being set to 0.0 in labels with no predicted samples. Use `zero_division` parameter to control this behavior.\n",
            "  _warn_prf(average, modifier, msg_start, len(result))\n"
          ]
        },
        {
          "output_type": "display_data",
          "data": {
            "image/png": "[encoded data removed]",
            "text/plain": [
              "<Figure size 432x288 with 1 Axes>"
            ]
          },
          "metadata": {
            "needs_background": "light"
          }
        },
        {
          "output_type": "stream",
          "name": "stdout",
          "text": [
            "Training LinearSVC(dual=False)\n",
            "Fitting 5 folds for each of 5 candidates, totalling 25 fits\n",
            "\n",
            "Best Estimator: LinearSVC(C=0.01, dual=False)\n",
            "\n",
            "Train and validation time: 13.1552 seconds\n",
            "\n",
            "Test time: 0.0046 seconds\n",
            "\n",
            "Classification report:\n",
            "              precision    recall  f1-score   support\n",
            "\n",
            "         dgo     0.9769    0.2320    0.3750      2004\n",
            "         gbm     0.9870    0.0507    0.0964      3000\n",
            "         kfy     0.0000    0.0000    0.0000      3000\n",
            "         npi     0.2892    1.0000    0.4486      3000\n",
            "\n",
            "    accuracy                         0.3287     11004\n",
            "   macro avg     0.5633    0.3207    0.2300     11004\n",
            "weighted avg     0.5258    0.3287    0.2169     11004\n",
            "\n",
            "\n",
            "Confusion matrix:\n"
          ]
        },
        {
          "output_type": "stream",
          "name": "stderr",
          "text": [
            "/usr/local/lib/python3.7/dist-packages/sklearn/metrics/_classification.py:1318: UndefinedMetricWarning: Precision and F-score are ill-defined and being set to 0.0 in labels with no predicted samples. Use `zero_division` parameter to control this behavior.\n",
            "  _warn_prf(average, modifier, msg_start, len(result))\n",
            "/usr/local/lib/python3.7/dist-packages/sklearn/metrics/_classification.py:1318: UndefinedMetricWarning: Precision and F-score are ill-defined and being set to 0.0 in labels with no predicted samples. Use `zero_division` parameter to control this behavior.\n",
            "  _warn_prf(average, modifier, msg_start, len(result))\n",
            "/usr/local/lib/python3.7/dist-packages/sklearn/metrics/_classification.py:1318: UndefinedMetricWarning: Precision and F-score are ill-defined and being set to 0.0 in labels with no predicted samples. Use `zero_division` parameter to control this behavior.\n",
            "  _warn_prf(average, modifier, msg_start, len(result))\n",
            "/usr/local/lib/python3.7/dist-packages/sklearn/metrics/_classification.py:1318: UndefinedMetricWarning: Precision and F-score are ill-defined and being set to 0.0 in labels with no predicted samples. Use `zero_division` parameter to control this behavior.\n",
            "  _warn_prf(average, modifier, msg_start, len(result))\n",
            "/usr/local/lib/python3.7/dist-packages/sklearn/metrics/_classification.py:1318: UndefinedMetricWarning: Precision and F-score are ill-defined and being set to 0.0 in labels with no predicted samples. Use `zero_division` parameter to control this behavior.\n",
            "  _warn_prf(average, modifier, msg_start, len(result))\n",
            "/usr/local/lib/python3.7/dist-packages/sklearn/metrics/_classification.py:1318: UndefinedMetricWarning: Precision and F-score are ill-defined and being set to 0.0 in labels with no predicted samples. Use `zero_division` parameter to control this behavior.\n",
            "  _warn_prf(average, modifier, msg_start, len(result))\n"
          ]
        },
        {
          "output_type": "display_data",
          "data": {
            "image/png": "[encoded data removed]",
            "text/plain": [
              "<Figure size 432x288 with 1 Axes>"
            ]
          },
          "metadata": {
            "needs_background": "light"
          }
        },
        {
          "output_type": "stream",
          "name": "stdout",
          "text": [
            "********************************************************************************\n",
            "Extracting frequency based word (2,8)-gram features...\n",
            "Training MultinomialNB()\n",
            "Fitting 5 folds for each of 5 candidates, totalling 25 fits\n",
            "\n",
            "Best Estimator: MultinomialNB(alpha=0.001)\n",
            "\n",
            "Train and validation time: 1.7665 seconds\n",
            "\n",
            "Test time: 0.0015 seconds\n",
            "\n",
            "Classification report:\n",
            "              precision    recall  f1-score   support\n",
            "\n",
            "         dgo     1.0000    0.1223    0.2179      2004\n",
            "         gbm     0.2839    0.9963    0.4419      3000\n",
            "         kfy     0.0000    0.0000    0.0000      3000\n",
            "         npi     0.0000    0.0000    0.0000      3000\n",
            "\n",
            "    accuracy                         0.2939     11004\n",
            "   macro avg     0.3210    0.2796    0.1649     11004\n",
            "weighted avg     0.2595    0.2939    0.1602     11004\n",
            "\n",
            "\n",
            "Confusion matrix:\n"
          ]
        },
        {
          "output_type": "stream",
          "name": "stderr",
          "text": [
            "/usr/local/lib/python3.7/dist-packages/sklearn/metrics/_classification.py:1318: UndefinedMetricWarning: Precision and F-score are ill-defined and being set to 0.0 in labels with no predicted samples. Use `zero_division` parameter to control this behavior.\n",
            "  _warn_prf(average, modifier, msg_start, len(result))\n",
            "/usr/local/lib/python3.7/dist-packages/sklearn/metrics/_classification.py:1318: UndefinedMetricWarning: Precision and F-score are ill-defined and being set to 0.0 in labels with no predicted samples. Use `zero_division` parameter to control this behavior.\n",
            "  _warn_prf(average, modifier, msg_start, len(result))\n",
            "/usr/local/lib/python3.7/dist-packages/sklearn/metrics/_classification.py:1318: UndefinedMetricWarning: Precision and F-score are ill-defined and being set to 0.0 in labels with no predicted samples. Use `zero_division` parameter to control this behavior.\n",
            "  _warn_prf(average, modifier, msg_start, len(result))\n",
            "/usr/local/lib/python3.7/dist-packages/sklearn/metrics/_classification.py:1318: UndefinedMetricWarning: Precision and F-score are ill-defined and being set to 0.0 in labels with no predicted samples. Use `zero_division` parameter to control this behavior.\n",
            "  _warn_prf(average, modifier, msg_start, len(result))\n",
            "/usr/local/lib/python3.7/dist-packages/sklearn/metrics/_classification.py:1318: UndefinedMetricWarning: Precision and F-score are ill-defined and being set to 0.0 in labels with no predicted samples. Use `zero_division` parameter to control this behavior.\n",
            "  _warn_prf(average, modifier, msg_start, len(result))\n",
            "/usr/local/lib/python3.7/dist-packages/sklearn/metrics/_classification.py:1318: UndefinedMetricWarning: Precision and F-score are ill-defined and being set to 0.0 in labels with no predicted samples. Use `zero_division` parameter to control this behavior.\n",
            "  _warn_prf(average, modifier, msg_start, len(result))\n"
          ]
        },
        {
          "output_type": "display_data",
          "data": {
            "image/png": "[encoded data removed]",
            "text/plain": [
              "<Figure size 432x288 with 1 Axes>"
            ]
          },
          "metadata": {
            "needs_background": "light"
          }
        },
        {
          "output_type": "stream",
          "name": "stdout",
          "text": [
            "Training LinearSVC(dual=False)\n",
            "Fitting 5 folds for each of 5 candidates, totalling 25 fits\n",
            "\n",
            "Best Estimator: LinearSVC(C=0.01, dual=False)\n",
            "\n",
            "Train and validation time: 13.2958 seconds\n",
            "\n",
            "Test time: 0.0036 seconds\n",
            "\n",
            "Classification report:\n",
            "              precision    recall  f1-score   support\n",
            "\n",
            "         dgo     0.9769    0.2320    0.3750      2004\n",
            "         gbm     0.9870    0.0507    0.0964      3000\n",
            "         kfy     0.0000    0.0000    0.0000      3000\n",
            "         npi     0.2892    1.0000    0.4486      3000\n",
            "\n",
            "    accuracy                         0.3287     11004\n",
            "   macro avg     0.5633    0.3207    0.2300     11004\n",
            "weighted avg     0.5258    0.3287    0.2169     11004\n",
            "\n",
            "\n",
            "Confusion matrix:\n"
          ]
        },
        {
          "output_type": "stream",
          "name": "stderr",
          "text": [
            "/usr/local/lib/python3.7/dist-packages/sklearn/metrics/_classification.py:1318: UndefinedMetricWarning: Precision and F-score are ill-defined and being set to 0.0 in labels with no predicted samples. Use `zero_division` parameter to control this behavior.\n",
            "  _warn_prf(average, modifier, msg_start, len(result))\n",
            "/usr/local/lib/python3.7/dist-packages/sklearn/metrics/_classification.py:1318: UndefinedMetricWarning: Precision and F-score are ill-defined and being set to 0.0 in labels with no predicted samples. Use `zero_division` parameter to control this behavior.\n",
            "  _warn_prf(average, modifier, msg_start, len(result))\n",
            "/usr/local/lib/python3.7/dist-packages/sklearn/metrics/_classification.py:1318: UndefinedMetricWarning: Precision and F-score are ill-defined and being set to 0.0 in labels with no predicted samples. Use `zero_division` parameter to control this behavior.\n",
            "  _warn_prf(average, modifier, msg_start, len(result))\n",
            "/usr/local/lib/python3.7/dist-packages/sklearn/metrics/_classification.py:1318: UndefinedMetricWarning: Precision and F-score are ill-defined and being set to 0.0 in labels with no predicted samples. Use `zero_division` parameter to control this behavior.\n",
            "  _warn_prf(average, modifier, msg_start, len(result))\n",
            "/usr/local/lib/python3.7/dist-packages/sklearn/metrics/_classification.py:1318: UndefinedMetricWarning: Precision and F-score are ill-defined and being set to 0.0 in labels with no predicted samples. Use `zero_division` parameter to control this behavior.\n",
            "  _warn_prf(average, modifier, msg_start, len(result))\n",
            "/usr/local/lib/python3.7/dist-packages/sklearn/metrics/_classification.py:1318: UndefinedMetricWarning: Precision and F-score are ill-defined and being set to 0.0 in labels with no predicted samples. Use `zero_division` parameter to control this behavior.\n",
            "  _warn_prf(average, modifier, msg_start, len(result))\n"
          ]
        },
        {
          "output_type": "display_data",
          "data": {
            "image/png": "[encoded data removed]",
            "text/plain": [
              "<Figure size 432x288 with 1 Axes>"
            ]
          },
          "metadata": {
            "needs_background": "light"
          }
        },
        {
          "output_type": "stream",
          "name": "stdout",
          "text": [
            "********************************************************************************\n",
            "Extracting frequency based word (3,3)-gram features...\n",
            "Error: After pruning, no terms remain.\n",
            "********************************************************************************\n",
            "Extracting frequency based word (3,4)-gram features...\n",
            "Error: After pruning, no terms remain.\n",
            "********************************************************************************\n",
            "Extracting frequency based word (3,5)-gram features...\n",
            "Error: After pruning, no terms remain.\n",
            "********************************************************************************\n",
            "Extracting frequency based word (3,6)-gram features...\n",
            "Error: After pruning, no terms remain.\n",
            "********************************************************************************\n",
            "Extracting frequency based word (3,7)-gram features...\n",
            "Error: After pruning, no terms remain.\n",
            "********************************************************************************\n",
            "Extracting frequency based word (3,8)-gram features...\n",
            "Error: After pruning, no terms remain.\n",
            "********************************************************************************\n",
            "Extracting frequency based word (4,4)-gram features...\n",
            "Error: After pruning, no terms remain.\n",
            "********************************************************************************\n",
            "Extracting frequency based word (4,5)-gram features...\n",
            "Error: After pruning, no terms remain.\n",
            "********************************************************************************\n",
            "Extracting frequency based word (4,6)-gram features...\n",
            "Error: After pruning, no terms remain.\n",
            "********************************************************************************\n",
            "Extracting frequency based word (4,7)-gram features...\n",
            "Error: After pruning, no terms remain.\n",
            "********************************************************************************\n",
            "Extracting frequency based word (4,8)-gram features...\n",
            "Error: After pruning, no terms remain.\n",
            "********************************************************************************\n",
            "Extracting frequency based word (5,5)-gram features...\n",
            "Error: After pruning, no terms remain.\n",
            "********************************************************************************\n",
            "Extracting frequency based word (5,6)-gram features...\n",
            "Error: After pruning, no terms remain.\n",
            "********************************************************************************\n",
            "Extracting frequency based word (5,7)-gram features...\n",
            "Error: After pruning, no terms remain.\n",
            "********************************************************************************\n",
            "Extracting frequency based word (5,8)-gram features...\n",
            "Error: After pruning, no terms remain.\n",
            "********************************************************************************\n",
            "Extracting frequency based word (6,6)-gram features...\n",
            "Error: After pruning, no terms remain.\n",
            "********************************************************************************\n",
            "Extracting frequency based word (6,7)-gram features...\n",
            "Error: After pruning, no terms remain.\n",
            "********************************************************************************\n",
            "Extracting frequency based word (6,8)-gram features...\n",
            "Error: After pruning, no terms remain.\n",
            "********************************************************************************\n",
            "Extracting frequency based word (7,7)-gram features...\n",
            "Error: After pruning, no terms remain.\n",
            "********************************************************************************\n",
            "Extracting frequency based word (7,8)-gram features...\n",
            "Error: After pruning, no terms remain.\n",
            "********************************************************************************\n",
            "Extracting frequency based word (8,8)-gram features...\n",
            "Error: After pruning, no terms remain.\n",
            "********************************************************************************\n",
            "Extracting frequency based char (1,1)-gram features...\n",
            "Training MultinomialNB()\n",
            "Fitting 5 folds for each of 5 candidates, totalling 25 fits\n",
            "\n",
            "Best Estimator: MultinomialNB()\n",
            "\n",
            "Train and validation time: 4.7078 seconds\n",
            "\n",
            "Test time: 0.0119 seconds\n",
            "\n",
            "Classification report:\n",
            "              precision    recall  f1-score   support\n",
            "\n",
            "         dgo     0.9450    0.9256    0.9352      2004\n",
            "         gbm     0.8210    0.7813    0.8007      3000\n",
            "         kfy     0.7982    0.8030    0.8006      3000\n",
            "         npi     0.9031    0.9537    0.9277      3000\n",
            "\n",
            "    accuracy                         0.8605     11004\n",
            "   macro avg     0.8668    0.8659    0.8660     11004\n",
            "weighted avg     0.8598    0.8605    0.8598     11004\n",
            "\n",
            "\n",
            "Confusion matrix:\n"
          ]
        },
        {
          "output_type": "display_data",
          "data": {
            "image/png": "[encoded data removed]",
            "text/plain": [
              "<Figure size 432x288 with 1 Axes>"
            ]
          },
          "metadata": {
            "needs_background": "light"
          }
        },
        {
          "output_type": "stream",
          "name": "stdout",
          "text": [
            "Training LinearSVC(dual=False)\n",
            "Fitting 5 folds for each of 5 candidates, totalling 25 fits\n",
            "\n",
            "Best Estimator: LinearSVC(dual=False)\n",
            "\n",
            "Train and validation time: 63.5594 seconds\n",
            "\n",
            "Test time: 0.0130 seconds\n",
            "\n",
            "Classification report:\n",
            "              precision    recall  f1-score   support\n",
            "\n",
            "         dgo     0.9569    0.9406    0.9487      2004\n",
            "         gbm     0.8408    0.8360    0.8384      3000\n",
            "         kfy     0.8356    0.8350    0.8353      3000\n",
            "         npi     0.9574    0.9743    0.9658      3000\n",
            "\n",
            "    accuracy                         0.8925     11004\n",
            "   macro avg     0.8976    0.8965    0.8970     11004\n",
            "weighted avg     0.8923    0.8925    0.8924     11004\n",
            "\n",
            "\n",
            "Confusion matrix:\n"
          ]
        },
        {
          "output_type": "display_data",
          "data": {
            "image/png": "[encoded data removed]",
            "text/plain": [
              "<Figure size 432x288 with 1 Axes>"
            ]
          },
          "metadata": {
            "needs_background": "light"
          }
        },
        {
          "output_type": "stream",
          "name": "stdout",
          "text": [
            "********************************************************************************\n",
            "Extracting frequency based char (1,2)-gram features...\n",
            "Training MultinomialNB()\n",
            "Fitting 5 folds for each of 5 candidates, totalling 25 fits\n",
            "\n",
            "Best Estimator: MultinomialNB(alpha=0.001)\n",
            "\n",
            "Train and validation time: 69.2224 seconds\n",
            "\n",
            "Test time: 0.0779 seconds\n",
            "\n",
            "Classification report:\n",
            "              precision    recall  f1-score   support\n",
            "\n",
            "         dgo     0.9909    0.9830    0.9870      2004\n",
            "         gbm     0.9619    0.9520    0.9569      3000\n",
            "         kfy     0.9563    0.9563    0.9563      3000\n",
            "         npi     0.9783    0.9937    0.9859      3000\n",
            "\n",
            "    accuracy                         0.9702     11004\n",
            "   macro avg     0.9719    0.9713    0.9715     11004\n",
            "weighted avg     0.9702    0.9702    0.9702     11004\n",
            "\n",
            "\n",
            "Confusion matrix:\n"
          ]
        },
        {
          "output_type": "display_data",
          "data": {
            "image/png": "[encoded data removed]",
            "text/plain": [
              "<Figure size 432x288 with 1 Axes>"
            ]
          },
          "metadata": {
            "needs_background": "light"
          }
        },
        {
          "output_type": "stream",
          "name": "stdout",
          "text": [
            "Training LinearSVC(dual=False)\n",
            "Fitting 5 folds for each of 5 candidates, totalling 25 fits\n",
            "\n",
            "Best Estimator: LinearSVC(C=0.1, dual=False)\n",
            "\n",
            "Train and validation time: 137.3730 seconds\n",
            "\n",
            "Test time: 0.1308 seconds\n",
            "\n",
            "Classification report:\n",
            "              precision    recall  f1-score   support\n",
            "\n",
            "         dgo     0.9935    0.9925    0.9930      2004\n",
            "         gbm     0.9796    0.9763    0.9780      3000\n",
            "         kfy     0.9731    0.9780    0.9756      3000\n",
            "         npi     0.9950    0.9940    0.9945      3000\n",
            "\n",
            "    accuracy                         0.9846     11004\n",
            "   macro avg     0.9853    0.9852    0.9853     11004\n",
            "weighted avg     0.9846    0.9846    0.9846     11004\n",
            "\n",
            "\n",
            "Confusion matrix:\n"
          ]
        },
        {
          "output_type": "display_data",
          "data": {
            "image/png": "[encoded data removed]",
            "text/plain": [
              "<Figure size 432x288 with 1 Axes>"
            ]
          },
          "metadata": {
            "needs_background": "light"
          }
        },
        {
          "output_type": "stream",
          "name": "stdout",
          "text": [
            "********************************************************************************\n",
            "Extracting frequency based char (1,3)-gram features...\n",
            "Training MultinomialNB()\n",
            "Fitting 5 folds for each of 5 candidates, totalling 25 fits\n",
            "\n",
            "Best Estimator: MultinomialNB(alpha=0.001)\n",
            "\n",
            "Train and validation time: 216.0242 seconds\n",
            "\n",
            "Test time: 0.2485 seconds\n",
            "\n",
            "Classification report:\n",
            "              precision    recall  f1-score   support\n",
            "\n",
            "         dgo     0.9955    0.9940    0.9948      2004\n",
            "         gbm     0.9767    0.9787    0.9777      3000\n",
            "         kfy     0.9806    0.9753    0.9779      3000\n",
            "         npi     0.9934    0.9977    0.9955      3000\n",
            "\n",
            "    accuracy                         0.9857     11004\n",
            "   macro avg     0.9865    0.9864    0.9865     11004\n",
            "weighted avg     0.9857    0.9857    0.9857     11004\n",
            "\n",
            "\n",
            "Confusion matrix:\n"
          ]
        },
        {
          "output_type": "display_data",
          "data": {
            "image/png": "[encoded data removed]",
            "text/plain": [
              "<Figure size 432x288 with 1 Axes>"
            ]
          },
          "metadata": {
            "needs_background": "light"
          }
        },
        {
          "output_type": "stream",
          "name": "stdout",
          "text": [
            "Training LinearSVC(dual=False)\n",
            "Fitting 5 folds for each of 5 candidates, totalling 25 fits\n",
            "\n",
            "Best Estimator: LinearSVC(C=0.01, dual=False)\n",
            "\n",
            "Train and validation time: 167.7902 seconds\n",
            "\n",
            "Test time: 0.3124 seconds\n",
            "\n",
            "Classification report:\n",
            "              precision    recall  f1-score   support\n",
            "\n",
            "         dgo     0.9980    0.9955    0.9968      2004\n",
            "         gbm     0.9887    0.9887    0.9887      3000\n",
            "         kfy     0.9850    0.9880    0.9865      3000\n",
            "         npi     0.9983    0.9970    0.9977      3000\n",
            "\n",
            "    accuracy                         0.9920     11004\n",
            "   macro avg     0.9925    0.9923    0.9924     11004\n",
            "weighted avg     0.9920    0.9920    0.9920     11004\n",
            "\n",
            "\n",
            "Confusion matrix:\n"
          ]
        },
        {
          "output_type": "display_data",
          "data": {
            "image/png": "[encoded data removed]",
            "text/plain": [
              "<Figure size 432x288 with 1 Axes>"
            ]
          },
          "metadata": {
            "needs_background": "light"
          }
        },
        {
          "output_type": "stream",
          "name": "stdout",
          "text": [
            "********************************************************************************\n",
            "Extracting frequency based char (1,4)-gram features...\n",
            "Training MultinomialNB()\n",
            "Fitting 5 folds for each of 5 candidates, totalling 25 fits\n",
            "\n",
            "Best Estimator: MultinomialNB(alpha=0.001)\n",
            "\n",
            "Train and validation time: 301.9154 seconds\n",
            "\n",
            "Test time: 0.5639 seconds\n",
            "\n",
            "Classification report:\n",
            "              precision    recall  f1-score   support\n",
            "\n",
            "         dgo     0.9980    0.9970    0.9975      2004\n",
            "         gbm     0.9826    0.9813    0.9820      3000\n",
            "         kfy     0.9816    0.9800    0.9808      3000\n",
            "         npi     0.9954    0.9990    0.9972      3000\n",
            "\n",
            "    accuracy                         0.9886     11004\n",
            "   macro avg     0.9894    0.9893    0.9894     11004\n",
            "weighted avg     0.9886    0.9886    0.9886     11004\n",
            "\n",
            "\n",
            "Confusion matrix:\n"
          ]
        },
        {
          "output_type": "display_data",
          "data": {
            "image/png": "[encoded data removed]",
            "text/plain": [
              "<Figure size 432x288 with 1 Axes>"
            ]
          },
          "metadata": {
            "needs_background": "light"
          }
        },
        {
          "output_type": "stream",
          "name": "stdout",
          "text": [
            "Training LinearSVC(dual=False)\n",
            "Fitting 5 folds for each of 5 candidates, totalling 25 fits\n",
            "\n",
            "Best Estimator: LinearSVC(C=0.01, dual=False)\n",
            "\n",
            "Train and validation time: 179.1981 seconds\n",
            "\n",
            "Test time: 0.3961 seconds\n",
            "\n",
            "Classification report:\n",
            "              precision    recall  f1-score   support\n",
            "\n",
            "         dgo     0.9995    0.9960    0.9978      2004\n",
            "         gbm     0.9900    0.9883    0.9892      3000\n",
            "         kfy     0.9854    0.9900    0.9877      3000\n",
            "         npi     0.9987    0.9980    0.9983      3000\n",
            "\n",
            "    accuracy                         0.9928     11004\n",
            "   macro avg     0.9934    0.9931    0.9932     11004\n",
            "weighted avg     0.9928    0.9928    0.9928     11004\n",
            "\n",
            "\n",
            "Confusion matrix:\n"
          ]
        },
        {
          "output_type": "display_data",
          "data": {
            "image/png": "[encoded data removed]",
            "text/plain": [
              "<Figure size 432x288 with 1 Axes>"
            ]
          },
          "metadata": {
            "needs_background": "light"
          }
        },
        {
          "output_type": "stream",
          "name": "stdout",
          "text": [
            "********************************************************************************\n",
            "Extracting frequency based char (1,5)-gram features...\n",
            "Training MultinomialNB()\n",
            "Fitting 5 folds for each of 5 candidates, totalling 25 fits\n",
            "\n",
            "Best Estimator: MultinomialNB(alpha=0.001)\n",
            "\n",
            "Train and validation time: 715.6917 seconds\n",
            "\n",
            "Test time: 0.4904 seconds\n",
            "\n",
            "Classification report:\n",
            "              precision    recall  f1-score   support\n",
            "\n",
            "         dgo     0.9975    0.9975    0.9975      2004\n",
            "         gbm     0.9830    0.9813    0.9822      3000\n",
            "         kfy     0.9816    0.9803    0.9810      3000\n",
            "         npi     0.9957    0.9987    0.9972      3000\n",
            "\n",
            "    accuracy                         0.9887     11004\n",
            "   macro avg     0.9894    0.9895    0.9895     11004\n",
            "weighted avg     0.9887    0.9887    0.9887     11004\n",
            "\n",
            "\n",
            "Confusion matrix:\n"
          ]
        },
        {
          "output_type": "display_data",
          "data": {
            "image/png": "[encoded data removed]",
            "text/plain": [
              "<Figure size 432x288 with 1 Axes>"
            ]
          },
          "metadata": {
            "needs_background": "light"
          }
        },
        {
          "output_type": "stream",
          "name": "stdout",
          "text": [
            "Training LinearSVC(dual=False)\n",
            "Fitting 5 folds for each of 5 candidates, totalling 25 fits\n",
            "\n",
            "Best Estimator: LinearSVC(C=0.1, dual=False)\n",
            "\n",
            "Train and validation time: 202.3654 seconds\n",
            "\n",
            "Test time: 0.4701 seconds\n",
            "\n",
            "Classification report:\n",
            "              precision    recall  f1-score   support\n",
            "\n",
            "         dgo     0.9985    0.9960    0.9973      2004\n",
            "         gbm     0.9896    0.9870    0.9883      3000\n",
            "         kfy     0.9838    0.9893    0.9865      3000\n",
            "         npi     0.9990    0.9977    0.9983      3000\n",
            "\n",
            "    accuracy                         0.9922     11004\n",
            "   macro avg     0.9927    0.9925    0.9926     11004\n",
            "weighted avg     0.9922    0.9922    0.9922     11004\n",
            "\n",
            "\n",
            "Confusion matrix:\n"
          ]
        },
        {
          "output_type": "display_data",
          "data": {
            "image/png": "[encoded data removed]",
            "text/plain": [
              "<Figure size 432x288 with 1 Axes>"
            ]
          },
          "metadata": {
            "needs_background": "light"
          }
        },
        {
          "output_type": "stream",
          "name": "stdout",
          "text": [
            "********************************************************************************\n",
            "Extracting frequency based char (1,6)-gram features...\n",
            "Training MultinomialNB()\n",
            "Fitting 5 folds for each of 5 candidates, totalling 25 fits\n",
            "\n",
            "Best Estimator: MultinomialNB(alpha=0.001)\n",
            "\n",
            "Train and validation time: 502.8298 seconds\n",
            "\n",
            "Test time: 0.4779 seconds\n",
            "\n",
            "Classification report:\n",
            "              precision    recall  f1-score   support\n",
            "\n",
            "         dgo     0.9970    0.9970    0.9970      2004\n",
            "         gbm     0.9830    0.9810    0.9820      3000\n",
            "         kfy     0.9813    0.9800    0.9807      3000\n",
            "         npi     0.9953    0.9987    0.9970      3000\n",
            "\n",
            "    accuracy                         0.9885     11004\n",
            "   macro avg     0.9892    0.9892    0.9892     11004\n",
            "weighted avg     0.9884    0.9885    0.9885     11004\n",
            "\n",
            "\n",
            "Confusion matrix:\n"
          ]
        },
        {
          "output_type": "display_data",
          "data": {
            "image/png": "[encoded data removed]",
            "text/plain": [
              "<Figure size 432x288 with 1 Axes>"
            ]
          },
          "metadata": {
            "needs_background": "light"
          }
        },
        {
          "output_type": "stream",
          "name": "stdout",
          "text": [
            "Training LinearSVC(dual=False)\n",
            "Fitting 5 folds for each of 5 candidates, totalling 25 fits\n",
            "\n",
            "Best Estimator: LinearSVC(C=0.1, dual=False)\n",
            "\n",
            "Train and validation time: 206.8098 seconds\n",
            "\n",
            "Test time: 0.5657 seconds\n",
            "\n",
            "Classification report:\n",
            "              precision    recall  f1-score   support\n",
            "\n",
            "         dgo     0.9985    0.9960    0.9973      2004\n",
            "         gbm     0.9896    0.9867    0.9881      3000\n",
            "         kfy     0.9834    0.9893    0.9864      3000\n",
            "         npi     0.9990    0.9977    0.9983      3000\n",
            "\n",
            "    accuracy                         0.9921     11004\n",
            "   macro avg     0.9926    0.9924    0.9925     11004\n",
            "weighted avg     0.9921    0.9921    0.9921     11004\n",
            "\n",
            "\n",
            "Confusion matrix:\n"
          ]
        },
        {
          "output_type": "display_data",
          "data": {
            "image/png": "[encoded data removed]",
            "text/plain": [
              "<Figure size 432x288 with 1 Axes>"
            ]
          },
          "metadata": {
            "needs_background": "light"
          }
        },
        {
          "output_type": "stream",
          "name": "stdout",
          "text": [
            "********************************************************************************\n",
            "Extracting frequency based char (1,7)-gram features...\n",
            "Training MultinomialNB()\n",
            "Fitting 5 folds for each of 5 candidates, totalling 25 fits\n",
            "\n",
            "Best Estimator: MultinomialNB(alpha=0.001)\n",
            "\n",
            "Train and validation time: 1068.7029 seconds\n",
            "\n",
            "Test time: 0.6011 seconds\n",
            "\n",
            "Classification report:\n",
            "              precision    recall  f1-score   support\n",
            "\n",
            "         dgo     0.9975    0.9970    0.9973      2004\n",
            "         gbm     0.9830    0.9807    0.9818      3000\n",
            "         kfy     0.9813    0.9803    0.9808      3000\n",
            "         npi     0.9950    0.9987    0.9968      3000\n",
            "\n",
            "    accuracy                         0.9885     11004\n",
            "   macro avg     0.9892    0.9892    0.9892     11004\n",
            "weighted avg     0.9884    0.9885    0.9885     11004\n",
            "\n",
            "\n",
            "Confusion matrix:\n"
          ]
        },
        {
          "output_type": "display_data",
          "data": {
            "image/png": "[encoded data removed]",
            "text/plain": [
              "<Figure size 432x288 with 1 Axes>"
            ]
          },
          "metadata": {
            "needs_background": "light"
          }
        },
        {
          "output_type": "stream",
          "name": "stdout",
          "text": [
            "Training LinearSVC(dual=False)\n",
            "Fitting 5 folds for each of 5 candidates, totalling 25 fits\n",
            "\n",
            "Best Estimator: LinearSVC(C=0.1, dual=False)\n",
            "\n",
            "Train and validation time: 214.3979 seconds\n",
            "\n",
            "Test time: 0.4998 seconds\n",
            "\n",
            "Classification report:\n",
            "              precision    recall  f1-score   support\n",
            "\n",
            "         dgo     0.9985    0.9960    0.9973      2004\n",
            "         gbm     0.9896    0.9867    0.9881      3000\n",
            "         kfy     0.9834    0.9893    0.9864      3000\n",
            "         npi     0.9990    0.9977    0.9983      3000\n",
            "\n",
            "    accuracy                         0.9921     11004\n",
            "   macro avg     0.9926    0.9924    0.9925     11004\n",
            "weighted avg     0.9921    0.9921    0.9921     11004\n",
            "\n",
            "\n",
            "Confusion matrix:\n"
          ]
        },
        {
          "output_type": "display_data",
          "data": {
            "image/png": "[encoded data removed]",
            "text/plain": [
              "<Figure size 432x288 with 1 Axes>"
            ]
          },
          "metadata": {
            "needs_background": "light"
          }
        },
        {
          "output_type": "stream",
          "name": "stdout",
          "text": [
            "********************************************************************************\n",
            "Extracting frequency based char (1,8)-gram features...\n",
            "Training MultinomialNB()\n",
            "Fitting 5 folds for each of 5 candidates, totalling 25 fits\n",
            "\n",
            "Best Estimator: MultinomialNB(alpha=0.001)\n",
            "\n",
            "Train and validation time: 1061.2250 seconds\n",
            "\n",
            "Test time: 0.7351 seconds\n",
            "\n",
            "Classification report:\n",
            "              precision    recall  f1-score   support\n",
            "\n",
            "         dgo     0.9975    0.9970    0.9973      2004\n",
            "         gbm     0.9826    0.9807    0.9816      3000\n",
            "         kfy     0.9813    0.9800    0.9807      3000\n",
            "         npi     0.9950    0.9987    0.9968      3000\n",
            "\n",
            "    accuracy                         0.9884     11004\n",
            "   macro avg     0.9891    0.9891    0.9891     11004\n",
            "weighted avg     0.9884    0.9884    0.9884     11004\n",
            "\n",
            "\n",
            "Confusion matrix:\n"
          ]
        },
        {
          "output_type": "display_data",
          "data": {
            "image/png": "[encoded data removed]",
            "text/plain": [
              "<Figure size 432x288 with 1 Axes>"
            ]
          },
          "metadata": {
            "needs_background": "light"
          }
        },
        {
          "output_type": "stream",
          "name": "stdout",
          "text": [
            "Training LinearSVC(dual=False)\n",
            "Fitting 5 folds for each of 5 candidates, totalling 25 fits\n",
            "\n",
            "Best Estimator: LinearSVC(C=0.1, dual=False)\n",
            "\n",
            "Train and validation time: 281.6192 seconds\n",
            "\n",
            "Test time: 0.6196 seconds\n",
            "\n",
            "Classification report:\n",
            "              precision    recall  f1-score   support\n",
            "\n",
            "         dgo     0.9985    0.9960    0.9973      2004\n",
            "         gbm     0.9896    0.9867    0.9881      3000\n",
            "         kfy     0.9834    0.9893    0.9864      3000\n",
            "         npi     0.9990    0.9977    0.9983      3000\n",
            "\n",
            "    accuracy                         0.9921     11004\n",
            "   macro avg     0.9926    0.9924    0.9925     11004\n",
            "weighted avg     0.9921    0.9921    0.9921     11004\n",
            "\n",
            "\n",
            "Confusion matrix:\n"
          ]
        },
        {
          "output_type": "display_data",
          "data": {
            "image/png": "[encoded data removed]",
            "text/plain": [
              "<Figure size 432x288 with 1 Axes>"
            ]
          },
          "metadata": {
            "needs_background": "light"
          }
        },
        {
          "output_type": "stream",
          "name": "stdout",
          "text": [
            "********************************************************************************\n",
            "Extracting frequency based char (2,2)-gram features...\n",
            "Training MultinomialNB()\n",
            "Fitting 5 folds for each of 5 candidates, totalling 25 fits\n",
            "\n",
            "Best Estimator: MultinomialNB(alpha=0.01)\n",
            "\n",
            "Train and validation time: 50.2933 seconds\n",
            "\n",
            "Test time: 0.1071 seconds\n",
            "\n",
            "Classification report:\n",
            "              precision    recall  f1-score   support\n",
            "\n",
            "         dgo     0.9920    0.9860    0.9890      2004\n",
            "         gbm     0.9661    0.9603    0.9632      3000\n",
            "         kfy     0.9643    0.9643    0.9643      3000\n",
            "         npi     0.9851    0.9950    0.9900      3000\n",
            "\n",
            "    accuracy                         0.9756     11004\n",
            "   macro avg     0.9769    0.9764    0.9766     11004\n",
            "weighted avg     0.9755    0.9756    0.9755     11004\n",
            "\n",
            "\n",
            "Confusion matrix:\n"
          ]
        },
        {
          "output_type": "display_data",
          "data": {
            "image/png": "[encoded data removed]",
            "text/plain": [
              "<Figure size 432x288 with 1 Axes>"
            ]
          },
          "metadata": {
            "needs_background": "light"
          }
        },
        {
          "output_type": "stream",
          "name": "stdout",
          "text": [
            "Training LinearSVC(dual=False)\n",
            "Fitting 5 folds for each of 5 candidates, totalling 25 fits\n",
            "\n",
            "Best Estimator: LinearSVC(C=0.1, dual=False)\n",
            "\n",
            "Train and validation time: 75.8130 seconds\n",
            "\n",
            "Test time: 0.1108 seconds\n",
            "\n",
            "Classification report:\n",
            "              precision    recall  f1-score   support\n",
            "\n",
            "         dgo     0.9940    0.9905    0.9923      2004\n",
            "         gbm     0.9767    0.9770    0.9768      3000\n",
            "         kfy     0.9721    0.9757    0.9739      3000\n",
            "         npi     0.9950    0.9933    0.9942      3000\n",
            "\n",
            "    accuracy                         0.9836     11004\n",
            "   macro avg     0.9844    0.9841    0.9843     11004\n",
            "weighted avg     0.9836    0.9836    0.9836     11004\n",
            "\n",
            "\n",
            "Confusion matrix:\n"
          ]
        },
        {
          "output_type": "display_data",
          "data": {
            "image/png": "[encoded data removed]",
            "text/plain": [
              "<Figure size 432x288 with 1 Axes>"
            ]
          },
          "metadata": {
            "needs_background": "light"
          }
        },
        {
          "output_type": "stream",
          "name": "stdout",
          "text": [
            "********************************************************************************\n",
            "Extracting frequency based char (2,3)-gram features...\n",
            "Training MultinomialNB()\n",
            "Fitting 5 folds for each of 5 candidates, totalling 25 fits\n"
          ]
        },
        {
          "output_type": "error",
          "ename": "KeyboardInterrupt",
          "evalue": "ignored",
          "traceback": [
            "\u001b[0;31m---------------------------------------------------------------------------\u001b[0m",
            "\u001b[0;31mKeyboardInterrupt\u001b[0m                         Traceback (most recent call last)",
            "\u001b[0;32m<ipython-input-13-7da27ad7e374>\u001b[0m in \u001b[0;36m<module>\u001b[0;34m()\u001b[0m\n\u001b[1;32m      1\u001b[0m \u001b[0mdirpath\u001b[0m \u001b[0;34m=\u001b[0m \u001b[0;34m\"/content/drive/MyDrive/PLI/results_github\"\u001b[0m\u001b[0;34m\u001b[0m\u001b[0;34m\u001b[0m\u001b[0m\n\u001b[0;32m----> 2\u001b[0;31m \u001b[0mresults\u001b[0m\u001b[0;34m,\u001b[0m \u001b[0moutputs\u001b[0m \u001b[0;34m=\u001b[0m \u001b[0mbuild_ngram_model\u001b[0m\u001b[0;34m(\u001b[0m\u001b[0;36m8\u001b[0m\u001b[0;34m)\u001b[0m\u001b[0;34m\u001b[0m\u001b[0;34m\u001b[0m\u001b[0m\n\u001b[0m",
            "\u001b[0;32m<ipython-input-12-fae0c1615276>\u001b[0m in \u001b[0;36mbuild_ngram_model\u001b[0;34m(max_n)\u001b[0m\n\u001b[1;32m     29\u001b[0m                      \"Linear Support Vector Classifier\")], \n\u001b[1;32m     30\u001b[0m                     clflist):\n\u001b[0;32m---> 31\u001b[0;31m                 \u001b[0mbest_param\u001b[0m\u001b[0;34m,\u001b[0m \u001b[0mtr_val_time\u001b[0m\u001b[0;34m,\u001b[0m \u001b[0mts_time\u001b[0m\u001b[0;34m,\u001b[0m \u001b[0mscores\u001b[0m\u001b[0;34m,\u001b[0m \u001b[0mcm_disp\u001b[0m\u001b[0;34m,\u001b[0m \u001b[0my_pred\u001b[0m \u001b[0;34m=\u001b[0m \u001b[0mclassifier\u001b[0m\u001b[0;34m(\u001b[0m\u001b[0mclf\u001b[0m\u001b[0;34m,\u001b[0m \u001b[0mparams\u001b[0m\u001b[0;34m,\u001b[0m \u001b[0mX_tr\u001b[0m\u001b[0;34m,\u001b[0m \u001b[0my_tr\u001b[0m\u001b[0;34m,\u001b[0m \u001b[0mX_ts\u001b[0m\u001b[0;34m,\u001b[0m \u001b[0my_ts\u001b[0m\u001b[0;34m)\u001b[0m\u001b[0;34m\u001b[0m\u001b[0;34m\u001b[0m\u001b[0m\n\u001b[0m\u001b[1;32m     32\u001b[0m                 \u001b[0mcm_df\u001b[0m \u001b[0;34m=\u001b[0m \u001b[0mpd\u001b[0m\u001b[0;34m.\u001b[0m\u001b[0mDataFrame\u001b[0m\u001b[0;34m(\u001b[0m\u001b[0mcm_disp\u001b[0m\u001b[0;34m.\u001b[0m\u001b[0mconfusion_matrix\u001b[0m\u001b[0;34m,\u001b[0m \u001b[0mindex\u001b[0m\u001b[0;34m=\u001b[0m\u001b[0mlabel\u001b[0m\u001b[0;34m.\u001b[0m\u001b[0mkeys\u001b[0m\u001b[0;34m(\u001b[0m\u001b[0;34m)\u001b[0m\u001b[0;34m,\u001b[0m \u001b[0mcolumns\u001b[0m\u001b[0;34m=\u001b[0m\u001b[0mlabel\u001b[0m\u001b[0;34m.\u001b[0m\u001b[0mkeys\u001b[0m\u001b[0;34m(\u001b[0m\u001b[0;34m)\u001b[0m\u001b[0;34m)\u001b[0m\u001b[0;34m\u001b[0m\u001b[0;34m\u001b[0m\u001b[0m\n\u001b[1;32m     33\u001b[0m                 \u001b[0mcm_df\u001b[0m\u001b[0;34m.\u001b[0m\u001b[0mto_csv\u001b[0m\u001b[0;34m(\u001b[0m\u001b[0mos\u001b[0m\u001b[0;34m.\u001b[0m\u001b[0mpath\u001b[0m\u001b[0;34m.\u001b[0m\u001b[0mjoin\u001b[0m\u001b[0;34m(\u001b[0m\u001b[0mdirpath\u001b[0m\u001b[0;34m,\u001b[0m \u001b[0;34m'confusion_matrix'\u001b[0m\u001b[0;34m,\u001b[0m \u001b[0;34m'cm_'\u001b[0m\u001b[0;34m+\u001b[0m\u001b[0mclfname\u001b[0m\u001b[0;34m+\u001b[0m\u001b[0;34m'_'\u001b[0m\u001b[0;34m+\u001b[0m\u001b[0mvect\u001b[0m\u001b[0;34m+\u001b[0m\u001b[0;34m'.csv'\u001b[0m\u001b[0;34m)\u001b[0m\u001b[0;34m)\u001b[0m\u001b[0;34m\u001b[0m\u001b[0;34m\u001b[0m\u001b[0m\n",
            "\u001b[0;32m<ipython-input-11-6dd78fed2ab0>\u001b[0m in \u001b[0;36mclassifier\u001b[0;34m(clf, params, X_tr, y_tr, X_ts, y_ts)\u001b[0m\n\u001b[1;32m      5\u001b[0m                           cv=5, verbose=1, return_train_score=True)\n\u001b[1;32m      6\u001b[0m     \u001b[0mt0\u001b[0m \u001b[0;34m=\u001b[0m \u001b[0mtime\u001b[0m\u001b[0;34m(\u001b[0m\u001b[0;34m)\u001b[0m\u001b[0;34m\u001b[0m\u001b[0;34m\u001b[0m\u001b[0m\n\u001b[0;32m----> 7\u001b[0;31m     \u001b[0msearch\u001b[0m\u001b[0;34m.\u001b[0m\u001b[0mfit\u001b[0m\u001b[0;34m(\u001b[0m\u001b[0mX_tr\u001b[0m\u001b[0;34m,\u001b[0m \u001b[0my_tr\u001b[0m\u001b[0;34m)\u001b[0m\u001b[0;34m\u001b[0m\u001b[0;34m\u001b[0m\u001b[0m\n\u001b[0m\u001b[1;32m      8\u001b[0m     \u001b[0mtr_val_time\u001b[0m \u001b[0;34m=\u001b[0m \u001b[0mtime\u001b[0m\u001b[0;34m(\u001b[0m\u001b[0;34m)\u001b[0m \u001b[0;34m-\u001b[0m \u001b[0mt0\u001b[0m\u001b[0;34m\u001b[0m\u001b[0;34m\u001b[0m\u001b[0m\n\u001b[1;32m      9\u001b[0m     \u001b[0mclf\u001b[0m \u001b[0;34m=\u001b[0m \u001b[0msearch\u001b[0m\u001b[0;34m.\u001b[0m\u001b[0mbest_estimator_\u001b[0m\u001b[0;34m\u001b[0m\u001b[0;34m\u001b[0m\u001b[0m\n",
            "\u001b[0;32m/usr/local/lib/python3.7/dist-packages/sklearn/model_selection/_search.py\u001b[0m in \u001b[0;36mfit\u001b[0;34m(self, X, y, groups, **fit_params)\u001b[0m\n\u001b[1;32m    889\u001b[0m                 \u001b[0;32mreturn\u001b[0m \u001b[0mresults\u001b[0m\u001b[0;34m\u001b[0m\u001b[0;34m\u001b[0m\u001b[0m\n\u001b[1;32m    890\u001b[0m \u001b[0;34m\u001b[0m\u001b[0m\n\u001b[0;32m--> 891\u001b[0;31m             \u001b[0mself\u001b[0m\u001b[0;34m.\u001b[0m\u001b[0m_run_search\u001b[0m\u001b[0;34m(\u001b[0m\u001b[0mevaluate_candidates\u001b[0m\u001b[0;34m)\u001b[0m\u001b[0;34m\u001b[0m\u001b[0;34m\u001b[0m\u001b[0m\n\u001b[0m\u001b[1;32m    892\u001b[0m \u001b[0;34m\u001b[0m\u001b[0m\n\u001b[1;32m    893\u001b[0m             \u001b[0;31m# multimetric is determined here because in the case of a callable\u001b[0m\u001b[0;34m\u001b[0m\u001b[0;34m\u001b[0m\u001b[0;34m\u001b[0m\u001b[0m\n",
            "\u001b[0;32m/usr/local/lib/python3.7/dist-packages/sklearn/model_selection/_search.py\u001b[0m in \u001b[0;36m_run_search\u001b[0;34m(self, evaluate_candidates)\u001b[0m\n\u001b[1;32m   1390\u001b[0m     \u001b[0;32mdef\u001b[0m \u001b[0m_run_search\u001b[0m\u001b[0;34m(\u001b[0m\u001b[0mself\u001b[0m\u001b[0;34m,\u001b[0m \u001b[0mevaluate_candidates\u001b[0m\u001b[0;34m)\u001b[0m\u001b[0;34m:\u001b[0m\u001b[0;34m\u001b[0m\u001b[0;34m\u001b[0m\u001b[0m\n\u001b[1;32m   1391\u001b[0m         \u001b[0;34m\"\"\"Search all candidates in param_grid\"\"\"\u001b[0m\u001b[0;34m\u001b[0m\u001b[0;34m\u001b[0m\u001b[0m\n\u001b[0;32m-> 1392\u001b[0;31m         \u001b[0mevaluate_candidates\u001b[0m\u001b[0;34m(\u001b[0m\u001b[0mParameterGrid\u001b[0m\u001b[0;34m(\u001b[0m\u001b[0mself\u001b[0m\u001b[0;34m.\u001b[0m\u001b[0mparam_grid\u001b[0m\u001b[0;34m)\u001b[0m\u001b[0;34m)\u001b[0m\u001b[0;34m\u001b[0m\u001b[0;34m\u001b[0m\u001b[0m\n\u001b[0m\u001b[1;32m   1393\u001b[0m \u001b[0;34m\u001b[0m\u001b[0m\n\u001b[1;32m   1394\u001b[0m \u001b[0;34m\u001b[0m\u001b[0m\n",
            "\u001b[0;32m/usr/local/lib/python3.7/dist-packages/sklearn/model_selection/_search.py\u001b[0m in \u001b[0;36mevaluate_candidates\u001b[0;34m(candidate_params, cv, more_results)\u001b[0m\n\u001b[1;32m    849\u001b[0m                     )\n\u001b[1;32m    850\u001b[0m                     for (cand_idx, parameters), (split_idx, (train, test)) in product(\n\u001b[0;32m--> 851\u001b[0;31m                         \u001b[0menumerate\u001b[0m\u001b[0;34m(\u001b[0m\u001b[0mcandidate_params\u001b[0m\u001b[0;34m)\u001b[0m\u001b[0;34m,\u001b[0m \u001b[0menumerate\u001b[0m\u001b[0;34m(\u001b[0m\u001b[0mcv\u001b[0m\u001b[0;34m.\u001b[0m\u001b[0msplit\u001b[0m\u001b[0;34m(\u001b[0m\u001b[0mX\u001b[0m\u001b[0;34m,\u001b[0m \u001b[0my\u001b[0m\u001b[0;34m,\u001b[0m \u001b[0mgroups\u001b[0m\u001b[0;34m)\u001b[0m\u001b[0;34m)\u001b[0m\u001b[0;34m\u001b[0m\u001b[0;34m\u001b[0m\u001b[0m\n\u001b[0m\u001b[1;32m    852\u001b[0m                     )\n\u001b[1;32m    853\u001b[0m                 )\n",
            "\u001b[0;32m/usr/local/lib/python3.7/dist-packages/joblib/parallel.py\u001b[0m in \u001b[0;36m__call__\u001b[0;34m(self, iterable)\u001b[0m\n\u001b[1;32m   1044\u001b[0m                 \u001b[0mself\u001b[0m\u001b[0;34m.\u001b[0m\u001b[0m_iterating\u001b[0m \u001b[0;34m=\u001b[0m \u001b[0mself\u001b[0m\u001b[0;34m.\u001b[0m\u001b[0m_original_iterator\u001b[0m \u001b[0;32mis\u001b[0m \u001b[0;32mnot\u001b[0m \u001b[0;32mNone\u001b[0m\u001b[0;34m\u001b[0m\u001b[0;34m\u001b[0m\u001b[0m\n\u001b[1;32m   1045\u001b[0m \u001b[0;34m\u001b[0m\u001b[0m\n\u001b[0;32m-> 1046\u001b[0;31m             \u001b[0;32mwhile\u001b[0m \u001b[0mself\u001b[0m\u001b[0;34m.\u001b[0m\u001b[0mdispatch_one_batch\u001b[0m\u001b[0;34m(\u001b[0m\u001b[0miterator\u001b[0m\u001b[0;34m)\u001b[0m\u001b[0;34m:\u001b[0m\u001b[0;34m\u001b[0m\u001b[0;34m\u001b[0m\u001b[0m\n\u001b[0m\u001b[1;32m   1047\u001b[0m                 \u001b[0;32mpass\u001b[0m\u001b[0;34m\u001b[0m\u001b[0;34m\u001b[0m\u001b[0m\n\u001b[1;32m   1048\u001b[0m \u001b[0;34m\u001b[0m\u001b[0m\n",
            "\u001b[0;32m/usr/local/lib/python3.7/dist-packages/joblib/parallel.py\u001b[0m in \u001b[0;36mdispatch_one_batch\u001b[0;34m(self, iterator)\u001b[0m\n\u001b[1;32m    859\u001b[0m                 \u001b[0;32mreturn\u001b[0m \u001b[0;32mFalse\u001b[0m\u001b[0;34m\u001b[0m\u001b[0;34m\u001b[0m\u001b[0m\n\u001b[1;32m    860\u001b[0m             \u001b[0;32melse\u001b[0m\u001b[0;34m:\u001b[0m\u001b[0;34m\u001b[0m\u001b[0;34m\u001b[0m\u001b[0m\n\u001b[0;32m--> 861\u001b[0;31m                 \u001b[0mself\u001b[0m\u001b[0;34m.\u001b[0m\u001b[0m_dispatch\u001b[0m\u001b[0;34m(\u001b[0m\u001b[0mtasks\u001b[0m\u001b[0;34m)\u001b[0m\u001b[0;34m\u001b[0m\u001b[0;34m\u001b[0m\u001b[0m\n\u001b[0m\u001b[1;32m    862\u001b[0m                 \u001b[0;32mreturn\u001b[0m \u001b[0;32mTrue\u001b[0m\u001b[0;34m\u001b[0m\u001b[0;34m\u001b[0m\u001b[0m\n\u001b[1;32m    863\u001b[0m \u001b[0;34m\u001b[0m\u001b[0m\n",
            "\u001b[0;32m/usr/local/lib/python3.7/dist-packages/joblib/parallel.py\u001b[0m in \u001b[0;36m_dispatch\u001b[0;34m(self, batch)\u001b[0m\n\u001b[1;32m    777\u001b[0m         \u001b[0;32mwith\u001b[0m \u001b[0mself\u001b[0m\u001b[0;34m.\u001b[0m\u001b[0m_lock\u001b[0m\u001b[0;34m:\u001b[0m\u001b[0;34m\u001b[0m\u001b[0;34m\u001b[0m\u001b[0m\n\u001b[1;32m    778\u001b[0m             \u001b[0mjob_idx\u001b[0m \u001b[0;34m=\u001b[0m \u001b[0mlen\u001b[0m\u001b[0;34m(\u001b[0m\u001b[0mself\u001b[0m\u001b[0;34m.\u001b[0m\u001b[0m_jobs\u001b[0m\u001b[0;34m)\u001b[0m\u001b[0;34m\u001b[0m\u001b[0;34m\u001b[0m\u001b[0m\n\u001b[0;32m--> 779\u001b[0;31m             \u001b[0mjob\u001b[0m \u001b[0;34m=\u001b[0m \u001b[0mself\u001b[0m\u001b[0;34m.\u001b[0m\u001b[0m_backend\u001b[0m\u001b[0;34m.\u001b[0m\u001b[0mapply_async\u001b[0m\u001b[0;34m(\u001b[0m\u001b[0mbatch\u001b[0m\u001b[0;34m,\u001b[0m \u001b[0mcallback\u001b[0m\u001b[0;34m=\u001b[0m\u001b[0mcb\u001b[0m\u001b[0;34m)\u001b[0m\u001b[0;34m\u001b[0m\u001b[0;34m\u001b[0m\u001b[0m\n\u001b[0m\u001b[1;32m    780\u001b[0m             \u001b[0;31m# A job can complete so quickly than its callback is\u001b[0m\u001b[0;34m\u001b[0m\u001b[0;34m\u001b[0m\u001b[0;34m\u001b[0m\u001b[0m\n\u001b[1;32m    781\u001b[0m             \u001b[0;31m# called before we get here, causing self._jobs to\u001b[0m\u001b[0;34m\u001b[0m\u001b[0;34m\u001b[0m\u001b[0;34m\u001b[0m\u001b[0m\n",
            "\u001b[0;32m/usr/local/lib/python3.7/dist-packages/joblib/_parallel_backends.py\u001b[0m in \u001b[0;36mapply_async\u001b[0;34m(self, func, callback)\u001b[0m\n\u001b[1;32m    206\u001b[0m     \u001b[0;32mdef\u001b[0m \u001b[0mapply_async\u001b[0m\u001b[0;34m(\u001b[0m\u001b[0mself\u001b[0m\u001b[0;34m,\u001b[0m \u001b[0mfunc\u001b[0m\u001b[0;34m,\u001b[0m \u001b[0mcallback\u001b[0m\u001b[0;34m=\u001b[0m\u001b[0;32mNone\u001b[0m\u001b[0;34m)\u001b[0m\u001b[0;34m:\u001b[0m\u001b[0;34m\u001b[0m\u001b[0;34m\u001b[0m\u001b[0m\n\u001b[1;32m    207\u001b[0m         \u001b[0;34m\"\"\"Schedule a func to be run\"\"\"\u001b[0m\u001b[0;34m\u001b[0m\u001b[0;34m\u001b[0m\u001b[0m\n\u001b[0;32m--> 208\u001b[0;31m         \u001b[0mresult\u001b[0m \u001b[0;34m=\u001b[0m \u001b[0mImmediateResult\u001b[0m\u001b[0;34m(\u001b[0m\u001b[0mfunc\u001b[0m\u001b[0;34m)\u001b[0m\u001b[0;34m\u001b[0m\u001b[0;34m\u001b[0m\u001b[0m\n\u001b[0m\u001b[1;32m    209\u001b[0m         \u001b[0;32mif\u001b[0m \u001b[0mcallback\u001b[0m\u001b[0;34m:\u001b[0m\u001b[0;34m\u001b[0m\u001b[0;34m\u001b[0m\u001b[0m\n\u001b[1;32m    210\u001b[0m             \u001b[0mcallback\u001b[0m\u001b[0;34m(\u001b[0m\u001b[0mresult\u001b[0m\u001b[0;34m)\u001b[0m\u001b[0;34m\u001b[0m\u001b[0;34m\u001b[0m\u001b[0m\n",
            "\u001b[0;32m/usr/local/lib/python3.7/dist-packages/joblib/_parallel_backends.py\u001b[0m in \u001b[0;36m__init__\u001b[0;34m(self, batch)\u001b[0m\n\u001b[1;32m    570\u001b[0m         \u001b[0;31m# Don't delay the application, to avoid keeping the input\u001b[0m\u001b[0;34m\u001b[0m\u001b[0;34m\u001b[0m\u001b[0;34m\u001b[0m\u001b[0m\n\u001b[1;32m    571\u001b[0m         \u001b[0;31m# arguments in memory\u001b[0m\u001b[0;34m\u001b[0m\u001b[0;34m\u001b[0m\u001b[0;34m\u001b[0m\u001b[0m\n\u001b[0;32m--> 572\u001b[0;31m         \u001b[0mself\u001b[0m\u001b[0;34m.\u001b[0m\u001b[0mresults\u001b[0m \u001b[0;34m=\u001b[0m \u001b[0mbatch\u001b[0m\u001b[0;34m(\u001b[0m\u001b[0;34m)\u001b[0m\u001b[0;34m\u001b[0m\u001b[0;34m\u001b[0m\u001b[0m\n\u001b[0m\u001b[1;32m    573\u001b[0m \u001b[0;34m\u001b[0m\u001b[0m\n\u001b[1;32m    574\u001b[0m     \u001b[0;32mdef\u001b[0m \u001b[0mget\u001b[0m\u001b[0;34m(\u001b[0m\u001b[0mself\u001b[0m\u001b[0;34m)\u001b[0m\u001b[0;34m:\u001b[0m\u001b[0;34m\u001b[0m\u001b[0;34m\u001b[0m\u001b[0m\n",
            "\u001b[0;32m/usr/local/lib/python3.7/dist-packages/joblib/parallel.py\u001b[0m in \u001b[0;36m__call__\u001b[0;34m(self)\u001b[0m\n\u001b[1;32m    261\u001b[0m         \u001b[0;32mwith\u001b[0m \u001b[0mparallel_backend\u001b[0m\u001b[0;34m(\u001b[0m\u001b[0mself\u001b[0m\u001b[0;34m.\u001b[0m\u001b[0m_backend\u001b[0m\u001b[0;34m,\u001b[0m \u001b[0mn_jobs\u001b[0m\u001b[0;34m=\u001b[0m\u001b[0mself\u001b[0m\u001b[0;34m.\u001b[0m\u001b[0m_n_jobs\u001b[0m\u001b[0;34m)\u001b[0m\u001b[0;34m:\u001b[0m\u001b[0;34m\u001b[0m\u001b[0;34m\u001b[0m\u001b[0m\n\u001b[1;32m    262\u001b[0m             return [func(*args, **kwargs)\n\u001b[0;32m--> 263\u001b[0;31m                     for func, args, kwargs in self.items]\n\u001b[0m\u001b[1;32m    264\u001b[0m \u001b[0;34m\u001b[0m\u001b[0m\n\u001b[1;32m    265\u001b[0m     \u001b[0;32mdef\u001b[0m \u001b[0m__reduce__\u001b[0m\u001b[0;34m(\u001b[0m\u001b[0mself\u001b[0m\u001b[0;34m)\u001b[0m\u001b[0;34m:\u001b[0m\u001b[0;34m\u001b[0m\u001b[0;34m\u001b[0m\u001b[0m\n",
            "\u001b[0;32m/usr/local/lib/python3.7/dist-packages/joblib/parallel.py\u001b[0m in \u001b[0;36m<listcomp>\u001b[0;34m(.0)\u001b[0m\n\u001b[1;32m    261\u001b[0m         \u001b[0;32mwith\u001b[0m \u001b[0mparallel_backend\u001b[0m\u001b[0;34m(\u001b[0m\u001b[0mself\u001b[0m\u001b[0;34m.\u001b[0m\u001b[0m_backend\u001b[0m\u001b[0;34m,\u001b[0m \u001b[0mn_jobs\u001b[0m\u001b[0;34m=\u001b[0m\u001b[0mself\u001b[0m\u001b[0;34m.\u001b[0m\u001b[0m_n_jobs\u001b[0m\u001b[0;34m)\u001b[0m\u001b[0;34m:\u001b[0m\u001b[0;34m\u001b[0m\u001b[0;34m\u001b[0m\u001b[0m\n\u001b[1;32m    262\u001b[0m             return [func(*args, **kwargs)\n\u001b[0;32m--> 263\u001b[0;31m                     for func, args, kwargs in self.items]\n\u001b[0m\u001b[1;32m    264\u001b[0m \u001b[0;34m\u001b[0m\u001b[0m\n\u001b[1;32m    265\u001b[0m     \u001b[0;32mdef\u001b[0m \u001b[0m__reduce__\u001b[0m\u001b[0;34m(\u001b[0m\u001b[0mself\u001b[0m\u001b[0;34m)\u001b[0m\u001b[0;34m:\u001b[0m\u001b[0;34m\u001b[0m\u001b[0;34m\u001b[0m\u001b[0m\n",
            "\u001b[0;32m/usr/local/lib/python3.7/dist-packages/sklearn/utils/fixes.py\u001b[0m in \u001b[0;36m__call__\u001b[0;34m(self, *args, **kwargs)\u001b[0m\n\u001b[1;32m    214\u001b[0m     \u001b[0;32mdef\u001b[0m \u001b[0m__call__\u001b[0m\u001b[0;34m(\u001b[0m\u001b[0mself\u001b[0m\u001b[0;34m,\u001b[0m \u001b[0;34m*\u001b[0m\u001b[0margs\u001b[0m\u001b[0;34m,\u001b[0m \u001b[0;34m**\u001b[0m\u001b[0mkwargs\u001b[0m\u001b[0;34m)\u001b[0m\u001b[0;34m:\u001b[0m\u001b[0;34m\u001b[0m\u001b[0;34m\u001b[0m\u001b[0m\n\u001b[1;32m    215\u001b[0m         \u001b[0;32mwith\u001b[0m \u001b[0mconfig_context\u001b[0m\u001b[0;34m(\u001b[0m\u001b[0;34m**\u001b[0m\u001b[0mself\u001b[0m\u001b[0;34m.\u001b[0m\u001b[0mconfig\u001b[0m\u001b[0;34m)\u001b[0m\u001b[0;34m:\u001b[0m\u001b[0;34m\u001b[0m\u001b[0;34m\u001b[0m\u001b[0m\n\u001b[0;32m--> 216\u001b[0;31m             \u001b[0;32mreturn\u001b[0m \u001b[0mself\u001b[0m\u001b[0;34m.\u001b[0m\u001b[0mfunction\u001b[0m\u001b[0;34m(\u001b[0m\u001b[0;34m*\u001b[0m\u001b[0margs\u001b[0m\u001b[0;34m,\u001b[0m \u001b[0;34m**\u001b[0m\u001b[0mkwargs\u001b[0m\u001b[0;34m)\u001b[0m\u001b[0;34m\u001b[0m\u001b[0;34m\u001b[0m\u001b[0m\n\u001b[0m\u001b[1;32m    217\u001b[0m \u001b[0;34m\u001b[0m\u001b[0m\n\u001b[1;32m    218\u001b[0m \u001b[0;34m\u001b[0m\u001b[0m\n",
            "\u001b[0;32m/usr/local/lib/python3.7/dist-packages/sklearn/model_selection/_validation.py\u001b[0m in \u001b[0;36m_fit_and_score\u001b[0;34m(estimator, X, y, scorer, train, test, verbose, parameters, fit_params, return_train_score, return_parameters, return_n_test_samples, return_times, return_estimator, split_progress, candidate_progress, error_score)\u001b[0m\n\u001b[1;32m    678\u001b[0m             \u001b[0mestimator\u001b[0m\u001b[0;34m.\u001b[0m\u001b[0mfit\u001b[0m\u001b[0;34m(\u001b[0m\u001b[0mX_train\u001b[0m\u001b[0;34m,\u001b[0m \u001b[0;34m**\u001b[0m\u001b[0mfit_params\u001b[0m\u001b[0;34m)\u001b[0m\u001b[0;34m\u001b[0m\u001b[0;34m\u001b[0m\u001b[0m\n\u001b[1;32m    679\u001b[0m         \u001b[0;32melse\u001b[0m\u001b[0;34m:\u001b[0m\u001b[0;34m\u001b[0m\u001b[0;34m\u001b[0m\u001b[0m\n\u001b[0;32m--> 680\u001b[0;31m             \u001b[0mestimator\u001b[0m\u001b[0;34m.\u001b[0m\u001b[0mfit\u001b[0m\u001b[0;34m(\u001b[0m\u001b[0mX_train\u001b[0m\u001b[0;34m,\u001b[0m \u001b[0my_train\u001b[0m\u001b[0;34m,\u001b[0m \u001b[0;34m**\u001b[0m\u001b[0mfit_params\u001b[0m\u001b[0;34m)\u001b[0m\u001b[0;34m\u001b[0m\u001b[0;34m\u001b[0m\u001b[0m\n\u001b[0m\u001b[1;32m    681\u001b[0m \u001b[0;34m\u001b[0m\u001b[0m\n\u001b[1;32m    682\u001b[0m     \u001b[0;32mexcept\u001b[0m \u001b[0mException\u001b[0m\u001b[0;34m:\u001b[0m\u001b[0;34m\u001b[0m\u001b[0;34m\u001b[0m\u001b[0m\n",
            "\u001b[0;32m/usr/local/lib/python3.7/dist-packages/sklearn/naive_bayes.py\u001b[0m in \u001b[0;36mfit\u001b[0;34m(self, X, y, sample_weight)\u001b[0m\n\u001b[1;32m    688\u001b[0m         \u001b[0mn_classes\u001b[0m \u001b[0;34m=\u001b[0m \u001b[0mY\u001b[0m\u001b[0;34m.\u001b[0m\u001b[0mshape\u001b[0m\u001b[0;34m[\u001b[0m\u001b[0;36m1\u001b[0m\u001b[0;34m]\u001b[0m\u001b[0;34m\u001b[0m\u001b[0;34m\u001b[0m\u001b[0m\n\u001b[1;32m    689\u001b[0m         \u001b[0mself\u001b[0m\u001b[0;34m.\u001b[0m\u001b[0m_init_counters\u001b[0m\u001b[0;34m(\u001b[0m\u001b[0mn_classes\u001b[0m\u001b[0;34m,\u001b[0m \u001b[0mn_features\u001b[0m\u001b[0;34m)\u001b[0m\u001b[0;34m\u001b[0m\u001b[0;34m\u001b[0m\u001b[0m\n\u001b[0;32m--> 690\u001b[0;31m         \u001b[0mself\u001b[0m\u001b[0;34m.\u001b[0m\u001b[0m_count\u001b[0m\u001b[0;34m(\u001b[0m\u001b[0mX\u001b[0m\u001b[0;34m,\u001b[0m \u001b[0mY\u001b[0m\u001b[0;34m)\u001b[0m\u001b[0;34m\u001b[0m\u001b[0;34m\u001b[0m\u001b[0m\n\u001b[0m\u001b[1;32m    691\u001b[0m         \u001b[0malpha\u001b[0m \u001b[0;34m=\u001b[0m \u001b[0mself\u001b[0m\u001b[0;34m.\u001b[0m\u001b[0m_check_alpha\u001b[0m\u001b[0;34m(\u001b[0m\u001b[0;34m)\u001b[0m\u001b[0;34m\u001b[0m\u001b[0;34m\u001b[0m\u001b[0m\n\u001b[1;32m    692\u001b[0m         \u001b[0mself\u001b[0m\u001b[0;34m.\u001b[0m\u001b[0m_update_feature_log_prob\u001b[0m\u001b[0;34m(\u001b[0m\u001b[0malpha\u001b[0m\u001b[0;34m)\u001b[0m\u001b[0;34m\u001b[0m\u001b[0;34m\u001b[0m\u001b[0m\n",
            "\u001b[0;32m/usr/local/lib/python3.7/dist-packages/sklearn/naive_bayes.py\u001b[0m in \u001b[0;36m_count\u001b[0;34m(self, X, Y)\u001b[0m\n\u001b[1;32m    862\u001b[0m         \u001b[0;34m\"\"\"Count and smooth feature occurrences.\"\"\"\u001b[0m\u001b[0;34m\u001b[0m\u001b[0;34m\u001b[0m\u001b[0m\n\u001b[1;32m    863\u001b[0m         \u001b[0mcheck_non_negative\u001b[0m\u001b[0;34m(\u001b[0m\u001b[0mX\u001b[0m\u001b[0;34m,\u001b[0m \u001b[0;34m\"MultinomialNB (input X)\"\u001b[0m\u001b[0;34m)\u001b[0m\u001b[0;34m\u001b[0m\u001b[0;34m\u001b[0m\u001b[0m\n\u001b[0;32m--> 864\u001b[0;31m         \u001b[0mself\u001b[0m\u001b[0;34m.\u001b[0m\u001b[0mfeature_count_\u001b[0m \u001b[0;34m+=\u001b[0m \u001b[0msafe_sparse_dot\u001b[0m\u001b[0;34m(\u001b[0m\u001b[0mY\u001b[0m\u001b[0;34m.\u001b[0m\u001b[0mT\u001b[0m\u001b[0;34m,\u001b[0m \u001b[0mX\u001b[0m\u001b[0;34m)\u001b[0m\u001b[0;34m\u001b[0m\u001b[0;34m\u001b[0m\u001b[0m\n\u001b[0m\u001b[1;32m    865\u001b[0m         \u001b[0mself\u001b[0m\u001b[0;34m.\u001b[0m\u001b[0mclass_count_\u001b[0m \u001b[0;34m+=\u001b[0m \u001b[0mY\u001b[0m\u001b[0;34m.\u001b[0m\u001b[0msum\u001b[0m\u001b[0;34m(\u001b[0m\u001b[0maxis\u001b[0m\u001b[0;34m=\u001b[0m\u001b[0;36m0\u001b[0m\u001b[0;34m)\u001b[0m\u001b[0;34m\u001b[0m\u001b[0;34m\u001b[0m\u001b[0m\n\u001b[1;32m    866\u001b[0m \u001b[0;34m\u001b[0m\u001b[0m\n",
            "\u001b[0;32m/usr/local/lib/python3.7/dist-packages/sklearn/utils/extmath.py\u001b[0m in \u001b[0;36msafe_sparse_dot\u001b[0;34m(a, b, dense_output)\u001b[0m\n\u001b[1;32m    151\u001b[0m             \u001b[0mret\u001b[0m \u001b[0;34m=\u001b[0m \u001b[0mnp\u001b[0m\u001b[0;34m.\u001b[0m\u001b[0mdot\u001b[0m\u001b[0;34m(\u001b[0m\u001b[0ma\u001b[0m\u001b[0;34m,\u001b[0m \u001b[0mb\u001b[0m\u001b[0;34m)\u001b[0m\u001b[0;34m\u001b[0m\u001b[0;34m\u001b[0m\u001b[0m\n\u001b[1;32m    152\u001b[0m     \u001b[0;32melse\u001b[0m\u001b[0;34m:\u001b[0m\u001b[0;34m\u001b[0m\u001b[0;34m\u001b[0m\u001b[0m\n\u001b[0;32m--> 153\u001b[0;31m         \u001b[0mret\u001b[0m \u001b[0;34m=\u001b[0m \u001b[0ma\u001b[0m \u001b[0;34m@\u001b[0m \u001b[0mb\u001b[0m\u001b[0;34m\u001b[0m\u001b[0;34m\u001b[0m\u001b[0m\n\u001b[0m\u001b[1;32m    154\u001b[0m \u001b[0;34m\u001b[0m\u001b[0m\n\u001b[1;32m    155\u001b[0m     if (\n",
            "\u001b[0;31mKeyboardInterrupt\u001b[0m: "
          ]
        }
      ],
      "source": [
        "dirpath = \"/content/drive/MyDrive/PLI/results_github\"\n",
        "results, outputs = build_ngram_model(8)"
      ]
    },
    {
      "cell_type": "code",
      "execution_count": null,
      "metadata": {
        "id": "9adRe19ALNuy",
        "colab": {
          "base_uri": "https://localhost:8080/",
          "height": 702
        },
        "outputId": "b41cbc23-55c6-4fab-db4c-7913b79c2a76"
      },
      "outputs": [
        {
          "output_type": "stream",
          "name": "stdout",
          "text": [
            "Train: (44014, 6170)\n",
            "Test : (11004, 6170)\n",
            "Training LinearSVC(dual=False)\n",
            "Fitting 5 folds for each of 5 candidates, totalling 25 fits\n",
            "\n",
            "Best Estimator: LinearSVC(C=0.01, dual=False)\n",
            "\n",
            "Train and validation time: 286.5843 seconds\n",
            "\n",
            "Test time: 0.5822 seconds\n",
            "\n",
            "Classification report:\n",
            "              precision    recall  f1-score   support\n",
            "\n",
            "         dgo     0.9995    0.9960    0.9978      2004\n",
            "         gbm     0.9900    0.9883    0.9892      3000\n",
            "         kfy     0.9854    0.9900    0.9877      3000\n",
            "         npi     0.9987    0.9980    0.9983      3000\n",
            "\n",
            "    accuracy                         0.9928     11004\n",
            "   macro avg     0.9934    0.9931    0.9932     11004\n",
            "weighted avg     0.9928    0.9928    0.9928     11004\n",
            "\n",
            "\n",
            "Confusion matrix:\n"
          ]
        },
        {
          "output_type": "display_data",
          "data": {
            "image/png": "[encoded data removed]",
            "text/plain": [
              "<Figure size 432x288 with 1 Axes>"
            ]
          },
          "metadata": {
            "needs_background": "light"
          }
        }
      ],
      "source": [
        "# save classification report corresponding to the best model: char_14, svm\n",
        "\n",
        "z = ngrams(term='char', ngram_range=(1, 4), min_df=0.005)\n",
        "X_tr, X_ts = z['tr_char_14'].toarray(), z['ts_char_14'].toarray()\n",
        "\n",
        "print(\"Train:\", X_tr.shape)\n",
        "print(\"Test :\", X_ts.shape)\n",
        "\n",
        "clf = LinearSVC(dual=False)\n",
        "params = {'C': np.power(10, np.arange(-3, 2, dtype=float))}\n",
        "best_param, tr_val_time, ts_time, scores, cm_disp, y_pred = classifier(clf, params, X_tr, y_tr, X_ts, y_ts)\n",
        "\n",
        "confmx = pd.DataFrame(cm_disp.confusion_matrix, index=label.keys(), columns=label.keys())\n",
        "output = pd.DataFrame(data={'test sentences': ts_text, 'target': y_ts, 'predicted': y_pred})"
      ]
    },
    {
      "cell_type": "code",
      "source": [
        "# save the results\n",
        "scores.to_csv('scores.csv')\n",
        "confmx.to_csv('confusion_matrix.csv')\n",
        "output.to_excel('output.xls')"
      ],
      "metadata": {
        "id": "MXpgnxvFDTqi"
      },
      "execution_count": null,
      "outputs": []
    },
    {
      "cell_type": "code",
      "source": [
        ""
      ],
      "metadata": {
        "id": "Bpm-gompDW61"
      },
      "execution_count": null,
      "outputs": []
    }
  ],
  "metadata": {
    "accelerator": "TPU",
    "colab": {
      "collapsed_sections": [],
      "name": "PLI_github.ipynb",
      "provenance": [],
      "include_colab_link": true
    },
    "kernelspec": {
      "display_name": "Python 3",
      "language": "python",
      "name": "python3"
    },
    "language_info": {
      "codemirror_mode": {
        "name": "ipython",
        "version": 3
      },
      "file_extension": ".py",
      "mimetype": "text/x-python",
      "name": "python",
      "nbconvert_exporter": "python",
      "pygments_lexer": "ipython3",
      "version": "3.6.7"
    }
  },
  "nbformat": 4,
  "nbformat_minor": 0
}